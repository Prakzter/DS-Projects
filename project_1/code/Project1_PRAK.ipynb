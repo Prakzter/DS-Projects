{
 "cells": [
  {
   "cell_type": "markdown",
   "metadata": {},
   "source": [
    "# Project 1: Analysis of SAT & ACT scores across US states"
   ]
  },
  {
   "cell_type": "markdown",
   "metadata": {},
   "source": [
    "\n",
    "## Problem Statement"
   ]
  },
  {
   "cell_type": "markdown",
   "metadata": {},
   "source": [
    "Analyze trends in SAT & ACT data from 2017 & 2018 and make recommendations to increase participation in the SATs of one particular state"
   ]
  },
  {
   "cell_type": "markdown",
   "metadata": {},
   "source": [
    "## Executive Summary\n",
    "\n",
    "The new format for the SAT was released in March 2016. As part of College Board - the organization that administers the SAT - our team has tracked statewide participation to make recommendations where money should be best spent to improve SAT participation rates. This report uses the provided data and outside research to propose how College Board might work to increase the participation rate in the <b>state of Virginia</b>.\n",
    "\n",
    "<u>Here are some key findings:</u>\n",
    "\n",
    "1) A higher participation rate can only be achieved by the state making either test mandatory and providing the necessary funding to make it affordable for students.\n",
    "* For example, Ohio state had made either ACT or SAT compulsory for high school students. This resulted both test participation rates to increase YOY.\n",
    "    \n",
    "2) Overall SAT scores improved in year 2018 despite the higher participation rate comparing to previous year, while ACT score remains relatively stable.\n",
    "\n",
    "3) Factors such as choosing to go to a neighbouring state influenced the preference between SAT and ACT.\n",
    "* For example, in South and North Carolina, even though they had 100 % ACT participation due to state funding, their SAT participation was above 50%, indicating that students were preparing to enrol in colleges in the upper East Coast\n",
    "\n",
    "<br>\n",
    "\n",
    "## Contents:\n",
    "- [2017 Data Import & Cleaning](#Data-Import-and-Cleaning)\n",
    "- [2018 Data Import and Cleaning](#2018-Data-Import-and-Cleaning)\n",
    "- [Exploratory Data Analysis](#Exploratory-Data-Analysis)\n",
    "- [Data Visualization](#Visualize-the-data)\n",
    "- [Descriptive and Inferential Statistics](#Descriptive-and-Inferential-Statistics)\n",
    "- [Outside Research](#Outside-Research)\n",
    "- [Conclusions and Recommendations](#Conclusions-and-Recommendations)"
   ]
  },
  {
   "cell_type": "markdown",
   "metadata": {},
   "source": [
    "#### Loading libraries"
   ]
  },
  {
   "cell_type": "code",
   "execution_count": 1,
   "metadata": {},
   "outputs": [],
   "source": [
    "import numpy as np\n",
    "import pandas as pd\n",
    "import matplotlib.pyplot as plt\n",
    "import seaborn as sns\n",
    "from scipy import stats\n"
   ]
  },
  {
   "cell_type": "markdown",
   "metadata": {},
   "source": [
    "## 2017 Data Import and Cleaning"
   ]
  },
  {
   "cell_type": "markdown",
   "metadata": {},
   "source": [
    "#### 1. Read In SAT & ACT  Data\n"
   ]
  },
  {
   "cell_type": "code",
   "execution_count": 2,
   "metadata": {},
   "outputs": [],
   "source": [
    "sat_2017 = pd.read_csv('../data/sat_2017.csv')\n",
    "act_2017 = pd.read_csv('../data/act_2017.csv')"
   ]
  },
  {
   "cell_type": "markdown",
   "metadata": {},
   "source": [
    "#### 2. Display Data\n"
   ]
  },
  {
   "cell_type": "code",
   "execution_count": 3,
   "metadata": {},
   "outputs": [
    {
     "data": {
      "text/html": [
       "<div>\n",
       "<style scoped>\n",
       "    .dataframe tbody tr th:only-of-type {\n",
       "        vertical-align: middle;\n",
       "    }\n",
       "\n",
       "    .dataframe tbody tr th {\n",
       "        vertical-align: top;\n",
       "    }\n",
       "\n",
       "    .dataframe thead th {\n",
       "        text-align: right;\n",
       "    }\n",
       "</style>\n",
       "<table border=\"1\" class=\"dataframe\">\n",
       "  <thead>\n",
       "    <tr style=\"text-align: right;\">\n",
       "      <th></th>\n",
       "      <th>State</th>\n",
       "      <th>Participation</th>\n",
       "      <th>Evidence-Based Reading and Writing</th>\n",
       "      <th>Math</th>\n",
       "      <th>Total</th>\n",
       "    </tr>\n",
       "  </thead>\n",
       "  <tbody>\n",
       "    <tr>\n",
       "      <th>0</th>\n",
       "      <td>Alabama</td>\n",
       "      <td>5%</td>\n",
       "      <td>593</td>\n",
       "      <td>572</td>\n",
       "      <td>1165</td>\n",
       "    </tr>\n",
       "    <tr>\n",
       "      <th>1</th>\n",
       "      <td>Alaska</td>\n",
       "      <td>38%</td>\n",
       "      <td>547</td>\n",
       "      <td>533</td>\n",
       "      <td>1080</td>\n",
       "    </tr>\n",
       "    <tr>\n",
       "      <th>2</th>\n",
       "      <td>Arizona</td>\n",
       "      <td>30%</td>\n",
       "      <td>563</td>\n",
       "      <td>553</td>\n",
       "      <td>1116</td>\n",
       "    </tr>\n",
       "    <tr>\n",
       "      <th>3</th>\n",
       "      <td>Arkansas</td>\n",
       "      <td>3%</td>\n",
       "      <td>614</td>\n",
       "      <td>594</td>\n",
       "      <td>1208</td>\n",
       "    </tr>\n",
       "    <tr>\n",
       "      <th>4</th>\n",
       "      <td>California</td>\n",
       "      <td>53%</td>\n",
       "      <td>531</td>\n",
       "      <td>524</td>\n",
       "      <td>1055</td>\n",
       "    </tr>\n",
       "    <tr>\n",
       "      <th>5</th>\n",
       "      <td>Colorado</td>\n",
       "      <td>11%</td>\n",
       "      <td>606</td>\n",
       "      <td>595</td>\n",
       "      <td>1201</td>\n",
       "    </tr>\n",
       "    <tr>\n",
       "      <th>6</th>\n",
       "      <td>Connecticut</td>\n",
       "      <td>100%</td>\n",
       "      <td>530</td>\n",
       "      <td>512</td>\n",
       "      <td>1041</td>\n",
       "    </tr>\n",
       "    <tr>\n",
       "      <th>7</th>\n",
       "      <td>Delaware</td>\n",
       "      <td>100%</td>\n",
       "      <td>503</td>\n",
       "      <td>492</td>\n",
       "      <td>996</td>\n",
       "    </tr>\n",
       "    <tr>\n",
       "      <th>8</th>\n",
       "      <td>District of Columbia</td>\n",
       "      <td>100%</td>\n",
       "      <td>482</td>\n",
       "      <td>468</td>\n",
       "      <td>950</td>\n",
       "    </tr>\n",
       "    <tr>\n",
       "      <th>9</th>\n",
       "      <td>Florida</td>\n",
       "      <td>83%</td>\n",
       "      <td>520</td>\n",
       "      <td>497</td>\n",
       "      <td>1017</td>\n",
       "    </tr>\n",
       "  </tbody>\n",
       "</table>\n",
       "</div>"
      ],
      "text/plain": [
       "                  State Participation  Evidence-Based Reading and Writing  \\\n",
       "0               Alabama            5%                                 593   \n",
       "1                Alaska           38%                                 547   \n",
       "2               Arizona           30%                                 563   \n",
       "3              Arkansas            3%                                 614   \n",
       "4            California           53%                                 531   \n",
       "5              Colorado           11%                                 606   \n",
       "6           Connecticut          100%                                 530   \n",
       "7              Delaware          100%                                 503   \n",
       "8  District of Columbia          100%                                 482   \n",
       "9               Florida           83%                                 520   \n",
       "\n",
       "   Math  Total  \n",
       "0   572   1165  \n",
       "1   533   1080  \n",
       "2   553   1116  \n",
       "3   594   1208  \n",
       "4   524   1055  \n",
       "5   595   1201  \n",
       "6   512   1041  \n",
       "7   492    996  \n",
       "8   468    950  \n",
       "9   497   1017  "
      ]
     },
     "execution_count": 3,
     "metadata": {},
     "output_type": "execute_result"
    }
   ],
   "source": [
    "sat_2017.head(10)"
   ]
  },
  {
   "cell_type": "code",
   "execution_count": 4,
   "metadata": {},
   "outputs": [
    {
     "data": {
      "text/html": [
       "<div>\n",
       "<style scoped>\n",
       "    .dataframe tbody tr th:only-of-type {\n",
       "        vertical-align: middle;\n",
       "    }\n",
       "\n",
       "    .dataframe tbody tr th {\n",
       "        vertical-align: top;\n",
       "    }\n",
       "\n",
       "    .dataframe thead th {\n",
       "        text-align: right;\n",
       "    }\n",
       "</style>\n",
       "<table border=\"1\" class=\"dataframe\">\n",
       "  <thead>\n",
       "    <tr style=\"text-align: right;\">\n",
       "      <th></th>\n",
       "      <th>State</th>\n",
       "      <th>Participation</th>\n",
       "      <th>English</th>\n",
       "      <th>Math</th>\n",
       "      <th>Reading</th>\n",
       "      <th>Science</th>\n",
       "      <th>Composite</th>\n",
       "    </tr>\n",
       "  </thead>\n",
       "  <tbody>\n",
       "    <tr>\n",
       "      <th>42</th>\n",
       "      <td>South Dakota</td>\n",
       "      <td>80%</td>\n",
       "      <td>20.7</td>\n",
       "      <td>21.5</td>\n",
       "      <td>22.3</td>\n",
       "      <td>22.0</td>\n",
       "      <td>21.8</td>\n",
       "    </tr>\n",
       "    <tr>\n",
       "      <th>43</th>\n",
       "      <td>Tennessee</td>\n",
       "      <td>100%</td>\n",
       "      <td>19.5</td>\n",
       "      <td>19.2</td>\n",
       "      <td>20.1</td>\n",
       "      <td>19.9</td>\n",
       "      <td>19.8</td>\n",
       "    </tr>\n",
       "    <tr>\n",
       "      <th>44</th>\n",
       "      <td>Texas</td>\n",
       "      <td>45%</td>\n",
       "      <td>19.5</td>\n",
       "      <td>20.7</td>\n",
       "      <td>21.1</td>\n",
       "      <td>20.9</td>\n",
       "      <td>20.7</td>\n",
       "    </tr>\n",
       "    <tr>\n",
       "      <th>45</th>\n",
       "      <td>Utah</td>\n",
       "      <td>100%</td>\n",
       "      <td>19.5</td>\n",
       "      <td>19.9</td>\n",
       "      <td>20.8</td>\n",
       "      <td>20.6</td>\n",
       "      <td>20.3</td>\n",
       "    </tr>\n",
       "    <tr>\n",
       "      <th>46</th>\n",
       "      <td>Vermont</td>\n",
       "      <td>29%</td>\n",
       "      <td>23.3</td>\n",
       "      <td>23.1</td>\n",
       "      <td>24.4</td>\n",
       "      <td>23.2</td>\n",
       "      <td>23.6</td>\n",
       "    </tr>\n",
       "    <tr>\n",
       "      <th>47</th>\n",
       "      <td>Virginia</td>\n",
       "      <td>29%</td>\n",
       "      <td>23.5</td>\n",
       "      <td>23.3</td>\n",
       "      <td>24.6</td>\n",
       "      <td>23.5</td>\n",
       "      <td>23.8</td>\n",
       "    </tr>\n",
       "    <tr>\n",
       "      <th>48</th>\n",
       "      <td>Washington</td>\n",
       "      <td>29%</td>\n",
       "      <td>20.9</td>\n",
       "      <td>21.9</td>\n",
       "      <td>22.1</td>\n",
       "      <td>22.0</td>\n",
       "      <td>21.9</td>\n",
       "    </tr>\n",
       "    <tr>\n",
       "      <th>49</th>\n",
       "      <td>West Virginia</td>\n",
       "      <td>69%</td>\n",
       "      <td>20.0</td>\n",
       "      <td>19.4</td>\n",
       "      <td>21.2</td>\n",
       "      <td>20.5</td>\n",
       "      <td>20.4</td>\n",
       "    </tr>\n",
       "    <tr>\n",
       "      <th>50</th>\n",
       "      <td>Wisconsin</td>\n",
       "      <td>100%</td>\n",
       "      <td>19.7</td>\n",
       "      <td>20.4</td>\n",
       "      <td>20.6</td>\n",
       "      <td>20.9</td>\n",
       "      <td>20.5</td>\n",
       "    </tr>\n",
       "    <tr>\n",
       "      <th>51</th>\n",
       "      <td>Wyoming</td>\n",
       "      <td>100%</td>\n",
       "      <td>19.4</td>\n",
       "      <td>19.8</td>\n",
       "      <td>20.8</td>\n",
       "      <td>20.6</td>\n",
       "      <td>20.2x</td>\n",
       "    </tr>\n",
       "  </tbody>\n",
       "</table>\n",
       "</div>"
      ],
      "text/plain": [
       "            State Participation  English  Math  Reading  Science Composite\n",
       "42   South Dakota           80%     20.7  21.5     22.3     22.0      21.8\n",
       "43      Tennessee          100%     19.5  19.2     20.1     19.9      19.8\n",
       "44          Texas           45%     19.5  20.7     21.1     20.9      20.7\n",
       "45           Utah          100%     19.5  19.9     20.8     20.6      20.3\n",
       "46        Vermont           29%     23.3  23.1     24.4     23.2      23.6\n",
       "47       Virginia           29%     23.5  23.3     24.6     23.5      23.8\n",
       "48     Washington           29%     20.9  21.9     22.1     22.0      21.9\n",
       "49  West Virginia           69%     20.0  19.4     21.2     20.5      20.4\n",
       "50      Wisconsin          100%     19.7  20.4     20.6     20.9      20.5\n",
       "51        Wyoming          100%     19.4  19.8     20.8     20.6     20.2x"
      ]
     },
     "execution_count": 4,
     "metadata": {},
     "output_type": "execute_result"
    }
   ],
   "source": [
    "act_2017.tail(10)"
   ]
  },
  {
   "cell_type": "code",
   "execution_count": 5,
   "metadata": {},
   "outputs": [
    {
     "name": "stdout",
     "output_type": "stream",
     "text": [
      "<class 'pandas.core.frame.DataFrame'>\n",
      "RangeIndex: 51 entries, 0 to 50\n",
      "Data columns (total 5 columns):\n",
      " #   Column                              Non-Null Count  Dtype \n",
      "---  ------                              --------------  ----- \n",
      " 0   State                               51 non-null     object\n",
      " 1   Participation                       51 non-null     object\n",
      " 2   Evidence-Based Reading and Writing  51 non-null     int64 \n",
      " 3   Math                                51 non-null     int64 \n",
      " 4   Total                               51 non-null     int64 \n",
      "dtypes: int64(3), object(2)\n",
      "memory usage: 2.1+ KB\n",
      "None\n"
     ]
    },
    {
     "data": {
      "text/html": [
       "<div>\n",
       "<style scoped>\n",
       "    .dataframe tbody tr th:only-of-type {\n",
       "        vertical-align: middle;\n",
       "    }\n",
       "\n",
       "    .dataframe tbody tr th {\n",
       "        vertical-align: top;\n",
       "    }\n",
       "\n",
       "    .dataframe thead th {\n",
       "        text-align: right;\n",
       "    }\n",
       "</style>\n",
       "<table border=\"1\" class=\"dataframe\">\n",
       "  <thead>\n",
       "    <tr style=\"text-align: right;\">\n",
       "      <th></th>\n",
       "      <th>State</th>\n",
       "      <th>Participation</th>\n",
       "      <th>Evidence-Based Reading and Writing</th>\n",
       "      <th>Math</th>\n",
       "      <th>Total</th>\n",
       "    </tr>\n",
       "  </thead>\n",
       "  <tbody>\n",
       "    <tr>\n",
       "      <th>count</th>\n",
       "      <td>51</td>\n",
       "      <td>51</td>\n",
       "      <td>51.000000</td>\n",
       "      <td>51.000000</td>\n",
       "      <td>51.000000</td>\n",
       "    </tr>\n",
       "    <tr>\n",
       "      <th>unique</th>\n",
       "      <td>51</td>\n",
       "      <td>34</td>\n",
       "      <td>NaN</td>\n",
       "      <td>NaN</td>\n",
       "      <td>NaN</td>\n",
       "    </tr>\n",
       "    <tr>\n",
       "      <th>top</th>\n",
       "      <td>North Carolina</td>\n",
       "      <td>3%</td>\n",
       "      <td>NaN</td>\n",
       "      <td>NaN</td>\n",
       "      <td>NaN</td>\n",
       "    </tr>\n",
       "    <tr>\n",
       "      <th>freq</th>\n",
       "      <td>1</td>\n",
       "      <td>8</td>\n",
       "      <td>NaN</td>\n",
       "      <td>NaN</td>\n",
       "      <td>NaN</td>\n",
       "    </tr>\n",
       "    <tr>\n",
       "      <th>mean</th>\n",
       "      <td>NaN</td>\n",
       "      <td>NaN</td>\n",
       "      <td>569.117647</td>\n",
       "      <td>547.627451</td>\n",
       "      <td>1126.098039</td>\n",
       "    </tr>\n",
       "    <tr>\n",
       "      <th>std</th>\n",
       "      <td>NaN</td>\n",
       "      <td>NaN</td>\n",
       "      <td>45.666901</td>\n",
       "      <td>84.909119</td>\n",
       "      <td>92.494812</td>\n",
       "    </tr>\n",
       "    <tr>\n",
       "      <th>min</th>\n",
       "      <td>NaN</td>\n",
       "      <td>NaN</td>\n",
       "      <td>482.000000</td>\n",
       "      <td>52.000000</td>\n",
       "      <td>950.000000</td>\n",
       "    </tr>\n",
       "    <tr>\n",
       "      <th>25%</th>\n",
       "      <td>NaN</td>\n",
       "      <td>NaN</td>\n",
       "      <td>533.500000</td>\n",
       "      <td>522.000000</td>\n",
       "      <td>1055.500000</td>\n",
       "    </tr>\n",
       "    <tr>\n",
       "      <th>50%</th>\n",
       "      <td>NaN</td>\n",
       "      <td>NaN</td>\n",
       "      <td>559.000000</td>\n",
       "      <td>548.000000</td>\n",
       "      <td>1107.000000</td>\n",
       "    </tr>\n",
       "    <tr>\n",
       "      <th>75%</th>\n",
       "      <td>NaN</td>\n",
       "      <td>NaN</td>\n",
       "      <td>613.000000</td>\n",
       "      <td>599.000000</td>\n",
       "      <td>1212.000000</td>\n",
       "    </tr>\n",
       "    <tr>\n",
       "      <th>max</th>\n",
       "      <td>NaN</td>\n",
       "      <td>NaN</td>\n",
       "      <td>644.000000</td>\n",
       "      <td>651.000000</td>\n",
       "      <td>1295.000000</td>\n",
       "    </tr>\n",
       "  </tbody>\n",
       "</table>\n",
       "</div>"
      ],
      "text/plain": [
       "                 State Participation  Evidence-Based Reading and Writing  \\\n",
       "count               51            51                           51.000000   \n",
       "unique              51            34                                 NaN   \n",
       "top     North Carolina            3%                                 NaN   \n",
       "freq                 1             8                                 NaN   \n",
       "mean               NaN           NaN                          569.117647   \n",
       "std                NaN           NaN                           45.666901   \n",
       "min                NaN           NaN                          482.000000   \n",
       "25%                NaN           NaN                          533.500000   \n",
       "50%                NaN           NaN                          559.000000   \n",
       "75%                NaN           NaN                          613.000000   \n",
       "max                NaN           NaN                          644.000000   \n",
       "\n",
       "              Math        Total  \n",
       "count    51.000000    51.000000  \n",
       "unique         NaN          NaN  \n",
       "top            NaN          NaN  \n",
       "freq           NaN          NaN  \n",
       "mean    547.627451  1126.098039  \n",
       "std      84.909119    92.494812  \n",
       "min      52.000000   950.000000  \n",
       "25%     522.000000  1055.500000  \n",
       "50%     548.000000  1107.000000  \n",
       "75%     599.000000  1212.000000  \n",
       "max     651.000000  1295.000000  "
      ]
     },
     "execution_count": 5,
     "metadata": {},
     "output_type": "execute_result"
    }
   ],
   "source": [
    "print(sat_2017.info())\n",
    "sat_2017.describe(include='all')"
   ]
  },
  {
   "cell_type": "code",
   "execution_count": 6,
   "metadata": {},
   "outputs": [
    {
     "name": "stdout",
     "output_type": "stream",
     "text": [
      "<class 'pandas.core.frame.DataFrame'>\n",
      "RangeIndex: 52 entries, 0 to 51\n",
      "Data columns (total 7 columns):\n",
      " #   Column         Non-Null Count  Dtype  \n",
      "---  ------         --------------  -----  \n",
      " 0   State          52 non-null     object \n",
      " 1   Participation  52 non-null     object \n",
      " 2   English        52 non-null     float64\n",
      " 3   Math           52 non-null     float64\n",
      " 4   Reading        52 non-null     float64\n",
      " 5   Science        52 non-null     float64\n",
      " 6   Composite      52 non-null     object \n",
      "dtypes: float64(4), object(3)\n",
      "memory usage: 3.0+ KB\n",
      "None\n"
     ]
    }
   ],
   "source": [
    "print(act_2017.info())"
   ]
  },
  {
   "cell_type": "markdown",
   "metadata": {},
   "source": [
    "#### 3. Here are some flash findings based on the summary stats:"
   ]
  },
  {
   "cell_type": "markdown",
   "metadata": {},
   "source": [
    "\n",
    "- Data from all 51 states are represented in both datasets, with an exception of ACT_2017 having an additional row for the entire nation. This row would affect our aggregate analysis and would <b>need to be removed</b>.\n",
    "- Apart from the component test scores, both datasets also capture the participation rate\n",
    "- Both datasets have an aggregate feature (Total column in SAT2017 - Sum & Composite column in ACT2017 - Mean)\n",
    "\n"
   ]
  },
  {
   "cell_type": "markdown",
   "metadata": {},
   "source": [
    "#### 4a. Does the data look complete? "
   ]
  },
  {
   "cell_type": "markdown",
   "metadata": {},
   "source": [
    "#### <I>Yes</I>.\n",
    "There are no null values from both datasets.\n",
    "\n"
   ]
  },
  {
   "cell_type": "markdown",
   "metadata": {},
   "source": [
    "#### 4b. Are there any obvious issues with the observations?\n",
    "\n",
    "\n",
    "<details>\n",
    "<summary>More Info</summary>\n",
    "\n",
    "**What is the minimum *possible* value for each test/subtest? What is the maximum *possible* value?**\n",
    "\n",
    "Consider comparing any questionable values to the sources of your data:\n",
    "- [SAT](https://blog.collegevine.com/here-are-the-average-sat-scores-by-state/)\n",
    "- [ACT](https://blog.prepscholar.com/act-scores-by-state-averages-highs-and-lows)\n",
    "</details>"
   ]
  },
  {
   "cell_type": "code",
   "execution_count": 7,
   "metadata": {},
   "outputs": [
    {
     "data": {
      "text/html": [
       "<div>\n",
       "<style scoped>\n",
       "    .dataframe tbody tr th:only-of-type {\n",
       "        vertical-align: middle;\n",
       "    }\n",
       "\n",
       "    .dataframe tbody tr th {\n",
       "        vertical-align: top;\n",
       "    }\n",
       "\n",
       "    .dataframe thead th {\n",
       "        text-align: right;\n",
       "    }\n",
       "</style>\n",
       "<table border=\"1\" class=\"dataframe\">\n",
       "  <thead>\n",
       "    <tr style=\"text-align: right;\">\n",
       "      <th></th>\n",
       "      <th>State</th>\n",
       "      <th>Participation</th>\n",
       "      <th>Evidence-Based Reading and Writing</th>\n",
       "      <th>Math</th>\n",
       "      <th>Total</th>\n",
       "    </tr>\n",
       "  </thead>\n",
       "  <tbody>\n",
       "    <tr>\n",
       "      <th>count</th>\n",
       "      <td>51</td>\n",
       "      <td>51</td>\n",
       "      <td>51.000000</td>\n",
       "      <td>51.000000</td>\n",
       "      <td>51.000000</td>\n",
       "    </tr>\n",
       "    <tr>\n",
       "      <th>unique</th>\n",
       "      <td>51</td>\n",
       "      <td>34</td>\n",
       "      <td>NaN</td>\n",
       "      <td>NaN</td>\n",
       "      <td>NaN</td>\n",
       "    </tr>\n",
       "    <tr>\n",
       "      <th>top</th>\n",
       "      <td>North Carolina</td>\n",
       "      <td>3%</td>\n",
       "      <td>NaN</td>\n",
       "      <td>NaN</td>\n",
       "      <td>NaN</td>\n",
       "    </tr>\n",
       "    <tr>\n",
       "      <th>freq</th>\n",
       "      <td>1</td>\n",
       "      <td>8</td>\n",
       "      <td>NaN</td>\n",
       "      <td>NaN</td>\n",
       "      <td>NaN</td>\n",
       "    </tr>\n",
       "    <tr>\n",
       "      <th>mean</th>\n",
       "      <td>NaN</td>\n",
       "      <td>NaN</td>\n",
       "      <td>569.117647</td>\n",
       "      <td>547.627451</td>\n",
       "      <td>1126.098039</td>\n",
       "    </tr>\n",
       "    <tr>\n",
       "      <th>std</th>\n",
       "      <td>NaN</td>\n",
       "      <td>NaN</td>\n",
       "      <td>45.666901</td>\n",
       "      <td>84.909119</td>\n",
       "      <td>92.494812</td>\n",
       "    </tr>\n",
       "    <tr>\n",
       "      <th>min</th>\n",
       "      <td>NaN</td>\n",
       "      <td>NaN</td>\n",
       "      <td>482.000000</td>\n",
       "      <td>52.000000</td>\n",
       "      <td>950.000000</td>\n",
       "    </tr>\n",
       "    <tr>\n",
       "      <th>25%</th>\n",
       "      <td>NaN</td>\n",
       "      <td>NaN</td>\n",
       "      <td>533.500000</td>\n",
       "      <td>522.000000</td>\n",
       "      <td>1055.500000</td>\n",
       "    </tr>\n",
       "    <tr>\n",
       "      <th>50%</th>\n",
       "      <td>NaN</td>\n",
       "      <td>NaN</td>\n",
       "      <td>559.000000</td>\n",
       "      <td>548.000000</td>\n",
       "      <td>1107.000000</td>\n",
       "    </tr>\n",
       "    <tr>\n",
       "      <th>75%</th>\n",
       "      <td>NaN</td>\n",
       "      <td>NaN</td>\n",
       "      <td>613.000000</td>\n",
       "      <td>599.000000</td>\n",
       "      <td>1212.000000</td>\n",
       "    </tr>\n",
       "    <tr>\n",
       "      <th>max</th>\n",
       "      <td>NaN</td>\n",
       "      <td>NaN</td>\n",
       "      <td>644.000000</td>\n",
       "      <td>651.000000</td>\n",
       "      <td>1295.000000</td>\n",
       "    </tr>\n",
       "  </tbody>\n",
       "</table>\n",
       "</div>"
      ],
      "text/plain": [
       "                 State Participation  Evidence-Based Reading and Writing  \\\n",
       "count               51            51                           51.000000   \n",
       "unique              51            34                                 NaN   \n",
       "top     North Carolina            3%                                 NaN   \n",
       "freq                 1             8                                 NaN   \n",
       "mean               NaN           NaN                          569.117647   \n",
       "std                NaN           NaN                           45.666901   \n",
       "min                NaN           NaN                          482.000000   \n",
       "25%                NaN           NaN                          533.500000   \n",
       "50%                NaN           NaN                          559.000000   \n",
       "75%                NaN           NaN                          613.000000   \n",
       "max                NaN           NaN                          644.000000   \n",
       "\n",
       "              Math        Total  \n",
       "count    51.000000    51.000000  \n",
       "unique         NaN          NaN  \n",
       "top            NaN          NaN  \n",
       "freq           NaN          NaN  \n",
       "mean    547.627451  1126.098039  \n",
       "std      84.909119    92.494812  \n",
       "min      52.000000   950.000000  \n",
       "25%     522.000000  1055.500000  \n",
       "50%     548.000000  1107.000000  \n",
       "75%     599.000000  1212.000000  \n",
       "max     651.000000  1295.000000  "
      ]
     },
     "execution_count": 7,
     "metadata": {},
     "output_type": "execute_result"
    }
   ],
   "source": [
    "sat_2017.describe(include='all')"
   ]
  },
  {
   "cell_type": "code",
   "execution_count": 8,
   "metadata": {},
   "outputs": [
    {
     "data": {
      "text/plain": [
       "20    Maryland\n",
       "Name: State, dtype: object"
      ]
     },
     "execution_count": 8,
     "metadata": {},
     "output_type": "execute_result"
    }
   ],
   "source": [
    "sat_2017[sat_2017['Math'] == 52]['State']"
   ]
  },
  {
   "cell_type": "code",
   "execution_count": 9,
   "metadata": {},
   "outputs": [
    {
     "data": {
      "text/html": [
       "<div>\n",
       "<style scoped>\n",
       "    .dataframe tbody tr th:only-of-type {\n",
       "        vertical-align: middle;\n",
       "    }\n",
       "\n",
       "    .dataframe tbody tr th {\n",
       "        vertical-align: top;\n",
       "    }\n",
       "\n",
       "    .dataframe thead th {\n",
       "        text-align: right;\n",
       "    }\n",
       "</style>\n",
       "<table border=\"1\" class=\"dataframe\">\n",
       "  <thead>\n",
       "    <tr style=\"text-align: right;\">\n",
       "      <th></th>\n",
       "      <th>State</th>\n",
       "      <th>Participation</th>\n",
       "      <th>English</th>\n",
       "      <th>Math</th>\n",
       "      <th>Reading</th>\n",
       "      <th>Science</th>\n",
       "      <th>Composite</th>\n",
       "    </tr>\n",
       "  </thead>\n",
       "  <tbody>\n",
       "    <tr>\n",
       "      <th>count</th>\n",
       "      <td>52</td>\n",
       "      <td>52</td>\n",
       "      <td>52.000000</td>\n",
       "      <td>52.000000</td>\n",
       "      <td>52.000000</td>\n",
       "      <td>52.000000</td>\n",
       "      <td>52</td>\n",
       "    </tr>\n",
       "    <tr>\n",
       "      <th>unique</th>\n",
       "      <td>52</td>\n",
       "      <td>28</td>\n",
       "      <td>NaN</td>\n",
       "      <td>NaN</td>\n",
       "      <td>NaN</td>\n",
       "      <td>NaN</td>\n",
       "      <td>38</td>\n",
       "    </tr>\n",
       "    <tr>\n",
       "      <th>top</th>\n",
       "      <td>North Carolina</td>\n",
       "      <td>100%</td>\n",
       "      <td>NaN</td>\n",
       "      <td>NaN</td>\n",
       "      <td>NaN</td>\n",
       "      <td>NaN</td>\n",
       "      <td>19.8</td>\n",
       "    </tr>\n",
       "    <tr>\n",
       "      <th>freq</th>\n",
       "      <td>1</td>\n",
       "      <td>17</td>\n",
       "      <td>NaN</td>\n",
       "      <td>NaN</td>\n",
       "      <td>NaN</td>\n",
       "      <td>NaN</td>\n",
       "      <td>3</td>\n",
       "    </tr>\n",
       "    <tr>\n",
       "      <th>mean</th>\n",
       "      <td>NaN</td>\n",
       "      <td>NaN</td>\n",
       "      <td>20.919231</td>\n",
       "      <td>21.173077</td>\n",
       "      <td>22.001923</td>\n",
       "      <td>21.040385</td>\n",
       "      <td>NaN</td>\n",
       "    </tr>\n",
       "    <tr>\n",
       "      <th>std</th>\n",
       "      <td>NaN</td>\n",
       "      <td>NaN</td>\n",
       "      <td>2.332132</td>\n",
       "      <td>1.963602</td>\n",
       "      <td>2.048672</td>\n",
       "      <td>3.151113</td>\n",
       "      <td>NaN</td>\n",
       "    </tr>\n",
       "    <tr>\n",
       "      <th>min</th>\n",
       "      <td>NaN</td>\n",
       "      <td>NaN</td>\n",
       "      <td>16.300000</td>\n",
       "      <td>18.000000</td>\n",
       "      <td>18.100000</td>\n",
       "      <td>2.300000</td>\n",
       "      <td>NaN</td>\n",
       "    </tr>\n",
       "    <tr>\n",
       "      <th>25%</th>\n",
       "      <td>NaN</td>\n",
       "      <td>NaN</td>\n",
       "      <td>19.000000</td>\n",
       "      <td>19.400000</td>\n",
       "      <td>20.475000</td>\n",
       "      <td>19.900000</td>\n",
       "      <td>NaN</td>\n",
       "    </tr>\n",
       "    <tr>\n",
       "      <th>50%</th>\n",
       "      <td>NaN</td>\n",
       "      <td>NaN</td>\n",
       "      <td>20.550000</td>\n",
       "      <td>20.900000</td>\n",
       "      <td>21.700000</td>\n",
       "      <td>21.150000</td>\n",
       "      <td>NaN</td>\n",
       "    </tr>\n",
       "    <tr>\n",
       "      <th>75%</th>\n",
       "      <td>NaN</td>\n",
       "      <td>NaN</td>\n",
       "      <td>23.300000</td>\n",
       "      <td>23.100000</td>\n",
       "      <td>24.125000</td>\n",
       "      <td>22.525000</td>\n",
       "      <td>NaN</td>\n",
       "    </tr>\n",
       "    <tr>\n",
       "      <th>max</th>\n",
       "      <td>NaN</td>\n",
       "      <td>NaN</td>\n",
       "      <td>25.500000</td>\n",
       "      <td>25.300000</td>\n",
       "      <td>26.000000</td>\n",
       "      <td>24.900000</td>\n",
       "      <td>NaN</td>\n",
       "    </tr>\n",
       "  </tbody>\n",
       "</table>\n",
       "</div>"
      ],
      "text/plain": [
       "                 State Participation    English       Math    Reading  \\\n",
       "count               52            52  52.000000  52.000000  52.000000   \n",
       "unique              52            28        NaN        NaN        NaN   \n",
       "top     North Carolina          100%        NaN        NaN        NaN   \n",
       "freq                 1            17        NaN        NaN        NaN   \n",
       "mean               NaN           NaN  20.919231  21.173077  22.001923   \n",
       "std                NaN           NaN   2.332132   1.963602   2.048672   \n",
       "min                NaN           NaN  16.300000  18.000000  18.100000   \n",
       "25%                NaN           NaN  19.000000  19.400000  20.475000   \n",
       "50%                NaN           NaN  20.550000  20.900000  21.700000   \n",
       "75%                NaN           NaN  23.300000  23.100000  24.125000   \n",
       "max                NaN           NaN  25.500000  25.300000  26.000000   \n",
       "\n",
       "          Science Composite  \n",
       "count   52.000000        52  \n",
       "unique        NaN        38  \n",
       "top           NaN      19.8  \n",
       "freq          NaN         3  \n",
       "mean    21.040385       NaN  \n",
       "std      3.151113       NaN  \n",
       "min      2.300000       NaN  \n",
       "25%     19.900000       NaN  \n",
       "50%     21.150000       NaN  \n",
       "75%     22.525000       NaN  \n",
       "max     24.900000       NaN  "
      ]
     },
     "execution_count": 9,
     "metadata": {},
     "output_type": "execute_result"
    }
   ],
   "source": [
    "act_2017.describe(include='all')"
   ]
  },
  {
   "cell_type": "code",
   "execution_count": 10,
   "metadata": {},
   "outputs": [
    {
     "data": {
      "text/plain": [
       "21    Maryland\n",
       "Name: State, dtype: object"
      ]
     },
     "execution_count": 10,
     "metadata": {},
     "output_type": "execute_result"
    }
   ],
   "source": [
    "act_2017[act_2017['Science'] == 2.3]['State']"
   ]
  },
  {
   "cell_type": "markdown",
   "metadata": {},
   "source": [
    "#### <I>Yes, there are errors in both datasets.</I>\n",
    "#### SAT2017\n",
    "The min value of the Math score seems to be an erroneus outlier. Crossreferenced the state with the official record and confirmed that the right value should be <b>524</b>.\n",
    "#### ACT2017\n",
    "The min value of the Science score seems to be an erroneus outlier. Crossreferenced the state with the official record and confirmed that the right value should be <b>22.3</b>."
   ]
  },
  {
   "cell_type": "markdown",
   "metadata": {},
   "source": [
    "#### 4c. Fixing errors identified\n"
   ]
  },
  {
   "cell_type": "code",
   "execution_count": 11,
   "metadata": {},
   "outputs": [],
   "source": [
    "# change error in math col for SAT2017\n",
    "sat_2017.loc[sat_2017['State'] == 'Maryland','Math'] = 524\n",
    "\n",
    "# change error in science col for ACT2017\n",
    "act_2017.loc[act_2017['State'] == 'Maryland','Science'] = 22.3"
   ]
  },
  {
   "cell_type": "markdown",
   "metadata": {},
   "source": [
    "#### 5. What are the data types? \n"
   ]
  },
  {
   "cell_type": "code",
   "execution_count": 12,
   "metadata": {},
   "outputs": [
    {
     "name": "stdout",
     "output_type": "stream",
     "text": [
      "ACT2017 dtypes\n",
      "--------------------------------------------------\n",
      "<class 'pandas.core.frame.DataFrame'>\n",
      "RangeIndex: 52 entries, 0 to 51\n",
      "Data columns (total 7 columns):\n",
      " #   Column         Non-Null Count  Dtype  \n",
      "---  ------         --------------  -----  \n",
      " 0   State          52 non-null     object \n",
      " 1   Participation  52 non-null     object \n",
      " 2   English        52 non-null     float64\n",
      " 3   Math           52 non-null     float64\n",
      " 4   Reading        52 non-null     float64\n",
      " 5   Science        52 non-null     float64\n",
      " 6   Composite      52 non-null     object \n",
      "dtypes: float64(4), object(3)\n",
      "memory usage: 3.0+ KB\n",
      "\n",
      "\n",
      "\n",
      "SAT2017 dtypes\n",
      "--------------------------------------------------\n",
      "<class 'pandas.core.frame.DataFrame'>\n",
      "RangeIndex: 51 entries, 0 to 50\n",
      "Data columns (total 5 columns):\n",
      " #   Column                              Non-Null Count  Dtype \n",
      "---  ------                              --------------  ----- \n",
      " 0   State                               51 non-null     object\n",
      " 1   Participation                       51 non-null     object\n",
      " 2   Evidence-Based Reading and Writing  51 non-null     int64 \n",
      " 3   Math                                51 non-null     int64 \n",
      " 4   Total                               51 non-null     int64 \n",
      "dtypes: int64(3), object(2)\n",
      "memory usage: 2.1+ KB\n"
     ]
    }
   ],
   "source": [
    "print(\"ACT2017 dtypes\")\n",
    "print(\"-\" * 50)\n",
    "act_2017.info()\n",
    "\n",
    "print('\\n\\n')\n",
    "\n",
    "print(\"SAT2017 dtypes\")\n",
    "print(\"-\" * 50)\n",
    "sat_2017.info()"
   ]
  },
  {
   "cell_type": "markdown",
   "metadata": {},
   "source": [
    "##### There are 2 main errors:\n",
    "\n",
    "1) The Participation rate on both datasets should be an integer value\n",
    "\n",
    "\n",
    "2) The Composite column in ACT2017 seems to be filled with float numbers yet it's returning an object dtype.\n",
    "\n"
   ]
  },
  {
   "cell_type": "markdown",
   "metadata": {},
   "source": [
    "#### 6. Fix Incorrect Data Types\n"
   ]
  },
  {
   "cell_type": "code",
   "execution_count": 13,
   "metadata": {},
   "outputs": [],
   "source": [
    "def convert_partic_rate(value):\n",
    "    return int(value.split('%')[0])\n",
    "\n",
    "act_2017['Participation'] = act_2017['Participation'].apply(convert_partic_rate)\n",
    "sat_2017['Participation'] = sat_2017['Participation'].apply(convert_partic_rate)"
   ]
  },
  {
   "cell_type": "markdown",
   "metadata": {},
   "source": [
    "- Fix any individual values preventing other columns from being the appropriate type."
   ]
  },
  {
   "cell_type": "code",
   "execution_count": 14,
   "metadata": {},
   "outputs": [],
   "source": [
    "# to detect where the problem lies in the column\n",
    "act_2017['Composite'].value_counts()\n",
    "\n",
    "act_2017['Composite'] = act_2017['Composite'].apply(lambda y: float(y.split('x')[0]) if 'x' in y else float(y))"
   ]
  },
  {
   "cell_type": "markdown",
   "metadata": {},
   "source": [
    "- Display the data types again to confirm they are correct."
   ]
  },
  {
   "cell_type": "code",
   "execution_count": 15,
   "metadata": {},
   "outputs": [
    {
     "data": {
      "text/plain": [
       "State             object\n",
       "Participation      int64\n",
       "English          float64\n",
       "Math             float64\n",
       "Reading          float64\n",
       "Science          float64\n",
       "Composite        float64\n",
       "dtype: object"
      ]
     },
     "execution_count": 15,
     "metadata": {},
     "output_type": "execute_result"
    }
   ],
   "source": [
    "act_2017.dtypes"
   ]
  },
  {
   "cell_type": "markdown",
   "metadata": {},
   "source": [
    "#### 7. Rename Columns\n",
    "\n",
    "<details>\n",
    "<summary>More Info</summary>\n",
    "Change the names of the columns to more expressive names so that you can tell the difference the SAT columns and the ACT columns. Your solution should map all column names being changed at once (no repeated singular name-changes). **We will be combining these data with some of the data from 2018, and so you should name columns in an appropriate way**.\n",
    "\n",
    "**Guidelines**:\n",
    "- Column names should be all lowercase (you will thank yourself when you start pushing data to SQL later in the course)\n",
    "- Column names should not contain spaces (underscores will suffice--this allows for using the `df.column_name` method to access columns in addition to `df['column_name']`.\n",
    "- Column names should be unique and informative (the only feature that we actually share between dataframes is the state).\n",
    "</details>"
   ]
  },
  {
   "cell_type": "code",
   "execution_count": 16,
   "metadata": {},
   "outputs": [],
   "source": [
    "new_act_col_names = list(act_2017.columns)\n",
    "new_sat_col_names = list(sat_2017.columns)"
   ]
  },
  {
   "cell_type": "code",
   "execution_count": 17,
   "metadata": {},
   "outputs": [],
   "source": [
    "new_act_col_names = [str(\"act2017_\" + name.lower()) for name in new_act_col_names]\n",
    "new_act_col_names[0] = new_act_col_names[0].split(\"act2017_\")[1]\n",
    "act_2017.set_axis(new_act_col_names, axis='columns', inplace=True)"
   ]
  },
  {
   "cell_type": "code",
   "execution_count": 18,
   "metadata": {},
   "outputs": [
    {
     "data": {
      "text/html": [
       "<div>\n",
       "<style scoped>\n",
       "    .dataframe tbody tr th:only-of-type {\n",
       "        vertical-align: middle;\n",
       "    }\n",
       "\n",
       "    .dataframe tbody tr th {\n",
       "        vertical-align: top;\n",
       "    }\n",
       "\n",
       "    .dataframe thead th {\n",
       "        text-align: right;\n",
       "    }\n",
       "</style>\n",
       "<table border=\"1\" class=\"dataframe\">\n",
       "  <thead>\n",
       "    <tr style=\"text-align: right;\">\n",
       "      <th></th>\n",
       "      <th>state</th>\n",
       "      <th>act2017_participation</th>\n",
       "      <th>act2017_english</th>\n",
       "      <th>act2017_math</th>\n",
       "      <th>act2017_reading</th>\n",
       "      <th>act2017_science</th>\n",
       "      <th>act2017_composite</th>\n",
       "    </tr>\n",
       "  </thead>\n",
       "  <tbody>\n",
       "    <tr>\n",
       "      <th>0</th>\n",
       "      <td>National</td>\n",
       "      <td>60</td>\n",
       "      <td>20.3</td>\n",
       "      <td>20.7</td>\n",
       "      <td>21.4</td>\n",
       "      <td>21.0</td>\n",
       "      <td>21.0</td>\n",
       "    </tr>\n",
       "    <tr>\n",
       "      <th>1</th>\n",
       "      <td>Alabama</td>\n",
       "      <td>100</td>\n",
       "      <td>18.9</td>\n",
       "      <td>18.4</td>\n",
       "      <td>19.7</td>\n",
       "      <td>19.4</td>\n",
       "      <td>19.2</td>\n",
       "    </tr>\n",
       "    <tr>\n",
       "      <th>2</th>\n",
       "      <td>Alaska</td>\n",
       "      <td>65</td>\n",
       "      <td>18.7</td>\n",
       "      <td>19.8</td>\n",
       "      <td>20.4</td>\n",
       "      <td>19.9</td>\n",
       "      <td>19.8</td>\n",
       "    </tr>\n",
       "    <tr>\n",
       "      <th>3</th>\n",
       "      <td>Arizona</td>\n",
       "      <td>62</td>\n",
       "      <td>18.6</td>\n",
       "      <td>19.8</td>\n",
       "      <td>20.1</td>\n",
       "      <td>19.8</td>\n",
       "      <td>19.7</td>\n",
       "    </tr>\n",
       "    <tr>\n",
       "      <th>4</th>\n",
       "      <td>Arkansas</td>\n",
       "      <td>100</td>\n",
       "      <td>18.9</td>\n",
       "      <td>19.0</td>\n",
       "      <td>19.7</td>\n",
       "      <td>19.5</td>\n",
       "      <td>19.4</td>\n",
       "    </tr>\n",
       "  </tbody>\n",
       "</table>\n",
       "</div>"
      ],
      "text/plain": [
       "      state  act2017_participation  act2017_english  act2017_math  \\\n",
       "0  National                     60             20.3          20.7   \n",
       "1   Alabama                    100             18.9          18.4   \n",
       "2    Alaska                     65             18.7          19.8   \n",
       "3   Arizona                     62             18.6          19.8   \n",
       "4  Arkansas                    100             18.9          19.0   \n",
       "\n",
       "   act2017_reading  act2017_science  act2017_composite  \n",
       "0             21.4             21.0               21.0  \n",
       "1             19.7             19.4               19.2  \n",
       "2             20.4             19.9               19.8  \n",
       "3             20.1             19.8               19.7  \n",
       "4             19.7             19.5               19.4  "
      ]
     },
     "execution_count": 18,
     "metadata": {},
     "output_type": "execute_result"
    }
   ],
   "source": [
    "act_2017.head()"
   ]
  },
  {
   "cell_type": "code",
   "execution_count": 19,
   "metadata": {},
   "outputs": [],
   "source": [
    "new_sat_col_names = [str(\"sat2017_\" + name.lower()) for name in new_sat_col_names]\n",
    "new_sat_col_names[0] = new_sat_col_names[0].split(\"sat2017_\")[1]\n",
    "sat_2017.set_axis(new_sat_col_names, axis='columns', inplace=True)"
   ]
  },
  {
   "cell_type": "code",
   "execution_count": 20,
   "metadata": {},
   "outputs": [
    {
     "data": {
      "text/html": [
       "<div>\n",
       "<style scoped>\n",
       "    .dataframe tbody tr th:only-of-type {\n",
       "        vertical-align: middle;\n",
       "    }\n",
       "\n",
       "    .dataframe tbody tr th {\n",
       "        vertical-align: top;\n",
       "    }\n",
       "\n",
       "    .dataframe thead th {\n",
       "        text-align: right;\n",
       "    }\n",
       "</style>\n",
       "<table border=\"1\" class=\"dataframe\">\n",
       "  <thead>\n",
       "    <tr style=\"text-align: right;\">\n",
       "      <th></th>\n",
       "      <th>state</th>\n",
       "      <th>sat2017_participation</th>\n",
       "      <th>sat2017_rw</th>\n",
       "      <th>sat2017_math</th>\n",
       "      <th>sat2017_total</th>\n",
       "    </tr>\n",
       "  </thead>\n",
       "  <tbody>\n",
       "    <tr>\n",
       "      <th>0</th>\n",
       "      <td>Alabama</td>\n",
       "      <td>5</td>\n",
       "      <td>593</td>\n",
       "      <td>572</td>\n",
       "      <td>1165</td>\n",
       "    </tr>\n",
       "    <tr>\n",
       "      <th>1</th>\n",
       "      <td>Alaska</td>\n",
       "      <td>38</td>\n",
       "      <td>547</td>\n",
       "      <td>533</td>\n",
       "      <td>1080</td>\n",
       "    </tr>\n",
       "    <tr>\n",
       "      <th>2</th>\n",
       "      <td>Arizona</td>\n",
       "      <td>30</td>\n",
       "      <td>563</td>\n",
       "      <td>553</td>\n",
       "      <td>1116</td>\n",
       "    </tr>\n",
       "    <tr>\n",
       "      <th>3</th>\n",
       "      <td>Arkansas</td>\n",
       "      <td>3</td>\n",
       "      <td>614</td>\n",
       "      <td>594</td>\n",
       "      <td>1208</td>\n",
       "    </tr>\n",
       "    <tr>\n",
       "      <th>4</th>\n",
       "      <td>California</td>\n",
       "      <td>53</td>\n",
       "      <td>531</td>\n",
       "      <td>524</td>\n",
       "      <td>1055</td>\n",
       "    </tr>\n",
       "  </tbody>\n",
       "</table>\n",
       "</div>"
      ],
      "text/plain": [
       "        state  sat2017_participation  sat2017_rw  sat2017_math  sat2017_total\n",
       "0     Alabama                      5         593           572           1165\n",
       "1      Alaska                     38         547           533           1080\n",
       "2     Arizona                     30         563           553           1116\n",
       "3    Arkansas                      3         614           594           1208\n",
       "4  California                     53         531           524           1055"
      ]
     },
     "execution_count": 20,
     "metadata": {},
     "output_type": "execute_result"
    }
   ],
   "source": [
    "sat_2017.rename(columns={'sat2017_evidence-based reading and writing':'sat2017_rw'},inplace=True)\n",
    "sat_2017.head()"
   ]
  },
  {
   "cell_type": "markdown",
   "metadata": {},
   "source": [
    "#### 8. Create a data dictionary\n",
    "\n",
    "<details>\n",
    "<summary>More Info</summary>\n",
    "\n",
    "Now that we've fixed our data, and given it appropriate names, let's create a [data dictionary](http://library.ucmerced.edu/node/10249). \n",
    "\n",
    "A data dictionary provides a quick overview of features/variables/columns, alongside data types and descriptions. The more descriptive you can be, the more useful this document is.\n",
    "\n",
    "Example of a Fictional Data Dictionary Entry: \n",
    "\n",
    "|Feature|Type|Dataset|Description|\n",
    "|---|---|---|---|\n",
    "|**county_pop**|*integer*|2010 census|The population of the county (units in thousands, where 2.5 represents 2500 people).| \n",
    "|**per_poverty**|*float*|2010 census|The percent of the county over the age of 18 living below the 200% of official US poverty rate (units percent to two decimal places 98.10 means 98.1%)|\n",
    "\n",
    "[Here's a quick link to a short guide for formatting markdown in Jupyter notebooks](https://jupyter-notebook.readthedocs.io/en/stable/examples/Notebook/Working%20With%20Markdown%20Cells.html).\n",
    "\n",
    "Provided is the skeleton for formatting a markdown table, with columns headers that will help you create a data dictionary to quickly summarize your data, as well as some examples. **This would be a great thing to copy and paste into your custom README for this project.**\n",
    "</details>    "
   ]
  },
  {
   "cell_type": "markdown",
   "metadata": {},
   "source": [
    "### Data Dictionary for act_2017/sat_2017\n",
    "\n",
    "|Feature|Type|Dataset|Description|\n",
    "|-------|----|-------|------------|\n",
    "|state|object|act_2017/sat_2017|States that participated in the ACT/SAT examination|\n",
    "|\"name_of_dataset\"_participation|integer|act2017/sat2017|State participation rates (%)|\n",
    "|act2017_english|float|act_2017|Average English Score which ranges between 1 and 36|\n",
    "|act2017_math|\tfloat|act_2017|\tAverage Math Score which ranges between 1 and 36|\n",
    "|act2017_reading|\tfloat|act_2017|\tAverage Reading Score which ranges between 1 and 36|\n",
    "|act2017_science|\tfloat|act_2017|\tAverage Science Score which ranges between 1 and 36|\n",
    "|act2017_composite|\tfloat|act_2017|\tAverage Composite Score which ranges between 1 and 36|\n",
    "|sat2017_rw|integer|sat_2017|\tAverage Evidence-Based Reading and Writing Score which ranges between 200 and 800|\n",
    "|sat2017_math|integer|sat_2017|\tAverage Math Score which ranges between 200 and 800|\n",
    "|sat2017_total|integer|sat_2017|\tAverage Total Score that aggregates Reading and Writing and Math Scores, ranges between 400 and 1600|\n",
    "\n"
   ]
  },
  {
   "cell_type": "markdown",
   "metadata": {},
   "source": [
    "#### 9. Drop unnecessary rows\n",
    "\n",
    "One of our dataframes contains an extra row. Identify and remove this from the dataframe."
   ]
  },
  {
   "cell_type": "code",
   "execution_count": 21,
   "metadata": {},
   "outputs": [],
   "source": [
    "act_2017 = act_2017[act_2017['state'] != 'National']"
   ]
  },
  {
   "cell_type": "markdown",
   "metadata": {},
   "source": [
    "#### 10. Merge Dataframes\n",
    "\n",
    "Join the 2017 ACT and SAT dataframes using the state in each dataframe as the key. Assign this to a new variable."
   ]
  },
  {
   "cell_type": "code",
   "execution_count": 22,
   "metadata": {},
   "outputs": [],
   "source": [
    "combined_2017 = pd.merge(sat_2017,act_2017, on='state')"
   ]
  },
  {
   "cell_type": "markdown",
   "metadata": {},
   "source": [
    "#### 11. Save your cleaned, merged dataframe\n",
    "\n",
    "Use a relative path to save out your data as `combined_2017.csv`."
   ]
  },
  {
   "cell_type": "code",
   "execution_count": 23,
   "metadata": {},
   "outputs": [],
   "source": [
    "combined_2017.to_csv('../data/combined_2017.csv')"
   ]
  },
  {
   "cell_type": "markdown",
   "metadata": {},
   "source": [
    "## 2018 Data Import and Cleaning"
   ]
  },
  {
   "cell_type": "markdown",
   "metadata": {},
   "source": [
    "<details>\n",
    "<summary>More Info</summary>\n",
    "Links to the 2018 ACT and SAT data are provided in the README. These data live in PDFs, and so you'll get to enjoy practicing some *manual* data collection. Save these data as a CSV in your `data` directory, and import, explore, and clean these data in the same way you did above. **Make sure you comment on your steps so it is clear *why* you are doing each process**.\n",
    "    </details>"
   ]
  },
  {
   "cell_type": "markdown",
   "metadata": {},
   "source": [
    "### importing 2018 data"
   ]
  },
  {
   "cell_type": "code",
   "execution_count": 24,
   "metadata": {},
   "outputs": [],
   "source": [
    "act_2018 = pd.read_csv('../data/act_2018_updated.csv')\n",
    "sat_2018 = pd.read_csv('../data/sat_2018.csv')"
   ]
  },
  {
   "cell_type": "code",
   "execution_count": 25,
   "metadata": {},
   "outputs": [
    {
     "name": "stdout",
     "output_type": "stream",
     "text": [
      "<class 'pandas.core.frame.DataFrame'>\n",
      "RangeIndex: 51 entries, 0 to 50\n",
      "Data columns (total 5 columns):\n",
      " #   Column                              Non-Null Count  Dtype \n",
      "---  ------                              --------------  ----- \n",
      " 0   State                               51 non-null     object\n",
      " 1   Participation                       51 non-null     object\n",
      " 2   Evidence-Based Reading and Writing  51 non-null     int64 \n",
      " 3   Math                                51 non-null     int64 \n",
      " 4   Total                               51 non-null     int64 \n",
      "dtypes: int64(3), object(2)\n",
      "memory usage: 2.1+ KB\n",
      "\n",
      "\n",
      "        State Participation  Evidence-Based Reading and Writing  Math  Total\n",
      "0     Alabama            6%                                 595   571   1166\n",
      "1      Alaska           43%                                 562   544   1106\n",
      "2     Arizona           29%                                 577   572   1149\n",
      "3    Arkansas            5%                                 592   576   1169\n",
      "4  California           60%                                 540   536   1076\n"
     ]
    },
    {
     "data": {
      "text/html": [
       "<div>\n",
       "<style scoped>\n",
       "    .dataframe tbody tr th:only-of-type {\n",
       "        vertical-align: middle;\n",
       "    }\n",
       "\n",
       "    .dataframe tbody tr th {\n",
       "        vertical-align: top;\n",
       "    }\n",
       "\n",
       "    .dataframe thead th {\n",
       "        text-align: right;\n",
       "    }\n",
       "</style>\n",
       "<table border=\"1\" class=\"dataframe\">\n",
       "  <thead>\n",
       "    <tr style=\"text-align: right;\">\n",
       "      <th></th>\n",
       "      <th>Evidence-Based Reading and Writing</th>\n",
       "      <th>Math</th>\n",
       "      <th>Total</th>\n",
       "    </tr>\n",
       "  </thead>\n",
       "  <tbody>\n",
       "    <tr>\n",
       "      <th>count</th>\n",
       "      <td>51.00</td>\n",
       "      <td>51.00</td>\n",
       "      <td>51.00</td>\n",
       "    </tr>\n",
       "    <tr>\n",
       "      <th>mean</th>\n",
       "      <td>563.69</td>\n",
       "      <td>556.24</td>\n",
       "      <td>1120.02</td>\n",
       "    </tr>\n",
       "    <tr>\n",
       "      <th>std</th>\n",
       "      <td>47.50</td>\n",
       "      <td>47.77</td>\n",
       "      <td>94.16</td>\n",
       "    </tr>\n",
       "    <tr>\n",
       "      <th>min</th>\n",
       "      <td>480.00</td>\n",
       "      <td>480.00</td>\n",
       "      <td>977.00</td>\n",
       "    </tr>\n",
       "    <tr>\n",
       "      <th>25%</th>\n",
       "      <td>534.50</td>\n",
       "      <td>522.50</td>\n",
       "      <td>1057.50</td>\n",
       "    </tr>\n",
       "    <tr>\n",
       "      <th>50%</th>\n",
       "      <td>552.00</td>\n",
       "      <td>544.00</td>\n",
       "      <td>1098.00</td>\n",
       "    </tr>\n",
       "    <tr>\n",
       "      <th>75%</th>\n",
       "      <td>610.50</td>\n",
       "      <td>593.50</td>\n",
       "      <td>1204.00</td>\n",
       "    </tr>\n",
       "    <tr>\n",
       "      <th>max</th>\n",
       "      <td>643.00</td>\n",
       "      <td>655.00</td>\n",
       "      <td>1298.00</td>\n",
       "    </tr>\n",
       "  </tbody>\n",
       "</table>\n",
       "</div>"
      ],
      "text/plain": [
       "       Evidence-Based Reading and Writing    Math    Total\n",
       "count                               51.00   51.00    51.00\n",
       "mean                               563.69  556.24  1120.02\n",
       "std                                 47.50   47.77    94.16\n",
       "min                                480.00  480.00   977.00\n",
       "25%                                534.50  522.50  1057.50\n",
       "50%                                552.00  544.00  1098.00\n",
       "75%                                610.50  593.50  1204.00\n",
       "max                                643.00  655.00  1298.00"
      ]
     },
     "execution_count": 25,
     "metadata": {},
     "output_type": "execute_result"
    }
   ],
   "source": [
    "sat_2018.info()\n",
    "print('\\n')\n",
    "print(sat_2018.head())\n",
    "sat_2018.describe().round(2)"
   ]
  },
  {
   "cell_type": "code",
   "execution_count": 26,
   "metadata": {},
   "outputs": [
    {
     "name": "stdout",
     "output_type": "stream",
     "text": [
      "<class 'pandas.core.frame.DataFrame'>\n",
      "RangeIndex: 51 entries, 0 to 50\n",
      "Data columns (total 7 columns):\n",
      " #   Column                         Non-Null Count  Dtype  \n",
      "---  ------                         --------------  -----  \n",
      " 0   State                          51 non-null     object \n",
      " 1   Percentage of Students Tested  51 non-null     int64  \n",
      " 2   Average Composite Score        51 non-null     float64\n",
      " 3   Average English Score          51 non-null     float64\n",
      " 4   Average Math Score             51 non-null     float64\n",
      " 5   Average Reading Score          51 non-null     float64\n",
      " 6   Average Science Score          51 non-null     float64\n",
      "dtypes: float64(5), int64(1), object(1)\n",
      "memory usage: 2.9+ KB\n",
      "\n",
      "\n",
      "        State  Percentage of Students Tested  Average Composite Score  \\\n",
      "0     Alabama                            100                     19.1   \n",
      "1      Alaska                             33                     20.8   \n",
      "2     Arizona                             66                     19.2   \n",
      "3    Arkansas                            100                     19.4   \n",
      "4  California                             27                     22.7   \n",
      "\n",
      "   Average English Score  Average Math Score  Average Reading Score  \\\n",
      "0                   18.9                18.3                   19.6   \n",
      "1                   19.8                20.6                   21.6   \n",
      "2                   18.2                19.4                   19.5   \n",
      "3                   19.1                18.9                   19.7   \n",
      "4                   22.5                22.5                   23.0   \n",
      "\n",
      "   Average Science Score  \n",
      "0                   19.0  \n",
      "1                   20.7  \n",
      "2                   19.2  \n",
      "3                   19.4  \n",
      "4                   22.1  \n"
     ]
    },
    {
     "data": {
      "text/html": [
       "<div>\n",
       "<style scoped>\n",
       "    .dataframe tbody tr th:only-of-type {\n",
       "        vertical-align: middle;\n",
       "    }\n",
       "\n",
       "    .dataframe tbody tr th {\n",
       "        vertical-align: top;\n",
       "    }\n",
       "\n",
       "    .dataframe thead th {\n",
       "        text-align: right;\n",
       "    }\n",
       "</style>\n",
       "<table border=\"1\" class=\"dataframe\">\n",
       "  <thead>\n",
       "    <tr style=\"text-align: right;\">\n",
       "      <th></th>\n",
       "      <th>Percentage of Students Tested</th>\n",
       "      <th>Average Composite Score</th>\n",
       "      <th>Average English Score</th>\n",
       "      <th>Average Math Score</th>\n",
       "      <th>Average Reading Score</th>\n",
       "      <th>Average Science Score</th>\n",
       "    </tr>\n",
       "  </thead>\n",
       "  <tbody>\n",
       "    <tr>\n",
       "      <th>count</th>\n",
       "      <td>51.00</td>\n",
       "      <td>51.00</td>\n",
       "      <td>51.00</td>\n",
       "      <td>51.00</td>\n",
       "      <td>51.00</td>\n",
       "      <td>51.00</td>\n",
       "    </tr>\n",
       "    <tr>\n",
       "      <th>mean</th>\n",
       "      <td>61.65</td>\n",
       "      <td>21.49</td>\n",
       "      <td>20.99</td>\n",
       "      <td>21.13</td>\n",
       "      <td>22.02</td>\n",
       "      <td>21.35</td>\n",
       "    </tr>\n",
       "    <tr>\n",
       "      <th>std</th>\n",
       "      <td>34.08</td>\n",
       "      <td>2.11</td>\n",
       "      <td>2.45</td>\n",
       "      <td>2.04</td>\n",
       "      <td>2.17</td>\n",
       "      <td>1.87</td>\n",
       "    </tr>\n",
       "    <tr>\n",
       "      <th>min</th>\n",
       "      <td>7.00</td>\n",
       "      <td>17.70</td>\n",
       "      <td>16.60</td>\n",
       "      <td>17.80</td>\n",
       "      <td>18.00</td>\n",
       "      <td>17.90</td>\n",
       "    </tr>\n",
       "    <tr>\n",
       "      <th>25%</th>\n",
       "      <td>28.50</td>\n",
       "      <td>19.95</td>\n",
       "      <td>19.10</td>\n",
       "      <td>19.40</td>\n",
       "      <td>20.45</td>\n",
       "      <td>19.85</td>\n",
       "    </tr>\n",
       "    <tr>\n",
       "      <th>50%</th>\n",
       "      <td>66.00</td>\n",
       "      <td>21.30</td>\n",
       "      <td>20.20</td>\n",
       "      <td>20.70</td>\n",
       "      <td>21.60</td>\n",
       "      <td>21.10</td>\n",
       "    </tr>\n",
       "    <tr>\n",
       "      <th>75%</th>\n",
       "      <td>100.00</td>\n",
       "      <td>23.55</td>\n",
       "      <td>23.70</td>\n",
       "      <td>23.15</td>\n",
       "      <td>24.10</td>\n",
       "      <td>23.05</td>\n",
       "    </tr>\n",
       "    <tr>\n",
       "      <th>max</th>\n",
       "      <td>100.00</td>\n",
       "      <td>25.60</td>\n",
       "      <td>26.00</td>\n",
       "      <td>25.20</td>\n",
       "      <td>26.10</td>\n",
       "      <td>24.90</td>\n",
       "    </tr>\n",
       "  </tbody>\n",
       "</table>\n",
       "</div>"
      ],
      "text/plain": [
       "       Percentage of Students Tested  Average Composite Score  \\\n",
       "count                          51.00                    51.00   \n",
       "mean                           61.65                    21.49   \n",
       "std                            34.08                     2.11   \n",
       "min                             7.00                    17.70   \n",
       "25%                            28.50                    19.95   \n",
       "50%                            66.00                    21.30   \n",
       "75%                           100.00                    23.55   \n",
       "max                           100.00                    25.60   \n",
       "\n",
       "       Average English Score  Average Math Score  Average Reading Score  \\\n",
       "count                  51.00               51.00                  51.00   \n",
       "mean                   20.99               21.13                  22.02   \n",
       "std                     2.45                2.04                   2.17   \n",
       "min                    16.60               17.80                  18.00   \n",
       "25%                    19.10               19.40                  20.45   \n",
       "50%                    20.20               20.70                  21.60   \n",
       "75%                    23.70               23.15                  24.10   \n",
       "max                    26.00               25.20                  26.10   \n",
       "\n",
       "       Average Science Score  \n",
       "count                  51.00  \n",
       "mean                   21.35  \n",
       "std                     1.87  \n",
       "min                    17.90  \n",
       "25%                    19.85  \n",
       "50%                    21.10  \n",
       "75%                    23.05  \n",
       "max                    24.90  "
      ]
     },
     "execution_count": 26,
     "metadata": {},
     "output_type": "execute_result"
    }
   ],
   "source": [
    "act_2018.info()\n",
    "print('\\n')\n",
    "print(act_2018.head())\n",
    "act_2018.describe().round(2)"
   ]
  },
  {
   "cell_type": "markdown",
   "metadata": {},
   "source": [
    "### Exploring and cleaning 2018 data\n",
    "\n",
    "At a snapshot, we can observe the following from both datasets:\n",
    "\n",
    "\n",
    "#### <I>SAT_2018</I>\n",
    "- ** Participation column needs to be converted to integer\n",
    "- ** column names to be changed\n",
    "- No other anomaly in the data\n",
    "\n",
    "\n",
    "#### <I>ACT_2018</I>\n",
    "- No anomaly in the data\n",
    "- ** column names to be changed "
   ]
  },
  {
   "cell_type": "code",
   "execution_count": 27,
   "metadata": {},
   "outputs": [],
   "source": [
    "# modify participation column to int in SAT_2018\n",
    "\n",
    "sat_2018['Participation'] = sat_2018['Participation'].apply(convert_partic_rate)"
   ]
  },
  {
   "cell_type": "code",
   "execution_count": 28,
   "metadata": {},
   "outputs": [],
   "source": [
    "# change column names in both datasets\n",
    "new_act_col_names = list(act_2018.columns)\n",
    "new_sat_col_names = list(sat_2018.columns)"
   ]
  },
  {
   "cell_type": "code",
   "execution_count": 29,
   "metadata": {},
   "outputs": [],
   "source": [
    "new_sat_col_names[1:] = [str(\"sat2018_\" + name.lower()) for name in new_sat_col_names[1:]]\n",
    "new_sat_col_names[0] = new_sat_col_names[0].lower()\n",
    "sat_2018.set_axis(new_sat_col_names, axis='columns', inplace=True)\n",
    "sat_2018.rename(columns={'sat2018_evidence-based reading and writing':'sat2018_rw'},inplace=True)\n",
    "\n",
    "\n",
    "# ignore first 2 entries in list and do .split x2 + act2018_\n",
    "new_act_col_names[2:] = [str(\"act2018_\" + name.lower().split('average ')[1].split(' score')[0]) for name in new_act_col_names[2:]]\n",
    "# change act2018_percentage of students tested to act2018_participation\n",
    "new_act_col_names[1] = \"act2018_participation\"\n",
    "new_act_col_names[0] = new_act_col_names[0].lower()\n",
    "act_2018.set_axis(new_act_col_names, axis='columns', inplace=True)"
   ]
  },
  {
   "cell_type": "code",
   "execution_count": 30,
   "metadata": {},
   "outputs": [
    {
     "name": "stdout",
     "output_type": "stream",
     "text": [
      "Here are the new dtypes for sat_2018: \n",
      "\n",
      "state                    object\n",
      "sat2018_participation     int64\n",
      "sat2018_rw                int64\n",
      "sat2018_math              int64\n",
      "sat2018_total             int64\n",
      "dtype: object\n",
      "\n",
      "\n",
      "Here are the new dtypes for act_2018: \n",
      "\n",
      "state                     object\n",
      "act2018_participation      int64\n",
      "act2018_composite        float64\n",
      "act2018_english          float64\n",
      "act2018_math             float64\n",
      "act2018_reading          float64\n",
      "act2018_science          float64\n",
      "dtype: object\n"
     ]
    }
   ],
   "source": [
    "print(f\"Here are the new dtypes for sat_2018: \\n\\n{sat_2018.dtypes}\")\n",
    "print('\\n')\n",
    "print(f\"Here are the new dtypes for act_2018: \\n\\n{act_2018.dtypes}\")"
   ]
  },
  {
   "cell_type": "markdown",
   "metadata": {},
   "source": [
    "### Combine your 2017 and 2018 data into a single dataframe\n",
    "<details>\n",
    "<summary>More Info</summary>Joining on state names should work, assuming you formatted all your state names identically. Make sure none of your columns (other than state) have identical names. Do yourself a favor and decide if you're encoding participation rates as floats or integers and standardize this across your datasets.\n",
    "\n",
    "Save the contents of this merged dataframe as `final.csv`.\n",
    "\n",
    "**Use this combined dataframe for the remainder of the project**.\n",
    " </details>"
   ]
  },
  {
   "cell_type": "code",
   "execution_count": 31,
   "metadata": {},
   "outputs": [],
   "source": [
    "combined_2018 = pd.merge(act_2018,sat_2018, on='state')\n",
    "final = pd.merge(combined_2017,combined_2018, on='state')\n",
    "\n",
    "final.to_csv('../data/final.csv')"
   ]
  },
  {
   "cell_type": "markdown",
   "metadata": {},
   "source": [
    "## Exploratory Data Analysis\n",
    "\n",
    "\n",
    "### Summary Statistics\n"
   ]
  },
  {
   "cell_type": "code",
   "execution_count": 32,
   "metadata": {},
   "outputs": [
    {
     "data": {
      "text/html": [
       "<div>\n",
       "<style scoped>\n",
       "    .dataframe tbody tr th:only-of-type {\n",
       "        vertical-align: middle;\n",
       "    }\n",
       "\n",
       "    .dataframe tbody tr th {\n",
       "        vertical-align: top;\n",
       "    }\n",
       "\n",
       "    .dataframe thead th {\n",
       "        text-align: right;\n",
       "    }\n",
       "</style>\n",
       "<table border=\"1\" class=\"dataframe\">\n",
       "  <thead>\n",
       "    <tr style=\"text-align: right;\">\n",
       "      <th></th>\n",
       "      <th>count</th>\n",
       "      <th>mean</th>\n",
       "      <th>std</th>\n",
       "      <th>min</th>\n",
       "      <th>25%</th>\n",
       "      <th>50%</th>\n",
       "      <th>75%</th>\n",
       "      <th>max</th>\n",
       "    </tr>\n",
       "  </thead>\n",
       "  <tbody>\n",
       "    <tr>\n",
       "      <th>sat2017_participation</th>\n",
       "      <td>51.0</td>\n",
       "      <td>39.80</td>\n",
       "      <td>35.28</td>\n",
       "      <td>2.0</td>\n",
       "      <td>4.00</td>\n",
       "      <td>38.0</td>\n",
       "      <td>66.00</td>\n",
       "      <td>100.0</td>\n",
       "    </tr>\n",
       "    <tr>\n",
       "      <th>sat2017_rw</th>\n",
       "      <td>51.0</td>\n",
       "      <td>569.12</td>\n",
       "      <td>45.67</td>\n",
       "      <td>482.0</td>\n",
       "      <td>533.50</td>\n",
       "      <td>559.0</td>\n",
       "      <td>613.00</td>\n",
       "      <td>644.0</td>\n",
       "    </tr>\n",
       "    <tr>\n",
       "      <th>sat2017_math</th>\n",
       "      <td>51.0</td>\n",
       "      <td>556.88</td>\n",
       "      <td>47.12</td>\n",
       "      <td>468.0</td>\n",
       "      <td>523.50</td>\n",
       "      <td>548.0</td>\n",
       "      <td>599.00</td>\n",
       "      <td>651.0</td>\n",
       "    </tr>\n",
       "    <tr>\n",
       "      <th>sat2017_total</th>\n",
       "      <td>51.0</td>\n",
       "      <td>1126.10</td>\n",
       "      <td>92.49</td>\n",
       "      <td>950.0</td>\n",
       "      <td>1055.50</td>\n",
       "      <td>1107.0</td>\n",
       "      <td>1212.00</td>\n",
       "      <td>1295.0</td>\n",
       "    </tr>\n",
       "    <tr>\n",
       "      <th>act2017_participation</th>\n",
       "      <td>51.0</td>\n",
       "      <td>65.25</td>\n",
       "      <td>32.14</td>\n",
       "      <td>8.0</td>\n",
       "      <td>31.00</td>\n",
       "      <td>69.0</td>\n",
       "      <td>100.00</td>\n",
       "      <td>100.0</td>\n",
       "    </tr>\n",
       "    <tr>\n",
       "      <th>act2017_english</th>\n",
       "      <td>51.0</td>\n",
       "      <td>20.93</td>\n",
       "      <td>2.35</td>\n",
       "      <td>16.3</td>\n",
       "      <td>19.00</td>\n",
       "      <td>20.7</td>\n",
       "      <td>23.30</td>\n",
       "      <td>25.5</td>\n",
       "    </tr>\n",
       "    <tr>\n",
       "      <th>act2017_math</th>\n",
       "      <td>51.0</td>\n",
       "      <td>21.18</td>\n",
       "      <td>1.98</td>\n",
       "      <td>18.0</td>\n",
       "      <td>19.40</td>\n",
       "      <td>20.9</td>\n",
       "      <td>23.10</td>\n",
       "      <td>25.3</td>\n",
       "    </tr>\n",
       "    <tr>\n",
       "      <th>act2017_reading</th>\n",
       "      <td>51.0</td>\n",
       "      <td>22.01</td>\n",
       "      <td>2.07</td>\n",
       "      <td>18.1</td>\n",
       "      <td>20.45</td>\n",
       "      <td>21.8</td>\n",
       "      <td>24.15</td>\n",
       "      <td>26.0</td>\n",
       "    </tr>\n",
       "    <tr>\n",
       "      <th>act2017_science</th>\n",
       "      <td>51.0</td>\n",
       "      <td>21.43</td>\n",
       "      <td>1.73</td>\n",
       "      <td>18.2</td>\n",
       "      <td>19.95</td>\n",
       "      <td>21.3</td>\n",
       "      <td>22.75</td>\n",
       "      <td>24.9</td>\n",
       "    </tr>\n",
       "    <tr>\n",
       "      <th>act2017_composite</th>\n",
       "      <td>51.0</td>\n",
       "      <td>21.52</td>\n",
       "      <td>2.02</td>\n",
       "      <td>17.8</td>\n",
       "      <td>19.80</td>\n",
       "      <td>21.4</td>\n",
       "      <td>23.60</td>\n",
       "      <td>25.5</td>\n",
       "    </tr>\n",
       "    <tr>\n",
       "      <th>act2018_participation</th>\n",
       "      <td>51.0</td>\n",
       "      <td>61.65</td>\n",
       "      <td>34.08</td>\n",
       "      <td>7.0</td>\n",
       "      <td>28.50</td>\n",
       "      <td>66.0</td>\n",
       "      <td>100.00</td>\n",
       "      <td>100.0</td>\n",
       "    </tr>\n",
       "    <tr>\n",
       "      <th>act2018_composite</th>\n",
       "      <td>51.0</td>\n",
       "      <td>21.49</td>\n",
       "      <td>2.11</td>\n",
       "      <td>17.7</td>\n",
       "      <td>19.95</td>\n",
       "      <td>21.3</td>\n",
       "      <td>23.55</td>\n",
       "      <td>25.6</td>\n",
       "    </tr>\n",
       "    <tr>\n",
       "      <th>act2018_english</th>\n",
       "      <td>51.0</td>\n",
       "      <td>20.99</td>\n",
       "      <td>2.45</td>\n",
       "      <td>16.6</td>\n",
       "      <td>19.10</td>\n",
       "      <td>20.2</td>\n",
       "      <td>23.70</td>\n",
       "      <td>26.0</td>\n",
       "    </tr>\n",
       "    <tr>\n",
       "      <th>act2018_math</th>\n",
       "      <td>51.0</td>\n",
       "      <td>21.13</td>\n",
       "      <td>2.04</td>\n",
       "      <td>17.8</td>\n",
       "      <td>19.40</td>\n",
       "      <td>20.7</td>\n",
       "      <td>23.15</td>\n",
       "      <td>25.2</td>\n",
       "    </tr>\n",
       "    <tr>\n",
       "      <th>act2018_reading</th>\n",
       "      <td>51.0</td>\n",
       "      <td>22.02</td>\n",
       "      <td>2.17</td>\n",
       "      <td>18.0</td>\n",
       "      <td>20.45</td>\n",
       "      <td>21.6</td>\n",
       "      <td>24.10</td>\n",
       "      <td>26.1</td>\n",
       "    </tr>\n",
       "    <tr>\n",
       "      <th>act2018_science</th>\n",
       "      <td>51.0</td>\n",
       "      <td>21.35</td>\n",
       "      <td>1.87</td>\n",
       "      <td>17.9</td>\n",
       "      <td>19.85</td>\n",
       "      <td>21.1</td>\n",
       "      <td>23.05</td>\n",
       "      <td>24.9</td>\n",
       "    </tr>\n",
       "    <tr>\n",
       "      <th>sat2018_participation</th>\n",
       "      <td>51.0</td>\n",
       "      <td>45.75</td>\n",
       "      <td>37.31</td>\n",
       "      <td>2.0</td>\n",
       "      <td>4.50</td>\n",
       "      <td>52.0</td>\n",
       "      <td>77.50</td>\n",
       "      <td>100.0</td>\n",
       "    </tr>\n",
       "    <tr>\n",
       "      <th>sat2018_rw</th>\n",
       "      <td>51.0</td>\n",
       "      <td>563.69</td>\n",
       "      <td>47.50</td>\n",
       "      <td>480.0</td>\n",
       "      <td>534.50</td>\n",
       "      <td>552.0</td>\n",
       "      <td>610.50</td>\n",
       "      <td>643.0</td>\n",
       "    </tr>\n",
       "    <tr>\n",
       "      <th>sat2018_math</th>\n",
       "      <td>51.0</td>\n",
       "      <td>556.24</td>\n",
       "      <td>47.77</td>\n",
       "      <td>480.0</td>\n",
       "      <td>522.50</td>\n",
       "      <td>544.0</td>\n",
       "      <td>593.50</td>\n",
       "      <td>655.0</td>\n",
       "    </tr>\n",
       "    <tr>\n",
       "      <th>sat2018_total</th>\n",
       "      <td>51.0</td>\n",
       "      <td>1120.02</td>\n",
       "      <td>94.16</td>\n",
       "      <td>977.0</td>\n",
       "      <td>1057.50</td>\n",
       "      <td>1098.0</td>\n",
       "      <td>1204.00</td>\n",
       "      <td>1298.0</td>\n",
       "    </tr>\n",
       "  </tbody>\n",
       "</table>\n",
       "</div>"
      ],
      "text/plain": [
       "                       count     mean    std    min      25%     50%      75%  \\\n",
       "sat2017_participation   51.0    39.80  35.28    2.0     4.00    38.0    66.00   \n",
       "sat2017_rw              51.0   569.12  45.67  482.0   533.50   559.0   613.00   \n",
       "sat2017_math            51.0   556.88  47.12  468.0   523.50   548.0   599.00   \n",
       "sat2017_total           51.0  1126.10  92.49  950.0  1055.50  1107.0  1212.00   \n",
       "act2017_participation   51.0    65.25  32.14    8.0    31.00    69.0   100.00   \n",
       "act2017_english         51.0    20.93   2.35   16.3    19.00    20.7    23.30   \n",
       "act2017_math            51.0    21.18   1.98   18.0    19.40    20.9    23.10   \n",
       "act2017_reading         51.0    22.01   2.07   18.1    20.45    21.8    24.15   \n",
       "act2017_science         51.0    21.43   1.73   18.2    19.95    21.3    22.75   \n",
       "act2017_composite       51.0    21.52   2.02   17.8    19.80    21.4    23.60   \n",
       "act2018_participation   51.0    61.65  34.08    7.0    28.50    66.0   100.00   \n",
       "act2018_composite       51.0    21.49   2.11   17.7    19.95    21.3    23.55   \n",
       "act2018_english         51.0    20.99   2.45   16.6    19.10    20.2    23.70   \n",
       "act2018_math            51.0    21.13   2.04   17.8    19.40    20.7    23.15   \n",
       "act2018_reading         51.0    22.02   2.17   18.0    20.45    21.6    24.10   \n",
       "act2018_science         51.0    21.35   1.87   17.9    19.85    21.1    23.05   \n",
       "sat2018_participation   51.0    45.75  37.31    2.0     4.50    52.0    77.50   \n",
       "sat2018_rw              51.0   563.69  47.50  480.0   534.50   552.0   610.50   \n",
       "sat2018_math            51.0   556.24  47.77  480.0   522.50   544.0   593.50   \n",
       "sat2018_total           51.0  1120.02  94.16  977.0  1057.50  1098.0  1204.00   \n",
       "\n",
       "                          max  \n",
       "sat2017_participation   100.0  \n",
       "sat2017_rw              644.0  \n",
       "sat2017_math            651.0  \n",
       "sat2017_total          1295.0  \n",
       "act2017_participation   100.0  \n",
       "act2017_english          25.5  \n",
       "act2017_math             25.3  \n",
       "act2017_reading          26.0  \n",
       "act2017_science          24.9  \n",
       "act2017_composite        25.5  \n",
       "act2018_participation   100.0  \n",
       "act2018_composite        25.6  \n",
       "act2018_english          26.0  \n",
       "act2018_math             25.2  \n",
       "act2018_reading          26.1  \n",
       "act2018_science          24.9  \n",
       "sat2018_participation   100.0  \n",
       "sat2018_rw              643.0  \n",
       "sat2018_math            655.0  \n",
       "sat2018_total          1298.0  "
      ]
     },
     "execution_count": 32,
     "metadata": {},
     "output_type": "execute_result"
    }
   ],
   "source": [
    "final.describe().T.round(2)"
   ]
  },
  {
   "cell_type": "code",
   "execution_count": 33,
   "metadata": {},
   "outputs": [],
   "source": [
    "# function to manually create standard deviation\n",
    "def std_dev(data):\n",
    "    sd = 0.0\n",
    "    for each in data:\n",
    "        sd += (float(each) - data.mean())**2\n",
    "    sd = (sd / float(len(data)))**0.5\n",
    "\n",
    "    return sd"
   ]
  },
  {
   "cell_type": "code",
   "execution_count": 34,
   "metadata": {},
   "outputs": [
    {
     "data": {
      "text/plain": [
       "{'sat2017_participation': 34.93,\n",
       " 'sat2017_rw': 45.22,\n",
       " 'sat2017_math': 46.66,\n",
       " 'sat2017_total': 91.58,\n",
       " 'act2017_participation': 31.82,\n",
       " 'act2017_english': 2.33,\n",
       " 'act2017_math': 1.96,\n",
       " 'act2017_reading': 2.05,\n",
       " 'act2017_science': 1.71,\n",
       " 'act2017_composite': 2.0,\n",
       " 'act2018_participation': 33.75,\n",
       " 'act2018_composite': 2.09,\n",
       " 'act2018_english': 2.42,\n",
       " 'act2018_math': 2.02,\n",
       " 'act2018_reading': 2.15,\n",
       " 'act2018_science': 1.85,\n",
       " 'sat2018_participation': 36.95,\n",
       " 'sat2018_rw': 47.03,\n",
       " 'sat2018_math': 47.3,\n",
       " 'sat2018_total': 93.23}"
      ]
     },
     "execution_count": 34,
     "metadata": {},
     "output_type": "execute_result"
    }
   ],
   "source": [
    "# Using a dictionary comprehension to apply your standard deviation function to each numeric column in the dataframe\n",
    "std_dev_dict = {}\n",
    "checklist = list(final.describe().columns)\n",
    "  \n",
    "std_dev_dict = {column:round(std_dev(final[column]),2) for column in checklist}    \n",
    "std_dev_dict"
   ]
  },
  {
   "cell_type": "markdown",
   "metadata": {},
   "source": [
    "Do your manually calculated standard deviations match up with the output from pandas `describe`? What about numpy's `std` method?"
   ]
  },
  {
   "cell_type": "markdown",
   "metadata": {},
   "source": [
    "#### No, they don't.\n",
    "\n",
    "Pandas uses the unbiased estimator (N-1 in the denominator for sample mean), whereas Numpy by default does not and uses n (population mean) as the divisor when caluculating the standard deviation."
   ]
  },
  {
   "cell_type": "markdown",
   "metadata": {},
   "source": [
    "### Investigate trends in the data\n"
   ]
  },
  {
   "cell_type": "markdown",
   "metadata": {},
   "source": [
    "#### Top 5 states with <u>highest</u> participation rate in SAT 2017 v 2018"
   ]
  },
  {
   "cell_type": "code",
   "execution_count": 35,
   "metadata": {
    "scrolled": false
   },
   "outputs": [
    {
     "name": "stdout",
     "output_type": "stream",
     "text": [
      "                   state  sat2017_participation\n",
      "8   District of Columbia                    100\n",
      "22              Michigan                    100\n",
      "6            Connecticut                    100\n",
      "7               Delaware                    100\n",
      "29         New Hampshire                     96\n",
      "\n",
      "\n",
      "          state  sat2018_participation\n",
      "5      Colorado                    100\n",
      "6   Connecticut                    100\n",
      "7      Delaware                    100\n",
      "22     Michigan                    100\n",
      "12        Idaho                    100\n"
     ]
    }
   ],
   "source": [
    "s7h = final.loc[:,['state','sat2017_participation']].sort_values('sat2017_participation', ascending=False)\n",
    "s8h = final.loc[:,['state','sat2018_participation']].sort_values('sat2018_participation', ascending=False)\n",
    "print(s7h.head())\n",
    "print(\"\\n\")\n",
    "print(s8h.head())"
   ]
  },
  {
   "cell_type": "markdown",
   "metadata": {},
   "source": [
    "#### Top 5 states with <u>lowest</u> participation rate in SAT 2017 v 2018"
   ]
  },
  {
   "cell_type": "code",
   "execution_count": 36,
   "metadata": {
    "scrolled": true
   },
   "outputs": [
    {
     "name": "stdout",
     "output_type": "stream",
     "text": [
      "           state  sat2017_participation\n",
      "34  North Dakota                      2\n",
      "24   Mississippi                      2\n",
      "15          Iowa                      2\n",
      "25      Missouri                      3\n",
      "44          Utah                      3\n",
      "\n",
      "\n",
      "           state  sat2018_participation\n",
      "34  North Dakota                      2\n",
      "50       Wyoming                      3\n",
      "41  South Dakota                      3\n",
      "27      Nebraska                      3\n",
      "49     Wisconsin                      3\n"
     ]
    }
   ],
   "source": [
    "s7l = final.loc[:,['state','sat2017_participation']].sort_values('sat2017_participation')\n",
    "s8l = final.loc[:,['state','sat2018_participation']].sort_values('sat2018_participation')\n",
    "print(s7l.head())\n",
    "print(\"\\n\")\n",
    "print(s8l.head())"
   ]
  },
  {
   "cell_type": "markdown",
   "metadata": {},
   "source": [
    "#### Top 5 states with <u>highest</u> participation rate in ACT 2017 v 2018"
   ]
  },
  {
   "cell_type": "code",
   "execution_count": 37,
   "metadata": {
    "scrolled": false
   },
   "outputs": [
    {
     "name": "stdout",
     "output_type": "stream",
     "text": [
      "        state  act2017_participation\n",
      "0     Alabama                    100\n",
      "17   Kentucky                    100\n",
      "49  Wisconsin                    100\n",
      "44       Utah                    100\n",
      "42  Tennessee                    100\n",
      "\n",
      "\n",
      "        state  act2018_participation\n",
      "0     Alabama                    100\n",
      "17   Kentucky                    100\n",
      "49  Wisconsin                    100\n",
      "44       Utah                    100\n",
      "42  Tennessee                    100\n"
     ]
    }
   ],
   "source": [
    "a7h = final.loc[:,['state','act2017_participation']].sort_values('act2017_participation', ascending=False)\n",
    "a8h = final.loc[:,['state','act2018_participation']].sort_values('act2018_participation', ascending=False)\n",
    "print(a7h.head())\n",
    "print(\"\\n\")\n",
    "print(a8h.head())"
   ]
  },
  {
   "cell_type": "markdown",
   "metadata": {},
   "source": [
    "#### Top 5 states with <u>lowest</u> participation rate in ACT 2017 v 2018"
   ]
  },
  {
   "cell_type": "code",
   "execution_count": 38,
   "metadata": {
    "scrolled": true
   },
   "outputs": [
    {
     "name": "stdout",
     "output_type": "stream",
     "text": [
      "            state  act2017_participation\n",
      "19          Maine                      8\n",
      "29  New Hampshire                     18\n",
      "7        Delaware                     18\n",
      "39   Rhode Island                     21\n",
      "38   Pennsylvania                     23\n",
      "\n",
      "\n",
      "            state  act2018_participation\n",
      "19          Maine                      7\n",
      "39   Rhode Island                     15\n",
      "29  New Hampshire                     16\n",
      "7        Delaware                     17\n",
      "38   Pennsylvania                     20\n"
     ]
    }
   ],
   "source": [
    "a7l = final.loc[:,['state','act2017_participation']].sort_values('act2017_participation')\n",
    "a8l = final.loc[:,['state','act2018_participation']].sort_values('act2018_participation')\n",
    "print(a7l.head())\n",
    "print(\"\\n\")\n",
    "print(a8l.head())"
   ]
  },
  {
   "cell_type": "markdown",
   "metadata": {},
   "source": [
    "#### Top 5 states with <u>highest</u> total score in SAT 2017 v 2018"
   ]
  },
  {
   "cell_type": "code",
   "execution_count": 39,
   "metadata": {
    "scrolled": false
   },
   "outputs": [
    {
     "name": "stdout",
     "output_type": "stream",
     "text": [
      "        state  sat2017_total\n",
      "23  Minnesota           1295\n",
      "49  Wisconsin           1291\n",
      "15       Iowa           1275\n",
      "25   Missouri           1271\n",
      "16     Kansas           1260\n",
      "\n",
      "\n",
      "           state  sat2018_total\n",
      "23     Minnesota           1298\n",
      "49     Wisconsin           1294\n",
      "34  North Dakota           1283\n",
      "15          Iowa           1265\n",
      "16        Kansas           1265\n"
     ]
    }
   ],
   "source": [
    "s7h = final.loc[:,['state','sat2017_total']].sort_values('sat2017_total', ascending=False)\n",
    "s8h = final.loc[:,['state','sat2018_total']].sort_values('sat2018_total', ascending=False)\n",
    "print(s7h.head())\n",
    "print(\"\\n\")\n",
    "print(s8h.head())"
   ]
  },
  {
   "cell_type": "markdown",
   "metadata": {},
   "source": [
    "#### Top 5 states with <u>lowest</u> total score in SAT 2017 v 2018"
   ]
  },
  {
   "cell_type": "code",
   "execution_count": 40,
   "metadata": {
    "scrolled": true
   },
   "outputs": [
    {
     "name": "stdout",
     "output_type": "stream",
     "text": [
      "                   state  sat2017_total\n",
      "8   District of Columbia            950\n",
      "7               Delaware            996\n",
      "12                 Idaho           1005\n",
      "22              Michigan           1005\n",
      "19                 Maine           1012\n",
      "\n",
      "\n",
      "                   state  sat2018_total\n",
      "8   District of Columbia            977\n",
      "7               Delaware            998\n",
      "48         West Virginia            999\n",
      "12                 Idaho           1001\n",
      "44                  Utah           1010\n"
     ]
    }
   ],
   "source": [
    "s7l = final.loc[:,['state','sat2017_total']].sort_values('sat2017_total')\n",
    "s8l = final.loc[:,['state','sat2018_total']].sort_values('sat2018_total')\n",
    "print(s7l.head())\n",
    "print(\"\\n\")\n",
    "print(s8l.head())"
   ]
  },
  {
   "cell_type": "markdown",
   "metadata": {},
   "source": [
    "#### Top 5 states with <u>highest</u> composite score in ACT 2017 v 2018"
   ]
  },
  {
   "cell_type": "code",
   "execution_count": 41,
   "metadata": {
    "scrolled": false
   },
   "outputs": [
    {
     "name": "stdout",
     "output_type": "stream",
     "text": [
      "                   state  act2017_composite\n",
      "29         New Hampshire               25.5\n",
      "21         Massachusetts               25.4\n",
      "6            Connecticut               25.2\n",
      "19                 Maine               24.3\n",
      "8   District of Columbia               24.2\n",
      "\n",
      "\n",
      "            state  act2018_composite\n",
      "6     Connecticut               25.6\n",
      "21  Massachusetts               25.5\n",
      "29  New Hampshire               25.1\n",
      "32       New York               24.5\n",
      "22       Michigan               24.4\n"
     ]
    }
   ],
   "source": [
    "a7h = final.loc[:,['state','act2017_composite']].sort_values('act2017_composite', ascending=False)\n",
    "a8h = final.loc[:,['state','act2018_composite']].sort_values('act2018_composite', ascending=False)\n",
    "print(a7h.head())\n",
    "print(\"\\n\")\n",
    "print(a8h.head())"
   ]
  },
  {
   "cell_type": "markdown",
   "metadata": {},
   "source": [
    "#### Top 5 states with <u>lowest</u> composite score in ACT 2017 v 2018"
   ]
  },
  {
   "cell_type": "code",
   "execution_count": 42,
   "metadata": {
    "scrolled": true
   },
   "outputs": [
    {
     "name": "stdout",
     "output_type": "stream",
     "text": [
      "             state  act2017_composite\n",
      "28          Nevada               17.8\n",
      "24     Mississippi               18.6\n",
      "40  South Carolina               18.7\n",
      "11          Hawaii               19.0\n",
      "33  North Carolina               19.1\n",
      "\n",
      "\n",
      "             state  act2018_composite\n",
      "28          Nevada               17.7\n",
      "40  South Carolina               18.3\n",
      "24     Mississippi               18.6\n",
      "11          Hawaii               18.9\n",
      "0          Alabama               19.1\n"
     ]
    }
   ],
   "source": [
    "a7l = final.loc[:,['state','act2017_composite']].sort_values('act2017_composite')\n",
    "a8l = final.loc[:,['state','act2018_composite']].sort_values('act2018_composite')\n",
    "print(a7l.head())\n",
    "print(\"\\n\")\n",
    "print(a8l.head())"
   ]
  },
  {
   "cell_type": "markdown",
   "metadata": {},
   "source": [
    "#### Do any states with 100% participation on a given test have a rate change year-to-year?"
   ]
  },
  {
   "cell_type": "code",
   "execution_count": 43,
   "metadata": {},
   "outputs": [
    {
     "data": {
      "text/html": [
       "<div>\n",
       "<style scoped>\n",
       "    .dataframe tbody tr th:only-of-type {\n",
       "        vertical-align: middle;\n",
       "    }\n",
       "\n",
       "    .dataframe tbody tr th {\n",
       "        vertical-align: top;\n",
       "    }\n",
       "\n",
       "    .dataframe thead th {\n",
       "        text-align: right;\n",
       "    }\n",
       "</style>\n",
       "<table border=\"1\" class=\"dataframe\">\n",
       "  <thead>\n",
       "    <tr style=\"text-align: right;\">\n",
       "      <th></th>\n",
       "      <th>state</th>\n",
       "      <th>sat2017_participation</th>\n",
       "      <th>sat2018_participation</th>\n",
       "      <th>act2017_participation</th>\n",
       "      <th>act2018_participation</th>\n",
       "    </tr>\n",
       "  </thead>\n",
       "  <tbody>\n",
       "    <tr>\n",
       "      <th>5</th>\n",
       "      <td>Colorado</td>\n",
       "      <td>11</td>\n",
       "      <td>100</td>\n",
       "      <td>100</td>\n",
       "      <td>30</td>\n",
       "    </tr>\n",
       "    <tr>\n",
       "      <th>8</th>\n",
       "      <td>District of Columbia</td>\n",
       "      <td>100</td>\n",
       "      <td>92</td>\n",
       "      <td>32</td>\n",
       "      <td>32</td>\n",
       "    </tr>\n",
       "    <tr>\n",
       "      <th>12</th>\n",
       "      <td>Idaho</td>\n",
       "      <td>93</td>\n",
       "      <td>100</td>\n",
       "      <td>38</td>\n",
       "      <td>36</td>\n",
       "    </tr>\n",
       "    <tr>\n",
       "      <th>23</th>\n",
       "      <td>Minnesota</td>\n",
       "      <td>3</td>\n",
       "      <td>4</td>\n",
       "      <td>100</td>\n",
       "      <td>99</td>\n",
       "    </tr>\n",
       "    <tr>\n",
       "      <th>27</th>\n",
       "      <td>Nebraska</td>\n",
       "      <td>3</td>\n",
       "      <td>3</td>\n",
       "      <td>84</td>\n",
       "      <td>100</td>\n",
       "    </tr>\n",
       "  </tbody>\n",
       "</table>\n",
       "</div>"
      ],
      "text/plain": [
       "                   state  sat2017_participation  sat2018_participation  \\\n",
       "5               Colorado                     11                    100   \n",
       "8   District of Columbia                    100                     92   \n",
       "12                 Idaho                     93                    100   \n",
       "23             Minnesota                      3                      4   \n",
       "27              Nebraska                      3                      3   \n",
       "\n",
       "    act2017_participation  act2018_participation  \n",
       "5                     100                     30  \n",
       "8                      32                     32  \n",
       "12                     38                     36  \n",
       "23                    100                     99  \n",
       "27                     84                    100  "
      ]
     },
     "execution_count": 43,
     "metadata": {},
     "output_type": "execute_result"
    }
   ],
   "source": [
    "mask_alpha1 = ((final['act2017_participation'] == 100) & (final['act2018_participation'] < 100)) | ((final['act2018_participation'] == 100)&(final['act2017_participation'] < 100))\n",
    "mask_alpha2 = ((final['sat2017_participation'] == 100) & (final['sat2018_participation'] < 100)) | ((final['sat2018_participation'] == 100)&(final['sat2017_participation'] < 100))\n",
    "final[mask_alpha1 | mask_alpha2][['state','sat2017_participation', 'sat2018_participation', 'act2017_participation','act2018_participation']].head()"
   ]
  },
  {
   "cell_type": "markdown",
   "metadata": {},
   "source": [
    "#### Do any states show that they have >50% participation on both tests either year?"
   ]
  },
  {
   "cell_type": "code",
   "execution_count": 44,
   "metadata": {},
   "outputs": [
    {
     "data": {
      "text/html": [
       "<div>\n",
       "<style scoped>\n",
       "    .dataframe tbody tr th:only-of-type {\n",
       "        vertical-align: middle;\n",
       "    }\n",
       "\n",
       "    .dataframe tbody tr th {\n",
       "        vertical-align: top;\n",
       "    }\n",
       "\n",
       "    .dataframe thead th {\n",
       "        text-align: right;\n",
       "    }\n",
       "</style>\n",
       "<table border=\"1\" class=\"dataframe\">\n",
       "  <thead>\n",
       "    <tr style=\"text-align: right;\">\n",
       "      <th></th>\n",
       "      <th>state</th>\n",
       "      <th>sat2017_participation</th>\n",
       "      <th>act2017_participation</th>\n",
       "      <th>sat2018_participation</th>\n",
       "      <th>act2018_participation</th>\n",
       "    </tr>\n",
       "  </thead>\n",
       "  <tbody>\n",
       "    <tr>\n",
       "      <th>9</th>\n",
       "      <td>Florida</td>\n",
       "      <td>83</td>\n",
       "      <td>73</td>\n",
       "      <td>56</td>\n",
       "      <td>66</td>\n",
       "    </tr>\n",
       "    <tr>\n",
       "      <th>10</th>\n",
       "      <td>Georgia</td>\n",
       "      <td>61</td>\n",
       "      <td>55</td>\n",
       "      <td>70</td>\n",
       "      <td>53</td>\n",
       "    </tr>\n",
       "    <tr>\n",
       "      <th>11</th>\n",
       "      <td>Hawaii</td>\n",
       "      <td>55</td>\n",
       "      <td>90</td>\n",
       "      <td>56</td>\n",
       "      <td>89</td>\n",
       "    </tr>\n",
       "    <tr>\n",
       "      <th>33</th>\n",
       "      <td>North Carolina</td>\n",
       "      <td>49</td>\n",
       "      <td>100</td>\n",
       "      <td>52</td>\n",
       "      <td>100</td>\n",
       "    </tr>\n",
       "    <tr>\n",
       "      <th>40</th>\n",
       "      <td>South Carolina</td>\n",
       "      <td>50</td>\n",
       "      <td>100</td>\n",
       "      <td>55</td>\n",
       "      <td>100</td>\n",
       "    </tr>\n",
       "  </tbody>\n",
       "</table>\n",
       "</div>"
      ],
      "text/plain": [
       "             state  sat2017_participation  act2017_participation  \\\n",
       "9          Florida                     83                     73   \n",
       "10         Georgia                     61                     55   \n",
       "11          Hawaii                     55                     90   \n",
       "33  North Carolina                     49                    100   \n",
       "40  South Carolina                     50                    100   \n",
       "\n",
       "    sat2018_participation  act2018_participation  \n",
       "9                      56                     66  \n",
       "10                     70                     53  \n",
       "11                     56                     89  \n",
       "33                     52                    100  \n",
       "40                     55                    100  "
      ]
     },
     "execution_count": 44,
     "metadata": {},
     "output_type": "execute_result"
    }
   ],
   "source": [
    "mask_beta = ((final['sat2017_participation'] > 50) & (final['act2017_participation'] > 50)) | ((final['act2018_participation'] > 50) & (final['sat2018_participation'] > 50))\n",
    "final[mask_beta][['state','sat2017_participation', 'act2017_participation', 'sat2018_participation','act2018_participation']].head()"
   ]
  },
  {
   "cell_type": "markdown",
   "metadata": {},
   "source": [
    "##### Based on the above observations, I have identified these states as especially interesting:\n",
    "\n",
    "- Colorado (had 100% participation in ACT2017 but a year later had 100% particpation in SAT2018 instead)\n",
    "- Florida (had a considerable participation in both ACT and SAT tests across both years)\n",
    "- There doesn't seem to be a correlation between states with the highest participation to have the highest scores and vice versa. This holds true for both SAT and ACT."
   ]
  },
  {
   "cell_type": "markdown",
   "metadata": {},
   "source": [
    "## Visualize the data\n",
    "\n",
    "<details>\n",
    "<summary>More Info</summary>    There's not a magic bullet recommendation for the right number of plots to understand a given dataset, but visualizing your data is *always* a good idea. Not only does it allow you to quickly convey your findings (even if you have a non-technical audience), it will often reveal trends in your data that escaped you when you were looking only at numbers.\n",
    "\n",
    "Some recommendations on plotting:\n",
    "- Plots have titles\n",
    "- Plots have axis labels\n",
    "- Plots have appropriate tick labels\n",
    "- All text is legible in a plot\n",
    "- Plots demonstrate meaningful and valid relationships\n",
    "- Plots are interpreted to aid understanding\n",
    "\n",
    "There is such a thing as too many plots, and there are a *lot* of bad plots. You might make some! (But hopefully not with the guided prompts below).\n",
    "    </details>"
   ]
  },
  {
   "cell_type": "markdown",
   "metadata": {},
   "source": [
    "\n",
    "#### Use Seaborn's heatmap with pandas `.corr()` to visualize correlations between all numeric features\n",
    "\n",
    "<details>\n",
    "<summary>More Info</summary>  \n",
    "Heatmaps are generally not appropriate for presentations, and should often be excluded from reports as they can be visually overwhelming. **However**, they can be extremely useful in identify relationships of potential interest (as well as identifying potential collinearity before modeling).\n",
    "\n",
    "*example*:\n",
    "```python\n",
    "sns.heatmap(df.corr())\n",
    "```\n",
    "\n",
    "Please take time to format your output, adding a title. Look through some of the additional arguments and options. (Axis labels aren't really necessary, as long as the title is informative).\n",
    "    </details>"
   ]
  },
  {
   "cell_type": "code",
   "execution_count": 45,
   "metadata": {},
   "outputs": [
    {
     "data": {
      "image/png": "[encoded data removed]",
      "text/plain": [
       "<Figure size 936x936 with 4 Axes>"
      ]
     },
     "metadata": {
      "needs_background": "light"
     },
     "output_type": "display_data"
    }
   ],
   "source": [
    "fig, ax = plt.subplots(2,1,figsize=(13,13)) \n",
    "# creating masks for each subplot\n",
    "mask1 = np.zeros_like(combined_2017.corr())\n",
    "mask1[np.tril_indices_from(mask1)] = True\n",
    "mask2 = np.zeros_like(combined_2018.corr())\n",
    "mask2[np.triu_indices_from(mask2)] = True\n",
    "\n",
    "d=sns.heatmap(combined_2017.corr(),ax=ax[0],annot=True, mask=mask1,cmap=\"Paired\");\n",
    "d.set_xticklabels(d.get_xticklabels(), rotation=40, horizontalalignment='right')\n",
    "d.set_title(\"Combined ACT and SAT scores for 2017\", fontsize=18)\n",
    "d=sns.heatmap(combined_2018.corr(),ax=ax[1],annot=True, mask=mask2,cmap=\"Paired\");\n",
    "d.set_xticklabels(d.get_xticklabels(), rotation=40, horizontalalignment='right')\n",
    "d.set_title(\"Combined ACT and SAT scores for 2018\", fontsize=18)\n",
    "fig.tight_layout(pad=5.0)\n",
    "plt.show()"
   ]
  },
  {
   "cell_type": "markdown",
   "metadata": {},
   "source": [
    "#### Define a custom function to subplot histograms\n",
    "<details>\n",
    "<summary>More Info</summary>  \n",
    "We have data for two tests for two years. We only have composite (and not subtest scores) for the 2018 ACT. We should write a function that will take the names of 2+ columns and subplot histograms. While you can use pandas plotting or Seaborn here, matplotlib gives you greater control over all aspects of your plots.\n",
    "\n",
    "[Helpful Link for Plotting Multiple Figures](https://matplotlib.org/users/pyplot_tutorial.html#working-with-multiple-figures-and-axes)\n",
    "\n",
    "Here's some starter code:\n",
    "    </details>"
   ]
  },
  {
   "cell_type": "code",
   "execution_count": 46,
   "metadata": {},
   "outputs": [],
   "source": [
    "def subplot_histograms(dataframe, list_of_columns, list_of_titles, list_of_xlabels):\n",
    "    nrows = int(np.ceil(len(list_of_columns)/2)) # Makes sure you have enough rows\n",
    "    fig, ax = plt.subplots(nrows=nrows, ncols=2, figsize=(12,10)) # You'll want to specify your figsize\n",
    "    ax = ax.ravel() # Ravel turns a matrix into a vector, which is easier to iterate\n",
    "    for i, column in enumerate(list_of_columns): # Gives us an index value to get into all our lists\n",
    "        ax[i].hist(dataframe[column], bins = 20)\n",
    "    for i, column in enumerate(list_of_titles):\n",
    "        ax[i].set_title(column, fontsize=15)\n",
    "    for i, column in enumerate(list_of_xlabels):\n",
    "        ax[i].set(xlabel = column)\n",
    "    for i in range(0,len(list_of_columns)):\n",
    "        ax[i].set(ylabel = 'count')\n",
    "    fig.tight_layout(pad=5.0)"
   ]
  },
  {
   "cell_type": "markdown",
   "metadata": {},
   "source": [
    "### Plot and interpret histograms \n"
   ]
  },
  {
   "cell_type": "markdown",
   "metadata": {},
   "source": [
    "#### Participation rates for SAT & ACT\n",
    "- There is a clear left skew in the ACT particpation rate\n",
    "- There is a clear right skew in the SAT particpation rate"
   ]
  },
  {
   "cell_type": "code",
   "execution_count": 47,
   "metadata": {},
   "outputs": [
    {
     "data": {
      "image/png": "[encoded data removed]",
      "text/plain": [
       "<Figure size 864x720 with 4 Axes>"
      ]
     },
     "metadata": {
      "needs_background": "light"
     },
     "output_type": "display_data"
    }
   ],
   "source": [
    "part_rate = ['sat2017_participation', 'act2017_participation', 'sat2018_participation','act2018_participation']\n",
    "part_title = ['2017 SAT Participation rate','2017 ACT Participation rate', '2018 SAT Participation rate',\n",
    "                        '2018 ACT Participation rate']\n",
    "part_xlabel = ['Participation(%)', 'Participation(%)','Participation(%)', 'Participation(%)']   \n",
    "                \n",
    "\n",
    "subplot_histograms(final, part_rate, part_title, part_xlabel)"
   ]
  },
  {
   "cell_type": "markdown",
   "metadata": {},
   "source": [
    "#### Math scores for SAT & ACT\n",
    "- The SAT 2017 scores seem to have a normal distribution, the 2018 scores are bimodal\n",
    "- The ACT 2017 Math score has 3 modes while the 2018 scores are bimodal\n"
   ]
  },
  {
   "cell_type": "code",
   "execution_count": 48,
   "metadata": {},
   "outputs": [
    {
     "data": {
      "image/png": "[encoded data removed]",
      "text/plain": [
       "<Figure size 864x720 with 4 Axes>"
      ]
     },
     "metadata": {
      "needs_background": "light"
     },
     "output_type": "display_data"
    }
   ],
   "source": [
    "math_score = ['sat2017_math', 'act2017_math', 'sat2018_math','act2018_math']\n",
    "math_title = ['2017 SAT Math Score','2017 ACT Math Score', '2018 SAT Math Score',\n",
    "                        '2018 ACT Math Score']\n",
    "math_xlabel = ['Score', 'Score','Score', 'Score']\n",
    "\n",
    "subplot_histograms(final, math_score, math_title, math_xlabel)"
   ]
  },
  {
   "cell_type": "markdown",
   "metadata": {},
   "source": [
    "#### Reading/verbal scores for SAT & ACT\n",
    "- SAT has more high score states than ACT \n",
    "- Both SAT and ACT plots are observed to be bimodal across both years"
   ]
  },
  {
   "cell_type": "code",
   "execution_count": 49,
   "metadata": {},
   "outputs": [
    {
     "data": {
      "image/png": "[encoded data removed]",
      "text/plain": [
       "<Figure size 864x720 with 4 Axes>"
      ]
     },
     "metadata": {
      "needs_background": "light"
     },
     "output_type": "display_data"
    }
   ],
   "source": [
    "reading_score = ['sat2017_rw', 'act2017_reading', 'sat2018_rw','act2018_reading']\n",
    "reading_title = ['2017 SAT Reading&Writing Score','2017 ACT Reading Score', '2018 SAT Reading&Writing Score',\n",
    "                        '2018 ACT Reading Score']\n",
    "reading_xlabel = ['Score', 'Score','Score', 'Score']\n",
    "\n",
    "subplot_histograms(final, reading_score, reading_title, reading_xlabel)"
   ]
  },
  {
   "cell_type": "markdown",
   "metadata": {},
   "source": [
    "### Plot and interpret scatter plots\n"
   ]
  },
  {
   "cell_type": "code",
   "execution_count": 50,
   "metadata": {},
   "outputs": [],
   "source": [
    "# Create function to plot scatter and best fit line\n",
    "def plotter(dataframe, x_factor, y_factor, title, xlabel, ylabel):\n",
    "    plt.figure(figsize = (10,15)) \n",
    "    sns.set_style(\"ticks\")\n",
    "    sns.lmplot(x = x_factor, y = y_factor, data = dataframe, fit_reg = True,scatter_kws={\"s\": 40})\n",
    "                \n",
    "    plt.title(title)\n",
    "    plt.xlabel(xlabel)\n",
    "    plt.ylabel(ylabel)\n",
    "    \n",
    "    return plt.show();"
   ]
  },
  {
   "cell_type": "markdown",
   "metadata": {},
   "source": [
    "#### SAT vs. ACT math scores for 2017\n",
    "A negative correlation can be observed"
   ]
  },
  {
   "cell_type": "code",
   "execution_count": 51,
   "metadata": {},
   "outputs": [
    {
     "data": {
      "text/plain": [
       "<Figure size 720x1080 with 0 Axes>"
      ]
     },
     "metadata": {},
     "output_type": "display_data"
    },
    {
     "data": {
      "image/png": "[encoded data removed]",
      "text/plain": [
       "<Figure size 360x360 with 1 Axes>"
      ]
     },
     "metadata": {},
     "output_type": "display_data"
    }
   ],
   "source": [
    "plotter(final, 'sat2017_math', 'act2017_math', 'SAT vs ACT math scores for year 2017',\n",
    "               '2017 SAT Math Score', '2017 ACT Math Score')"
   ]
  },
  {
   "cell_type": "markdown",
   "metadata": {},
   "source": [
    "#### SAT vs. ACT verbal/reading scores for 2017\n",
    "A negative correlation can be observed"
   ]
  },
  {
   "cell_type": "code",
   "execution_count": 52,
   "metadata": {},
   "outputs": [
    {
     "data": {
      "text/plain": [
       "<Figure size 720x1080 with 0 Axes>"
      ]
     },
     "metadata": {},
     "output_type": "display_data"
    },
    {
     "data": {
      "image/png": "[encoded data removed]",
      "text/plain": [
       "<Figure size 360x360 with 1 Axes>"
      ]
     },
     "metadata": {},
     "output_type": "display_data"
    }
   ],
   "source": [
    "plotter(final, 'sat2017_rw', 'act2017_reading', 'SAT vs ACT verbal/reading scores for year 2017',\n",
    "               '2017 SAT Evidence-Based Reading and Writing Score', '2017 ACT Reading Score')"
   ]
  },
  {
   "cell_type": "markdown",
   "metadata": {},
   "source": [
    "#### SAT vs. ACT total/composite scores for 2017\n",
    "A negative correlation can be observed"
   ]
  },
  {
   "cell_type": "code",
   "execution_count": 53,
   "metadata": {},
   "outputs": [
    {
     "data": {
      "text/plain": [
       "<Figure size 720x1080 with 0 Axes>"
      ]
     },
     "metadata": {},
     "output_type": "display_data"
    },
    {
     "data": {
      "image/png": "[encoded data removed]",
      "text/plain": [
       "<Figure size 360x360 with 1 Axes>"
      ]
     },
     "metadata": {},
     "output_type": "display_data"
    }
   ],
   "source": [
    "plotter(final, 'sat2017_total', 'act2017_composite', 'SAT Vs ACT total/composite scores for 2017',\n",
    "               '2017 SAT Total Score', '2017 ACT Composite Score')"
   ]
  },
  {
   "cell_type": "markdown",
   "metadata": {},
   "source": [
    "#### Total scores for SAT 2017 vs. 2018\n",
    "A strong positive correlation is observed"
   ]
  },
  {
   "cell_type": "code",
   "execution_count": 54,
   "metadata": {},
   "outputs": [
    {
     "data": {
      "text/plain": [
       "<Figure size 720x1080 with 0 Axes>"
      ]
     },
     "metadata": {},
     "output_type": "display_data"
    },
    {
     "data": {
      "image/png": "[encoded data removed]",
      "text/plain": [
       "<Figure size 360x360 with 1 Axes>"
      ]
     },
     "metadata": {},
     "output_type": "display_data"
    }
   ],
   "source": [
    "plotter(final, 'sat2017_total', 'sat2018_total', 'Total scores for SAT 2017 Vs 2018',\n",
    "               'Year 2017', 'Year 2018')"
   ]
  },
  {
   "cell_type": "markdown",
   "metadata": {},
   "source": [
    "#### Composite scores for ACT 2017 vs. 2018\n",
    "A strong positive correlation is observed"
   ]
  },
  {
   "cell_type": "code",
   "execution_count": 55,
   "metadata": {},
   "outputs": [
    {
     "data": {
      "text/plain": [
       "<Figure size 720x1080 with 0 Axes>"
      ]
     },
     "metadata": {},
     "output_type": "display_data"
    },
    {
     "data": {
      "image/png": "[encoded data removed]",
      "text/plain": [
       "<Figure size 360x360 with 1 Axes>"
      ]
     },
     "metadata": {},
     "output_type": "display_data"
    }
   ],
   "source": [
    "plotter(final, 'act2017_composite', 'act2018_composite', 'Composite scores for ACT 2017 Vs 2018',\n",
    "               'Year 2017', 'Year 2018')"
   ]
  },
  {
   "cell_type": "markdown",
   "metadata": {},
   "source": [
    "### Plot and interpret boxplots\n",
    "\n",
    "<details>\n",
    "<summary>More Info</summary>  \n",
    "For each numeric variable in the dataframe create a boxplot using Seaborn. Boxplots demonstrate central tendency and spread in variables. In a certain sense, these are somewhat redundant with histograms, but you may be better able to identify clear outliers or differences in IQR, etc.\n",
    "\n",
    "Multiple values can be plotted to a single boxplot as long as they are of the same relative scale (meaning they have similar min/max values).\n",
    "\n",
    "Each boxplot should:\n",
    "- Only include variables of a similar scale\n",
    "- Have clear labels for each variable\n",
    "- Have appropriate titles and labels \n",
    "</details>"
   ]
  },
  {
   "cell_type": "markdown",
   "metadata": {},
   "source": [
    "#### Interpretation of SAT components \n",
    "- There is a slight dip in the median score for the reading & writing score Year-on-Year(YOY)\n",
    "- Overall, students did better for their math component in 2018, although the median score has a slight dip"
   ]
  },
  {
   "cell_type": "code",
   "execution_count": 56,
   "metadata": {},
   "outputs": [
    {
     "data": {
      "image/png": "[encoded data removed]",
      "text/plain": [
       "<Figure size 720x720 with 1 Axes>"
      ]
     },
     "metadata": {},
     "output_type": "display_data"
    }
   ],
   "source": [
    "ax = plt.subplots(figsize=(10,10))\n",
    "plt.title('2017 v 2018 SAT component scores',fontsize=20)\n",
    "plt.ylabel('Score',fontsize=20)\n",
    "x_col = {'sat2017_rw': 'red', 'sat2018_rw': 'red', 'sat2017_math' : 'green', 'sat2018_math':'green' }\n",
    "sns.boxplot(data=final[['sat2017_rw','sat2018_rw','sat2017_math','sat2018_math']],width=0.5,palette=x_col);"
   ]
  },
  {
   "cell_type": "markdown",
   "metadata": {},
   "source": [
    "#### Interpretation of SAT Total score\n",
    "- Students have improved in 2018, as observed by the increase in the minimum score\n",
    "- The distribution in 2018 is slightly smaller"
   ]
  },
  {
   "cell_type": "code",
   "execution_count": 57,
   "metadata": {},
   "outputs": [
    {
     "data": {
      "image/png": "[encoded data removed]",
      "text/plain": [
       "<Figure size 720x720 with 1 Axes>"
      ]
     },
     "metadata": {},
     "output_type": "display_data"
    }
   ],
   "source": [
    "# SAT Total boxplot\n",
    "ax = plt.subplots(figsize=(10,10))\n",
    "plt.title('2017 v 2018 SAT Total scores',fontsize=20)\n",
    "plt.ylabel('Score',fontsize=20)\n",
    "x_col = {'sat2017_total': 'red', 'sat2018_total': 'red' }\n",
    "sns.boxplot(data=final[['sat2017_total','sat2018_total']],width=0.5,palette=x_col);"
   ]
  },
  {
   "cell_type": "markdown",
   "metadata": {},
   "source": [
    "#### Interpretation of ACT component scores\n",
    "- There is a high variance in the 2018 engligh scores from the median above.\n",
    "- The overall performance having a slight dip in median from year 2017 to 2018.\n",
    "- The science scores had a tighter distribution than the other components.\n",
    "- Similar to the SAT total scores, there is a tigther distribution in the 2018 composite scores"
   ]
  },
  {
   "cell_type": "code",
   "execution_count": 58,
   "metadata": {},
   "outputs": [
    {
     "data": {
      "image/png": "[encoded data removed]",
      "text/plain": [
       "<Figure size 1296x720 with 1 Axes>"
      ]
     },
     "metadata": {},
     "output_type": "display_data"
    }
   ],
   "source": [
    "# ACT boxplot\n",
    "ax = plt.subplots(figsize=(18,10))\n",
    "plt.title('2017 v 2018 ACT component scores',fontsize=25)\n",
    "plt.ylabel('Score',fontsize=20)\n",
    "box_col = {'act2017_english': 'red', 'act2018_english': 'red', 'act2017_math': 'turquoise', 'act2018_math':'turquoise', 'act2017_reading':'lightgreen', 'act2018_reading':'lightgreen', 'act2017_science':'skyblue', 'act2018_science':'skyblue','act2017_composite':'gold','act2018_composite':'gold'}\n",
    "sns.boxplot(data=final[['act2017_english','act2018_english','act2017_math','act2018_math','act2017_reading','act2018_reading','act2017_science','act2018_science','act2017_composite','act2018_composite']],width=0.6,palette=box_col);"
   ]
  },
  {
   "cell_type": "markdown",
   "metadata": {},
   "source": [
    "#### Interpretation of SAT/ACT particpation rates\n",
    "- There are no whiskers on the ACT plots, indicating a tighter distrbution between the median and max values. This could be a result that most states who particpated in the ACT were state mandated, having 100% participation.\n",
    "- There is a definite increase in the SAT participation rate YOY, although the distribution in SAT 2018 rates are comparatively taller."
   ]
  },
  {
   "cell_type": "code",
   "execution_count": 59,
   "metadata": {},
   "outputs": [
    {
     "data": {
      "image/png": "[encoded data removed]",
      "text/plain": [
       "<Figure size 1152x720 with 1 Axes>"
      ]
     },
     "metadata": {},
     "output_type": "display_data"
    }
   ],
   "source": [
    "# ACT/SAT particpation rates\n",
    "ax = plt.subplots(figsize=(16,10))\n",
    "plt.title('2017 v 2018 SAT and ACT Participation rates',fontsize=20)\n",
    "plt.ylabel('Particpation rate (%)',fontsize=20)\n",
    "x_col = {'sat2017_participation': 'red', 'sat2018_participation': 'red', 'act2017_participation' : 'green', 'act2018_participation':'green' }\n",
    "sns.boxplot(data=final[['sat2017_participation', 'sat2018_participation','act2017_participation', 'act2018_participation']],width=0.5,palette=x_col);"
   ]
  },
  {
   "cell_type": "markdown",
   "metadata": {},
   "source": [
    "<details>\n",
    "<summary>More Info</summary>  #### Feel free to do additional plots below\n",
    "*(do research and choose your own chart types & variables)*\n",
    "\n",
    "Are there any additional trends or relationships you haven't explored? Was there something interesting you saw that you'd like to dive further into? It's likely that there are a few more plots you might want to generate to support your narrative and recommendations that you are building toward. **As always, make sure you're interpreting your plots as you go**.\n",
    "    </details>"
   ]
  },
  {
   "cell_type": "markdown",
   "metadata": {},
   "source": [
    "## Additional analysis"
   ]
  },
  {
   "cell_type": "code",
   "execution_count": 60,
   "metadata": {},
   "outputs": [
    {
     "data": {
      "image/png": "[encoded data removed]",
      "text/plain": [
       "<Figure size 1080x1080 with 1 Axes>"
      ]
     },
     "metadata": {},
     "output_type": "display_data"
    }
   ],
   "source": [
    "x = final['act2018_participation']\n",
    "y = final['sat2018_participation']\n",
    "z = final['state']\n",
    "fig, ax = plt.subplots(figsize = (15,15))\n",
    "ax.scatter(x, y,color=\"red\")\n",
    "plt.xlabel('ACT 2018 Participation Rate (%)',fontsize=15)\n",
    "plt.ylabel('SAT 2018 Participation Rate (%)',fontsize=15)\n",
    "plt.title('SAT2018 vs ACT2018 Participation Rate(%) by State',fontsize=20)\n",
    "\n",
    "\n",
    "for i, state in enumerate(z):\n",
    "    ax.annotate(state, (x[i],y[i]),fontsize=11,rotation=15)\n",
    "\n",
    "plt.show()"
   ]
  },
  {
   "cell_type": "markdown",
   "metadata": {},
   "source": [
    "### I would like to understand the correlation between states and both their participation rates.\n",
    "<i> (For the analysis, I would be referring to 2018 rates as we will be recommending based on after this year)\n",
    "\n",
    "#### Observations:\n",
    "- Corresponding with the prior visualisations, we know states in the bottom far right and top far left quadrands favour one test over the other.\n",
    "- The 4 states in the middle; Texas, Georgia, Florida and Oregon are of interest as they seem to have a decent equal proportion with regards to both tests, possibly signifying these states may easily favour one test over the other with sufficient motivation provided."
   ]
  },
  {
   "cell_type": "markdown",
   "metadata": {},
   "source": [
    "#### (Optional): Using Tableau, create a choropleth map for each variable using a map of the US. \n",
    "\n",
    "Save this plot as an image file in an images directory, provide a relative path, and insert the image into notebook in markdown."
   ]
  },
  {
   "cell_type": "code",
   "execution_count": null,
   "metadata": {},
   "outputs": [],
   "source": []
  },
  {
   "cell_type": "markdown",
   "metadata": {},
   "source": [
    "## Descriptive and Inferential Statistics"
   ]
  },
  {
   "cell_type": "markdown",
   "metadata": {},
   "source": [
    "#### Summarizing Distributions\n",
    "<details>\n",
    "<summary>More Info</summary>  \n",
    "Above, we used pandas `describe` to provide quick summary statistics of our numeric columns. We also demonstrated many visual relationships.\n",
    "\n",
    "As data scientists, having a complete understanding of data is imperative prior to modeling.\n",
    "\n",
    "While we will continue to build our analytic tools, we know that measures of *central tendency*, *spread*, and *shape/skewness* provide a quick summary of distributions.\n",
    "\n",
    "For each variable in your data, summarize the underlying distributions (in words & statistics)\n",
    " - Be thorough in your verbal description of these distributions.\n",
    " - Be sure to back up these summaries with statistics.\n",
    "    </details>"
   ]
  },
  {
   "cell_type": "code",
   "execution_count": 61,
   "metadata": {},
   "outputs": [
    {
     "data": {
      "text/html": [
       "<div>\n",
       "<style scoped>\n",
       "    .dataframe tbody tr th:only-of-type {\n",
       "        vertical-align: middle;\n",
       "    }\n",
       "\n",
       "    .dataframe tbody tr th {\n",
       "        vertical-align: top;\n",
       "    }\n",
       "\n",
       "    .dataframe thead th {\n",
       "        text-align: right;\n",
       "    }\n",
       "</style>\n",
       "<table border=\"1\" class=\"dataframe\">\n",
       "  <thead>\n",
       "    <tr style=\"text-align: right;\">\n",
       "      <th></th>\n",
       "      <th>count</th>\n",
       "      <th>mean</th>\n",
       "      <th>std</th>\n",
       "      <th>min</th>\n",
       "      <th>25%</th>\n",
       "      <th>50%</th>\n",
       "      <th>75%</th>\n",
       "      <th>max</th>\n",
       "      <th>skew</th>\n",
       "    </tr>\n",
       "  </thead>\n",
       "  <tbody>\n",
       "    <tr>\n",
       "      <th>sat2017_participation</th>\n",
       "      <td>51.0</td>\n",
       "      <td>39.80</td>\n",
       "      <td>35.28</td>\n",
       "      <td>2.0</td>\n",
       "      <td>4.00</td>\n",
       "      <td>38.0</td>\n",
       "      <td>66.00</td>\n",
       "      <td>100.0</td>\n",
       "      <td>0.346</td>\n",
       "    </tr>\n",
       "    <tr>\n",
       "      <th>sat2017_rw</th>\n",
       "      <td>51.0</td>\n",
       "      <td>569.12</td>\n",
       "      <td>45.67</td>\n",
       "      <td>482.0</td>\n",
       "      <td>533.50</td>\n",
       "      <td>559.0</td>\n",
       "      <td>613.00</td>\n",
       "      <td>644.0</td>\n",
       "      <td>0.273</td>\n",
       "    </tr>\n",
       "    <tr>\n",
       "      <th>sat2017_math</th>\n",
       "      <td>51.0</td>\n",
       "      <td>556.88</td>\n",
       "      <td>47.12</td>\n",
       "      <td>468.0</td>\n",
       "      <td>523.50</td>\n",
       "      <td>548.0</td>\n",
       "      <td>599.00</td>\n",
       "      <td>651.0</td>\n",
       "      <td>0.365</td>\n",
       "    </tr>\n",
       "    <tr>\n",
       "      <th>sat2017_total</th>\n",
       "      <td>51.0</td>\n",
       "      <td>1126.10</td>\n",
       "      <td>92.49</td>\n",
       "      <td>950.0</td>\n",
       "      <td>1055.50</td>\n",
       "      <td>1107.0</td>\n",
       "      <td>1212.00</td>\n",
       "      <td>1295.0</td>\n",
       "      <td>0.311</td>\n",
       "    </tr>\n",
       "    <tr>\n",
       "      <th>act2017_participation</th>\n",
       "      <td>51.0</td>\n",
       "      <td>65.25</td>\n",
       "      <td>32.14</td>\n",
       "      <td>8.0</td>\n",
       "      <td>31.00</td>\n",
       "      <td>69.0</td>\n",
       "      <td>100.00</td>\n",
       "      <td>100.0</td>\n",
       "      <td>-0.198</td>\n",
       "    </tr>\n",
       "    <tr>\n",
       "      <th>act2017_english</th>\n",
       "      <td>51.0</td>\n",
       "      <td>20.93</td>\n",
       "      <td>2.35</td>\n",
       "      <td>16.3</td>\n",
       "      <td>19.00</td>\n",
       "      <td>20.7</td>\n",
       "      <td>23.30</td>\n",
       "      <td>25.5</td>\n",
       "      <td>0.353</td>\n",
       "    </tr>\n",
       "    <tr>\n",
       "      <th>act2017_math</th>\n",
       "      <td>51.0</td>\n",
       "      <td>21.18</td>\n",
       "      <td>1.98</td>\n",
       "      <td>18.0</td>\n",
       "      <td>19.40</td>\n",
       "      <td>20.9</td>\n",
       "      <td>23.10</td>\n",
       "      <td>25.3</td>\n",
       "      <td>0.333</td>\n",
       "    </tr>\n",
       "    <tr>\n",
       "      <th>act2017_reading</th>\n",
       "      <td>51.0</td>\n",
       "      <td>22.01</td>\n",
       "      <td>2.07</td>\n",
       "      <td>18.1</td>\n",
       "      <td>20.45</td>\n",
       "      <td>21.8</td>\n",
       "      <td>24.15</td>\n",
       "      <td>26.0</td>\n",
       "      <td>0.269</td>\n",
       "    </tr>\n",
       "    <tr>\n",
       "      <th>act2017_science</th>\n",
       "      <td>51.0</td>\n",
       "      <td>21.43</td>\n",
       "      <td>1.73</td>\n",
       "      <td>18.2</td>\n",
       "      <td>19.95</td>\n",
       "      <td>21.3</td>\n",
       "      <td>22.75</td>\n",
       "      <td>24.9</td>\n",
       "      <td>0.237</td>\n",
       "    </tr>\n",
       "    <tr>\n",
       "      <th>act2017_composite</th>\n",
       "      <td>51.0</td>\n",
       "      <td>21.52</td>\n",
       "      <td>2.02</td>\n",
       "      <td>17.8</td>\n",
       "      <td>19.80</td>\n",
       "      <td>21.4</td>\n",
       "      <td>23.60</td>\n",
       "      <td>25.5</td>\n",
       "      <td>0.320</td>\n",
       "    </tr>\n",
       "    <tr>\n",
       "      <th>act2018_participation</th>\n",
       "      <td>51.0</td>\n",
       "      <td>61.65</td>\n",
       "      <td>34.08</td>\n",
       "      <td>7.0</td>\n",
       "      <td>28.50</td>\n",
       "      <td>66.0</td>\n",
       "      <td>100.00</td>\n",
       "      <td>100.0</td>\n",
       "      <td>-0.022</td>\n",
       "    </tr>\n",
       "    <tr>\n",
       "      <th>act2018_composite</th>\n",
       "      <td>51.0</td>\n",
       "      <td>21.49</td>\n",
       "      <td>2.11</td>\n",
       "      <td>17.7</td>\n",
       "      <td>19.95</td>\n",
       "      <td>21.3</td>\n",
       "      <td>23.55</td>\n",
       "      <td>25.6</td>\n",
       "      <td>0.282</td>\n",
       "    </tr>\n",
       "    <tr>\n",
       "      <th>act2018_english</th>\n",
       "      <td>51.0</td>\n",
       "      <td>20.99</td>\n",
       "      <td>2.45</td>\n",
       "      <td>16.6</td>\n",
       "      <td>19.10</td>\n",
       "      <td>20.2</td>\n",
       "      <td>23.70</td>\n",
       "      <td>26.0</td>\n",
       "      <td>0.372</td>\n",
       "    </tr>\n",
       "    <tr>\n",
       "      <th>act2018_math</th>\n",
       "      <td>51.0</td>\n",
       "      <td>21.13</td>\n",
       "      <td>2.04</td>\n",
       "      <td>17.8</td>\n",
       "      <td>19.40</td>\n",
       "      <td>20.7</td>\n",
       "      <td>23.15</td>\n",
       "      <td>25.2</td>\n",
       "      <td>0.270</td>\n",
       "    </tr>\n",
       "    <tr>\n",
       "      <th>act2018_reading</th>\n",
       "      <td>51.0</td>\n",
       "      <td>22.02</td>\n",
       "      <td>2.17</td>\n",
       "      <td>18.0</td>\n",
       "      <td>20.45</td>\n",
       "      <td>21.6</td>\n",
       "      <td>24.10</td>\n",
       "      <td>26.1</td>\n",
       "      <td>0.201</td>\n",
       "    </tr>\n",
       "    <tr>\n",
       "      <th>act2018_science</th>\n",
       "      <td>51.0</td>\n",
       "      <td>21.35</td>\n",
       "      <td>1.87</td>\n",
       "      <td>17.9</td>\n",
       "      <td>19.85</td>\n",
       "      <td>21.1</td>\n",
       "      <td>23.05</td>\n",
       "      <td>24.9</td>\n",
       "      <td>0.172</td>\n",
       "    </tr>\n",
       "    <tr>\n",
       "      <th>sat2018_participation</th>\n",
       "      <td>51.0</td>\n",
       "      <td>45.75</td>\n",
       "      <td>37.31</td>\n",
       "      <td>2.0</td>\n",
       "      <td>4.50</td>\n",
       "      <td>52.0</td>\n",
       "      <td>77.50</td>\n",
       "      <td>100.0</td>\n",
       "      <td>0.136</td>\n",
       "    </tr>\n",
       "    <tr>\n",
       "      <th>sat2018_rw</th>\n",
       "      <td>51.0</td>\n",
       "      <td>563.69</td>\n",
       "      <td>47.50</td>\n",
       "      <td>480.0</td>\n",
       "      <td>534.50</td>\n",
       "      <td>552.0</td>\n",
       "      <td>610.50</td>\n",
       "      <td>643.0</td>\n",
       "      <td>0.282</td>\n",
       "    </tr>\n",
       "    <tr>\n",
       "      <th>sat2018_math</th>\n",
       "      <td>51.0</td>\n",
       "      <td>556.24</td>\n",
       "      <td>47.77</td>\n",
       "      <td>480.0</td>\n",
       "      <td>522.50</td>\n",
       "      <td>544.0</td>\n",
       "      <td>593.50</td>\n",
       "      <td>655.0</td>\n",
       "      <td>0.530</td>\n",
       "    </tr>\n",
       "    <tr>\n",
       "      <th>sat2018_total</th>\n",
       "      <td>51.0</td>\n",
       "      <td>1120.02</td>\n",
       "      <td>94.16</td>\n",
       "      <td>977.0</td>\n",
       "      <td>1057.50</td>\n",
       "      <td>1098.0</td>\n",
       "      <td>1204.00</td>\n",
       "      <td>1298.0</td>\n",
       "      <td>0.466</td>\n",
       "    </tr>\n",
       "  </tbody>\n",
       "</table>\n",
       "</div>"
      ],
      "text/plain": [
       "                       count     mean    std    min      25%     50%      75%  \\\n",
       "sat2017_participation   51.0    39.80  35.28    2.0     4.00    38.0    66.00   \n",
       "sat2017_rw              51.0   569.12  45.67  482.0   533.50   559.0   613.00   \n",
       "sat2017_math            51.0   556.88  47.12  468.0   523.50   548.0   599.00   \n",
       "sat2017_total           51.0  1126.10  92.49  950.0  1055.50  1107.0  1212.00   \n",
       "act2017_participation   51.0    65.25  32.14    8.0    31.00    69.0   100.00   \n",
       "act2017_english         51.0    20.93   2.35   16.3    19.00    20.7    23.30   \n",
       "act2017_math            51.0    21.18   1.98   18.0    19.40    20.9    23.10   \n",
       "act2017_reading         51.0    22.01   2.07   18.1    20.45    21.8    24.15   \n",
       "act2017_science         51.0    21.43   1.73   18.2    19.95    21.3    22.75   \n",
       "act2017_composite       51.0    21.52   2.02   17.8    19.80    21.4    23.60   \n",
       "act2018_participation   51.0    61.65  34.08    7.0    28.50    66.0   100.00   \n",
       "act2018_composite       51.0    21.49   2.11   17.7    19.95    21.3    23.55   \n",
       "act2018_english         51.0    20.99   2.45   16.6    19.10    20.2    23.70   \n",
       "act2018_math            51.0    21.13   2.04   17.8    19.40    20.7    23.15   \n",
       "act2018_reading         51.0    22.02   2.17   18.0    20.45    21.6    24.10   \n",
       "act2018_science         51.0    21.35   1.87   17.9    19.85    21.1    23.05   \n",
       "sat2018_participation   51.0    45.75  37.31    2.0     4.50    52.0    77.50   \n",
       "sat2018_rw              51.0   563.69  47.50  480.0   534.50   552.0   610.50   \n",
       "sat2018_math            51.0   556.24  47.77  480.0   522.50   544.0   593.50   \n",
       "sat2018_total           51.0  1120.02  94.16  977.0  1057.50  1098.0  1204.00   \n",
       "\n",
       "                          max   skew  \n",
       "sat2017_participation   100.0  0.346  \n",
       "sat2017_rw              644.0  0.273  \n",
       "sat2017_math            651.0  0.365  \n",
       "sat2017_total          1295.0  0.311  \n",
       "act2017_participation   100.0 -0.198  \n",
       "act2017_english          25.5  0.353  \n",
       "act2017_math             25.3  0.333  \n",
       "act2017_reading          26.0  0.269  \n",
       "act2017_science          24.9  0.237  \n",
       "act2017_composite        25.5  0.320  \n",
       "act2018_participation   100.0 -0.022  \n",
       "act2018_composite        25.6  0.282  \n",
       "act2018_english          26.0  0.372  \n",
       "act2018_math             25.2  0.270  \n",
       "act2018_reading          26.1  0.201  \n",
       "act2018_science          24.9  0.172  \n",
       "sat2018_participation   100.0  0.136  \n",
       "sat2018_rw              643.0  0.282  \n",
       "sat2018_math            655.0  0.530  \n",
       "sat2018_total          1298.0  0.466  "
      ]
     },
     "execution_count": 61,
     "metadata": {},
     "output_type": "execute_result"
    }
   ],
   "source": [
    "x = final.describe().T.round(2)\n",
    "y = final.skew().T.round(3)\n",
    "describe_plus_skew = pd.concat([x,y.rename('skew')], axis=1)\n",
    "describe_plus_skew"
   ]
  },
  {
   "cell_type": "markdown",
   "metadata": {},
   "source": [
    "\n",
    "#### Distributions in the data\n",
    "\n",
    "In this dataset, each data represents a sample from a population.                        \n",
    "For example, for ACT math test:\n",
    "- Population: the test results of all the students who take this test, nation-wide.\n",
    "- Population mean: is the national average of ACT math test (total scores/total no. of test takers) \n",
    "- Sample: the state means of ACT math test. We have 51 samples (51 states)\n",
    "\n",
    "***According to CLT, we generally assuming that data we sample from a population will be normally distributed. Do we observe this trend?***"
   ]
  },
  {
   "cell_type": "markdown",
   "metadata": {},
   "source": [
    "##### Answer: No, as most of the test results are not normally distributed."
   ]
  },
  {
   "cell_type": "markdown",
   "metadata": {},
   "source": [
    "Does This Assumption Hold for:\n",
    "    - Math\n",
    "    - Reading\n",
    "    - Rates\n",
    "Explain your answers for each distribution and how you think this will affect estimates made from these data."
   ]
  },
  {
   "cell_type": "markdown",
   "metadata": {},
   "source": [
    "##### Answer: For math and reading are more normally distributed but the shape still yet skewed either to left or right and the peaks did not lied on central. As for the participation rates, there is a left tail skew due to states taking one test or the other."
   ]
  },
  {
   "cell_type": "markdown",
   "metadata": {},
   "source": [
    "#### Estimate Limits of Data\n",
    "\n",
    "Suppose we only seek to understand the relationship between SAT and ACT participation rates in 2017. \n",
    "\n",
    "##### Does it make sense to conduct statistical inference given these data specifically? \n",
    "\n",
    "Why or why not?\n",
    "\n",
    "*(think about granularity, aggregation, the relationships between populations size & rates...consider the actually populations these data describe in answering this question)*"
   ]
  },
  {
   "cell_type": "markdown",
   "metadata": {},
   "source": [
    "##### Answer:  No, SAT and ACT have different test measurements and participation rates have an inverse relationship in most states as observed in the advanced analysis section above."
   ]
  },
  {
   "cell_type": "markdown",
   "metadata": {},
   "source": [
    "##### Is it appropriate to compare *these* specific SAT and ACT math scores  - can we say students with higher SAT math score is better than those with lower ACT math score, or vice versa?\n",
    "\n",
    "Why or why not?"
   ]
  },
  {
   "cell_type": "markdown",
   "metadata": {},
   "source": [
    "##### Answer: No, as the samples of students taking the SAT or ACT are not equivalent. Some states require one test or the other, so we could expect those states to have lower scores than a state where only the top students took the test (this is supported by the inverse relationship between participation rate and test score)."
   ]
  },
  {
   "cell_type": "markdown",
   "metadata": {},
   "source": [
    "#### Statistical Evaluation of Distributions \n",
    "\n",
    "**If you feel it's appropriate**, using methods we discussed in class, run hypothesis tests to compare variables of interest in our dataset. "
   ]
  },
  {
   "cell_type": "markdown",
   "metadata": {},
   "source": [
    "##### Answer: \n",
    "\n",
    "Based on the example qn above,\n",
    "\n",
    " ` Let H0: There is no difference between SAT2017 math scores and ACT2017 math scores`\n",
    " \n",
    "` Let HA: There is a significant difference between SAT2017 math scores and ACT2017 math scores`\n",
    "\n",
    "` Confidence level is set at 95%`"
   ]
  },
  {
   "cell_type": "code",
   "execution_count": 62,
   "metadata": {},
   "outputs": [
    {
     "data": {
      "text/plain": [
       "Ttest_indResult(statistic=81.9228121078972, pvalue=1.7472370738207526e-93)"
      ]
     },
     "execution_count": 62,
     "metadata": {},
     "output_type": "execute_result"
    }
   ],
   "source": [
    "#size of sample = no. of states\n",
    "n = 51\n",
    "\n",
    "# 2017 SAT math stats\n",
    "mean1=np.mean(final['sat2017_math'])\n",
    "std1=np.std(final['sat2017_math'])\n",
    "\n",
    "# 2017 ACT math stats\n",
    "mean2=np.mean(final['act2017_math'])\n",
    "std2=np.std(final['act2017_math'])\n",
    "\n",
    "results = stats.ttest_ind_from_stats(mean1,std1,n, mean2,std2,n)\n",
    "results"
   ]
  },
  {
   "cell_type": "markdown",
   "metadata": {},
   "source": [
    "#### Based on the pvalue above, it is significantly lower than 0.05. Therefore, we reject the null hypothesis, and accept the alternative hypothesis that there is a significant difference between SAT2017 math scores and ACT2017 math scores"
   ]
  },
  {
   "cell_type": "markdown",
   "metadata": {},
   "source": [
    "## Outside Research"
   ]
  },
  {
   "cell_type": "markdown",
   "metadata": {},
   "source": [
    "<details>\n",
    "<summary>More Info</summary>  Based upon your observations, choose **three** states that demonstrate interesting trends in their SAT and/or ACT participation rates. Spend some time doing outside research on state policies that might influence these rates, and summarize your findings below. **Feel free to go back and create new plots that highlight these states of interest**. If you bring in any outside tables or charts, make sure you are explicit about having borrowed them. If you quote any text, make sure that it renders as being quoted. (Make sure that you cite your sources -- check with you local instructor for citation preferences).\n",
    "    </details>"
   ]
  },
  {
   "cell_type": "markdown",
   "metadata": {},
   "source": [
    "#### Exploring the funding and state requirements of SAT and/or ACT tests in the upper east coast...\n",
    "#### data source: [link here](https://magoosh.com/hs/act/2017/states-that-require-the-act-or-sat/)\n"
   ]
  },
  {
   "cell_type": "code",
   "execution_count": 63,
   "metadata": {},
   "outputs": [
    {
     "data": {
      "text/html": [
       "<div>\n",
       "<style scoped>\n",
       "    .dataframe tbody tr th:only-of-type {\n",
       "        vertical-align: middle;\n",
       "    }\n",
       "\n",
       "    .dataframe tbody tr th {\n",
       "        vertical-align: top;\n",
       "    }\n",
       "\n",
       "    .dataframe thead th {\n",
       "        text-align: right;\n",
       "    }\n",
       "</style>\n",
       "<table border=\"1\" class=\"dataframe\">\n",
       "  <thead>\n",
       "    <tr style=\"text-align: right;\">\n",
       "      <th></th>\n",
       "      <th>state</th>\n",
       "      <th>sat2017_participation</th>\n",
       "      <th>act2017_participation</th>\n",
       "      <th>sat2018_participation</th>\n",
       "      <th>act2018_participation</th>\n",
       "    </tr>\n",
       "  </thead>\n",
       "  <tbody>\n",
       "    <tr>\n",
       "      <th>21</th>\n",
       "      <td>Massachusetts</td>\n",
       "      <td>76</td>\n",
       "      <td>29</td>\n",
       "      <td>80</td>\n",
       "      <td>25</td>\n",
       "    </tr>\n",
       "    <tr>\n",
       "      <th>30</th>\n",
       "      <td>New Jersey</td>\n",
       "      <td>70</td>\n",
       "      <td>34</td>\n",
       "      <td>82</td>\n",
       "      <td>31</td>\n",
       "    </tr>\n",
       "    <tr>\n",
       "      <th>32</th>\n",
       "      <td>New York</td>\n",
       "      <td>67</td>\n",
       "      <td>31</td>\n",
       "      <td>79</td>\n",
       "      <td>27</td>\n",
       "    </tr>\n",
       "    <tr>\n",
       "      <th>38</th>\n",
       "      <td>Pennsylvania</td>\n",
       "      <td>65</td>\n",
       "      <td>23</td>\n",
       "      <td>70</td>\n",
       "      <td>20</td>\n",
       "    </tr>\n",
       "    <tr>\n",
       "      <th>39</th>\n",
       "      <td>Rhode Island</td>\n",
       "      <td>71</td>\n",
       "      <td>21</td>\n",
       "      <td>97</td>\n",
       "      <td>15</td>\n",
       "    </tr>\n",
       "    <tr>\n",
       "      <th>45</th>\n",
       "      <td>Vermont</td>\n",
       "      <td>60</td>\n",
       "      <td>29</td>\n",
       "      <td>64</td>\n",
       "      <td>24</td>\n",
       "    </tr>\n",
       "    <tr>\n",
       "      <th>46</th>\n",
       "      <td>Virginia</td>\n",
       "      <td>65</td>\n",
       "      <td>29</td>\n",
       "      <td>68</td>\n",
       "      <td>24</td>\n",
       "    </tr>\n",
       "  </tbody>\n",
       "</table>\n",
       "</div>"
      ],
      "text/plain": [
       "            state  sat2017_participation  act2017_participation  \\\n",
       "21  Massachusetts                     76                     29   \n",
       "30     New Jersey                     70                     34   \n",
       "32       New York                     67                     31   \n",
       "38   Pennsylvania                     65                     23   \n",
       "39   Rhode Island                     71                     21   \n",
       "45        Vermont                     60                     29   \n",
       "46       Virginia                     65                     29   \n",
       "\n",
       "    sat2018_participation  act2018_participation  \n",
       "21                     80                     25  \n",
       "30                     82                     31  \n",
       "32                     79                     27  \n",
       "38                     70                     20  \n",
       "39                     97                     15  \n",
       "45                     64                     24  \n",
       "46                     68                     24  "
      ]
     },
     "execution_count": 63,
     "metadata": {},
     "output_type": "execute_result"
    }
   ],
   "source": [
    "non_funded_states = ['New York', 'Massachusetts', 'Vermont', 'New Jersey','Rhode Island', 'Pennsylvania', 'Virginia']\n",
    "final[final['state'].isin(non_funded_states)].loc[:,['state', 'sat2017_participation', 'act2017_participation','sat2018_participation', 'act2018_participation']]"
   ]
  },
  {
   "cell_type": "markdown",
   "metadata": {},
   "source": [
    "![image of funded states](../data/funded_st.png)"
   ]
  },
  {
   "cell_type": "markdown",
   "metadata": {},
   "source": [
    "##### The following can be oberserved:\n",
    "\n",
    "1) The Upper East Coast effect\n",
    "\n",
    "I've chosen to examine these 7 states in the upper east coast to understand their inclinations towards SATs vs ACTs. Rhode Island showed the biggest jump YOY for SAT even though there was no state requirement or funding. This would aid CollegeBoard's effort to promote the SAT.\n",
    "\n",
    "2) [Graduation rate](https://nces.ed.gov/programs/coe/indicator_coi.asp)\n",
    "\n",
    "Zooming into 3 states, Virginia, Vermont and Pennslyvania. These states showed a slower uptake but a definite trend towards SAT. Comparing the graduation rates across the 3 states, Virginia has the highest high school graduands at 88%\n",
    "\n"
   ]
  },
  {
   "cell_type": "markdown",
   "metadata": {},
   "source": [
    "## Conclusions and Recommendations"
   ]
  },
  {
   "cell_type": "markdown",
   "metadata": {},
   "source": [
    "<details>\n",
    "<summary>More Info</summary>  Based on your exploration of the data, what are you key takeaways and recommendations? Choose one state with a lower participation rate and provide a suggestion for how the College Board might increase participation amongst graduating seniors in this state. Are there additional data you desire that would better inform your investigations?\n",
    "    </details>"
   ]
  },
  {
   "cell_type": "markdown",
   "metadata": {},
   "source": [
    "##### Key Takeways:\n",
    "\n",
    "1) A higher participation rate can only be achieved by the state making either test mandatory and providing the necessary funding to make it affordable for students.\n",
    "* For example, Ohio state had made either ACT or SAT compulsory for high school students. This resulted both test participation rates to increase YOY.\n",
    "    \n",
    "2) Overall SAT scores improved in year 2018 despite the higher participation rate comparing to previous year, while ACT score remains relatively stable.\n",
    "\n",
    "3) Factors such as choosing to go to a neighbouring state influenced the preference between SAT and ACT.\n",
    "* For example, in South and North Carolina, even though they had 100 % ACT participation due to state funding, their SAT participation was above 50%, indicating that students were preparing to enrol in colleges in the upper East Coast\n",
    "\n",
    "\n",
    "##### Recommendation: \n",
    "The state of Virginia currently neither has a requirement for either test nor does it fund students to take up any of the tests. Given that there is a strong inclination towards SAT in the state as well as a higher graduand rate of high school students, I would recommend College Board approach a partnership with the state of Virgina to promote the SATs through the following actions:\n",
    "\n",
    "1) Comparing the [costs of each test](https://www.vox.com/the-goods/2019/3/28/18282453/sat-act-college-admission-testing-cost-price), the SAT is fiscally more sound for the state of Virginia to sponsor all high school students.\n",
    "\n",
    "2) Create digital prep workshops or seminars to increase the student interest in the SAT and [hear success stories](https://www.prepscholar.com/act/s/case_studies) from SAT alumni.\n",
    "\n",
    "3) Encouraging Virginia colleges to offer SAT sponsorships\n",
    "\n",
    "\n",
    "\n",
    "\n",
    "##### ≈≈≈≈≈  Further investigation required: ≈≈≈≈≈\n",
    "More details are required on college preferences of Virginia students to confirm if students would tend to enrol in colleges within Virginia or the upper east coast.\n"
   ]
  }
 ],
 "metadata": {
  "anaconda-cloud": {},
  "kernelspec": {
   "display_name": "Python 3",
   "language": "python",
   "name": "python3"
  },
  "language_info": {
   "codemirror_mode": {
    "name": "ipython",
    "version": 3
   },
   "file_extension": ".py",
   "mimetype": "text/x-python",
   "name": "python",
   "nbconvert_exporter": "python",
   "pygments_lexer": "ipython3",
   "version": "3.7.6"
  },
  "varInspector": {
   "cols": {
    "lenName": 16,
    "lenType": 16,
    "lenVar": 40
   },
   "kernels_config": {
    "python": {
     "delete_cmd_postfix": "",
     "delete_cmd_prefix": "del ",
     "library": "var_list.py",
     "varRefreshCmd": "print(var_dic_list())"
    },
    "r": {
     "delete_cmd_postfix": ") ",
     "delete_cmd_prefix": "rm(",
     "library": "var_list.r",
     "varRefreshCmd": "cat(var_dic_list()) "
    }
   },
   "types_to_exclude": [
    "module",
    "function",
    "builtin_function_or_method",
    "instance",
    "_Feature"
   ],
   "window_display": false
  }
 },
 "nbformat": 4,
 "nbformat_minor": 2
}
