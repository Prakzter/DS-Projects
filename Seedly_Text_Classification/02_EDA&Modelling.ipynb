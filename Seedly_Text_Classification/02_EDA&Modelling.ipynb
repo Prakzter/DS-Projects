{
 "cells": [
  {
   "cell_type": "markdown",
   "metadata": {},
   "source": [
    "# EDA and Modelling"
   ]
  },
  {
   "cell_type": "markdown",
   "metadata": {},
   "source": [
    "\n",
    "\n",
    "### We have succesfully scraped a reasonably sized corpus from 2 subreddits: Stocks and Real Estate investments and will proceed to clean up the corpus before modelling\n",
    "\n",
    "\n",
    "[Recap on how we scrapped the data](01_Data_collection.ipynb)"
   ]
  },
  {
   "cell_type": "code",
   "execution_count": 31,
   "metadata": {},
   "outputs": [],
   "source": [
    "# import standard libraries\n",
    "import pandas as pd\n",
    "import numpy as np\n",
    "import matplotlib.pyplot as plt\n",
    "\n",
    "# import libraries for text cleaning\n",
    "import regex as re\n",
    "from nltk.stem import WordNetLemmatizer, PorterStemmer\n",
    "from nltk.corpus import stopwords\n",
    "\n",
    "# import libraries for feature engineering and model creation\n",
    "from sklearn.feature_extraction.text import CountVectorizer, TfidfVectorizer\n",
    "from sklearn.linear_model import LogisticRegression\n",
    "from sklearn.naive_bayes import MultinomialNB\n",
    "from sklearn.svm import SVC\n",
    "from sklearn.pipeline import Pipeline\n",
    "from sklearn.model_selection import GridSearchCV, train_test_split\n",
    "from sklearn.metrics import confusion_matrix, plot_confusion_matrix, matthews_corrcoef\n",
    "\n",
    "# import library to output our model \n",
    "import pickle"
   ]
  },
  {
   "cell_type": "code",
   "execution_count": 2,
   "metadata": {
    "scrolled": true
   },
   "outputs": [
    {
     "name": "stdout",
     "output_type": "stream",
     "text": [
      "<class 'pandas.core.frame.DataFrame'>\n",
      "RangeIndex: 1253 entries, 0 to 1252\n",
      "Data columns (total 2 columns):\n",
      " #   Column     Non-Null Count  Dtype \n",
      "---  ------     --------------  ----- \n",
      " 0   subreddit  1253 non-null   int64 \n",
      " 1   rawtext    1248 non-null   object\n",
      "dtypes: int64(1), object(1)\n",
      "memory usage: 19.7+ KB\n"
     ]
    }
   ],
   "source": [
    "# import dataset\n",
    "\n",
    "rawtext = pd.read_csv('data/final.csv')\n",
    "rawtext.drop(columns=['Unnamed: 0'], axis=1, inplace=True)\n",
    "rawtext.head(15)\n",
    "rawtext.info()"
   ]
  },
  {
   "cell_type": "markdown",
   "metadata": {},
   "source": [
    "## Data cleaning"
   ]
  },
  {
   "cell_type": "code",
   "execution_count": 3,
   "metadata": {},
   "outputs": [],
   "source": [
    "# create a function to clean up the rawtext of non-word characters and digits\n",
    "\n",
    "def cleaning_str(string):\n",
    "    new_1 = re.sub('(http://.*?\\s)|(http://.*)',' ',str(string))\n",
    "    new_2 = re.sub('[.*_]','',new_1)\n",
    "    new_3 = re.sub('\\d','',new_2)\n",
    "    new_4 = re.sub('\\W',' ',new_3)\n",
    "    return new_4\n",
    "\n",
    "rawtext['cltext'] = rawtext['rawtext'].apply(cleaning_str)\n"
   ]
  },
  {
   "cell_type": "code",
   "execution_count": 4,
   "metadata": {},
   "outputs": [],
   "source": [
    "# create a function to lemmatise the text by the various POS\n",
    "\n",
    "lem = WordNetLemmatizer()\n",
    "\n",
    "def lemmer(line):\n",
    "    bagW = []\n",
    "    liner = line.lower().split()\n",
    "    for word in liner:\n",
    "        a = lem.lemmatize(word, \"v\")\n",
    "        b = lem.lemmatize(a, \"n\")\n",
    "        c = lem.lemmatize(b, \"r\")\n",
    "        d = lem.lemmatize(c, \"a\")\n",
    "        bagW.append(d)\n",
    "    \n",
    "    return \" \".join(bagW)\n",
    "\n",
    "\n",
    "\n",
    "rawtext['ltext'] = rawtext['cltext'].apply(lemmer)"
   ]
  },
  {
   "cell_type": "markdown",
   "metadata": {},
   "source": [
    "## EDA"
   ]
  },
  {
   "cell_type": "code",
   "execution_count": 5,
   "metadata": {},
   "outputs": [
    {
     "name": "stdout",
     "output_type": "stream",
     "text": [
      "<class 'pandas.core.frame.DataFrame'>\n",
      "RangeIndex: 1253 entries, 0 to 1252\n",
      "Data columns (total 4 columns):\n",
      " #   Column     Non-Null Count  Dtype \n",
      "---  ------     --------------  ----- \n",
      " 0   subreddit  1253 non-null   int64 \n",
      " 1   rawtext    1248 non-null   object\n",
      " 2   cltext     1253 non-null   object\n",
      " 3   ltext      1253 non-null   object\n",
      "dtypes: int64(1), object(3)\n",
      "memory usage: 39.3+ KB\n"
     ]
    },
    {
     "data": {
      "text/html": [
       "<div>\n",
       "<style scoped>\n",
       "    .dataframe tbody tr th:only-of-type {\n",
       "        vertical-align: middle;\n",
       "    }\n",
       "\n",
       "    .dataframe tbody tr th {\n",
       "        vertical-align: top;\n",
       "    }\n",
       "\n",
       "    .dataframe thead th {\n",
       "        text-align: right;\n",
       "    }\n",
       "</style>\n",
       "<table border=\"1\" class=\"dataframe\">\n",
       "  <thead>\n",
       "    <tr style=\"text-align: right;\">\n",
       "      <th></th>\n",
       "      <th>subreddit</th>\n",
       "      <th>rawtext</th>\n",
       "      <th>cltext</th>\n",
       "      <th>ltext</th>\n",
       "    </tr>\n",
       "  </thead>\n",
       "  <tbody>\n",
       "    <tr>\n",
       "      <th>0</th>\n",
       "      <td>1</td>\n",
       "      <td>Please use this thread to discuss your portfol...</td>\n",
       "      <td>Please use this thread to discuss your portfol...</td>\n",
       "      <td>please use this thread to discus your portfoli...</td>\n",
       "    </tr>\n",
       "    <tr>\n",
       "      <th>1</th>\n",
       "      <td>1</td>\n",
       "      <td>This is the daily discussion, so anything stoc...</td>\n",
       "      <td>This is the daily discussion  so anything stoc...</td>\n",
       "      <td>this be the daily discussion so anything stock...</td>\n",
       "    </tr>\n",
       "    <tr>\n",
       "      <th>2</th>\n",
       "      <td>1</td>\n",
       "      <td>It shall be interesting to see how the market ...</td>\n",
       "      <td>It shall be interesting to see how the market ...</td>\n",
       "      <td>it shall be interest to see how the market rea...</td>\n",
       "    </tr>\n",
       "    <tr>\n",
       "      <th>3</th>\n",
       "      <td>1</td>\n",
       "      <td>Zoom has added close to **$40 billion** to its...</td>\n",
       "      <td>Zoom has added close to   billion to its marke...</td>\n",
       "      <td>zoom have add close to billion to it market ca...</td>\n",
       "    </tr>\n",
       "    <tr>\n",
       "      <th>4</th>\n",
       "      <td>1</td>\n",
       "      <td>\\n- TSLA: up more than 10x in the past 12 mont...</td>\n",
       "      <td>TSLA  up more than x in the past  months   ...</td>\n",
       "      <td>tsla up more than x in the past month nvda up ...</td>\n",
       "    </tr>\n",
       "  </tbody>\n",
       "</table>\n",
       "</div>"
      ],
      "text/plain": [
       "   subreddit                                            rawtext  \\\n",
       "0          1  Please use this thread to discuss your portfol...   \n",
       "1          1  This is the daily discussion, so anything stoc...   \n",
       "2          1  It shall be interesting to see how the market ...   \n",
       "3          1  Zoom has added close to **$40 billion** to its...   \n",
       "4          1  \\n- TSLA: up more than 10x in the past 12 mont...   \n",
       "\n",
       "                                              cltext  \\\n",
       "0  Please use this thread to discuss your portfol...   \n",
       "1  This is the daily discussion  so anything stoc...   \n",
       "2  It shall be interesting to see how the market ...   \n",
       "3  Zoom has added close to   billion to its marke...   \n",
       "4     TSLA  up more than x in the past  months   ...   \n",
       "\n",
       "                                               ltext  \n",
       "0  please use this thread to discus your portfoli...  \n",
       "1  this be the daily discussion so anything stock...  \n",
       "2  it shall be interest to see how the market rea...  \n",
       "3  zoom have add close to billion to it market ca...  \n",
       "4  tsla up more than x in the past month nvda up ...  "
      ]
     },
     "execution_count": 5,
     "metadata": {},
     "output_type": "execute_result"
    }
   ],
   "source": [
    "rawtext.info()\n",
    "rawtext.head()"
   ]
  },
  {
   "cell_type": "code",
   "execution_count": 6,
   "metadata": {},
   "outputs": [
    {
     "name": "stdout",
     "output_type": "stream",
     "text": [
      "hey guy i m new to stock market i ve just start study macro micro along with trade i just want to understand what do it mean to predict the movement of a stock index of country let s say a use the close point of stock index of a country b and how can one do so with very basic knowledge it s actually a part of pre commencement activity in my under grad in capital market how do i do that i m completely clueless\n",
      "\n",
      "\n",
      "\n",
      "Hey guys I m new to stock market I ve just started studying macro micro along with trading   I just wanted to understand what does it mean to predict the movement of a stock index of country let s say A using the closing point of stock index of a country B and how can one do so with very basic knowledge  It s actually a part of pre commencement activities in my under grad in capital markets How do I do that  I m completely clueless\n"
     ]
    }
   ],
   "source": [
    "for line in rawtext.ltext[124:125]:\n",
    "    print(line)\n",
    "    \n",
    "print(\"\\n\\n\")\n",
    "\n",
    "for line in rawtext.cltext[124:125]:\n",
    "    print(line)"
   ]
  },
  {
   "cell_type": "markdown",
   "metadata": {},
   "source": [
    "####  We can observe that the lemmatisation has succefully parsed the data to its root words"
   ]
  },
  {
   "cell_type": "code",
   "execution_count": 7,
   "metadata": {},
   "outputs": [
    {
     "name": "stdout",
     "output_type": "stream",
     "text": [
      "<class 'pandas.core.frame.DataFrame'>\n",
      "Int64Index: 1248 entries, 0 to 1252\n",
      "Data columns (total 4 columns):\n",
      " #   Column     Non-Null Count  Dtype \n",
      "---  ------     --------------  ----- \n",
      " 0   subreddit  1248 non-null   int64 \n",
      " 1   rawtext    1248 non-null   object\n",
      " 2   cltext     1248 non-null   object\n",
      " 3   ltext      1248 non-null   object\n",
      "dtypes: int64(1), object(3)\n",
      "memory usage: 48.8+ KB\n"
     ]
    }
   ],
   "source": [
    "# clean up any  null rows\n",
    "rawtext.dropna(axis=0, inplace=True)\n",
    "rawtext.info()"
   ]
  },
  {
   "cell_type": "markdown",
   "metadata": {},
   "source": [
    "#### As we had cleaned the dataset earlier, we can observe an almost equal distribution of the 2 categories.\n",
    "Our Baseline Score that our model needs to beat, would be **50.5%**"
   ]
  },
  {
   "cell_type": "code",
   "execution_count": 8,
   "metadata": {
    "scrolled": true
   },
   "outputs": [
    {
     "name": "stdout",
     "output_type": "stream",
     "text": [
      "1    630\n",
      "0    618\n",
      "Name: subreddit, dtype: int64\n",
      "1    0.504808\n",
      "0    0.495192\n",
      "Name: subreddit, dtype: float64\n"
     ]
    }
   ],
   "source": [
    "# final category counts: 1 - Finance, 0 - Real Estate\n",
    "print(rawtext.subreddit.value_counts())\n",
    "print(rawtext.subreddit.value_counts(normalize=True))"
   ]
  },
  {
   "cell_type": "code",
   "execution_count": 9,
   "metadata": {
    "scrolled": false
   },
   "outputs": [
    {
     "data": {
      "text/plain": [
       "327"
      ]
     },
     "execution_count": 9,
     "metadata": {},
     "output_type": "execute_result"
    }
   ],
   "source": [
    "# create specific stopwords for our usecase\n",
    "\n",
    "stopw = CountVectorizer(stop_words = 'english').get_stop_words()\n",
    "my_stopwords = [word for word in stopw]\n",
    "len(my_stopwords)\n",
    "\n",
    "# Based on the 2 themes, we would logically observe a high frequency of certain words and \n",
    "# they should be removed to not bias the model before further EDA on the corpus.\n",
    "my_stopwords.extend(['stocks', 'stock', 'real','estate', 'property', 'invest', 'investing', 'investment', 'properties'])\n",
    "len(my_stopwords)\n"
   ]
  },
  {
   "cell_type": "code",
   "execution_count": 10,
   "metadata": {
    "scrolled": false
   },
   "outputs": [
    {
     "name": "stdout",
     "output_type": "stream",
     "text": [
      "TOP 30 WORDS in Stocks category\n",
      "------------------------------------------------------------\n",
      "subreddit    630.0\n",
      "market       399.0\n",
      "company      367.0\n",
      "buy          358.0\n",
      "http         348.0\n",
      "share        346.0\n",
      "year         297.0\n",
      "amp          273.0\n",
      "just         271.0\n",
      "price        269.0\n",
      "like         244.0\n",
      "trade        219.0\n",
      "think        211.0\n",
      "sell         209.0\n",
      "earn         206.0\n",
      "make         201.0\n",
      "time         197.0\n",
      "new          194.0\n",
      "look         182.0\n",
      "know         178.0\n",
      "day          161.0\n",
      "high         156.0\n",
      "say          154.0\n",
      "tesla        153.0\n",
      "long         148.0\n",
      "hold         148.0\n",
      "good         147.0\n",
      "split        145.0\n",
      "gt           139.0\n",
      "use          135.0\n",
      "dtype: float64\n",
      "\n",
      "\n",
      "\n",
      "TOP 25 WORDS in RealEstate category\n",
      "------------------------------------------------------------\n",
      "rent        456.0\n",
      "house       435.0\n",
      "buy         415.0\n",
      "year        404.0\n",
      "home        396.0\n",
      "look        374.0\n",
      "like        313.0\n",
      "just        295.0\n",
      "want        280.0\n",
      "rental      254.0\n",
      "make        247.0\n",
      "ve          243.0\n",
      "mortgage    233.0\n",
      "cash        231.0\n",
      "new         220.0\n",
      "area        220.0\n",
      "know        219.0\n",
      "pay         216.0\n",
      "live        214.0\n",
      "month       213.0\n",
      "time        208.0\n",
      "loan        198.0\n",
      "unit        197.0\n",
      "market      195.0\n",
      "tenant      191.0\n",
      "work        189.0\n",
      "purchase    189.0\n",
      "good        188.0\n",
      "use         178.0\n",
      "family      173.0\n",
      "dtype: float64\n"
     ]
    }
   ],
   "source": [
    "# Investigate word freq to further reduce model noise\n",
    "cvec = CountVectorizer(max_features=1200,stop_words=my_stopwords)\n",
    "cvec.fit(rawtext['ltext'])\n",
    "\n",
    "all_features = pd.DataFrame(cvec.transform(rawtext['ltext']).todense(),\n",
    "                       columns=cvec.get_feature_names())\n",
    "\n",
    "labels = rawtext['subreddit']\n",
    "\n",
    "joined = pd.concat([all_features,labels], axis=1)\n",
    "\n",
    "features1 = joined[joined.subreddit==1].sum(axis=0)\n",
    "print (\"TOP 30 WORDS in Stocks category\")\n",
    "print (\"--\" * 30)\n",
    "cw1 = features1.sort_values(ascending = False).head(30)\n",
    "print (cw1)\n",
    "\n",
    "print(\"\\n\\n\")\n",
    "\n",
    "features0 = joined[joined.subreddit==0].sum(axis=0)\n",
    "print (\"TOP 25 WORDS in RealEstate category\")\n",
    "print (\"--\" * 30)\n",
    "cw0 = features0.sort_values(ascending = False).head(30)\n",
    "print (cw0)\n"
   ]
  },
  {
   "cell_type": "markdown",
   "metadata": {},
   "source": [
    "We can observe a few words that could potentially add noise during modelling; that are found either in high frequency and in both datasets or have no meaning to the topics on hand.\n",
    "Let's update the stopwords and observe the top words again."
   ]
  },
  {
   "cell_type": "code",
   "execution_count": 11,
   "metadata": {},
   "outputs": [
    {
     "name": "stdout",
     "output_type": "stream",
     "text": [
      "['time', 'look', 'make', 'like', 'use', 'market', 'good', 'buy', 'just', 'new', 'know', 'year']\n",
      "344\n"
     ]
    }
   ],
   "source": [
    "a_set = set(cw0.index) \n",
    "b_set = set(cw1.index) \n",
    "  \n",
    "if (a_set & b_set): \n",
    "    common = list(a_set & b_set)\n",
    "    print(common) \n",
    "else: \n",
    "    print(\"No common elements\") \n",
    "    \n",
    "my_stopwords.extend(common)\n",
    "my_stopwords.extend(['ve', 'amp', 'gt','don', 'http'])\n",
    "print(len(my_stopwords))"
   ]
  },
  {
   "cell_type": "code",
   "execution_count": 12,
   "metadata": {},
   "outputs": [
    {
     "name": "stdout",
     "output_type": "stream",
     "text": [
      "TOP 30 WORDS in Stocks category\n",
      "------------------------------------------------------------\n",
      "company      367.0\n",
      "share        346.0\n",
      "price        269.0\n",
      "trade        219.0\n",
      "think        211.0\n",
      "sell         209.0\n",
      "earn         206.0\n",
      "day          161.0\n",
      "high         156.0\n",
      "say          154.0\n",
      "tesla        153.0\n",
      "long         148.0\n",
      "hold         148.0\n",
      "split        145.0\n",
      "walmart      131.0\n",
      "term         130.0\n",
      "want         127.0\n",
      "news         121.0\n",
      "etf          117.0\n",
      "money        116.0\n",
      "text         115.0\n",
      "month        113.0\n",
      "start        112.0\n",
      "portfolio    111.0\n",
      "week         104.0\n",
      "thank        103.0\n",
      "apple        102.0\n",
      "option       101.0\n",
      "today         97.0\n",
      "people        94.0\n",
      "dtype: float64\n",
      "\n",
      "\n",
      "\n",
      "TOP 30 WORDS in RealEstate category\n",
      "------------------------------------------------------------\n",
      "rent        456.0\n",
      "house       435.0\n",
      "home        396.0\n",
      "want        280.0\n",
      "rental      254.0\n",
      "mortgage    233.0\n",
      "cash        231.0\n",
      "area        220.0\n",
      "pay         216.0\n",
      "live        214.0\n",
      "month       213.0\n",
      "loan        198.0\n",
      "unit        197.0\n",
      "tenant      191.0\n",
      "purchase    189.0\n",
      "work        189.0\n",
      "family      173.0\n",
      "need        172.0\n",
      "sell        170.0\n",
      "think       169.0\n",
      "price       158.0\n",
      "thank       156.0\n",
      "build       149.0\n",
      "say         147.0\n",
      "lot         142.0\n",
      "tax         142.0\n",
      "income      141.0\n",
      "start       133.0\n",
      "advice      133.0\n",
      "deal        133.0\n",
      "dtype: float64\n"
     ]
    }
   ],
   "source": [
    "cvec = CountVectorizer(max_features=1200,stop_words=my_stopwords)\n",
    "cvec.fit(rawtext['ltext'])\n",
    "\n",
    "updated_features = pd.DataFrame(cvec.transform(rawtext['ltext']).todense(),\n",
    "                       columns=cvec.get_feature_names())\n",
    "\n",
    "labels = rawtext['subreddit']\n",
    "\n",
    "new_joined = pd.concat([updated_features,labels], axis=1)\n",
    "\n",
    "features1 = new_joined[new_joined.subreddit==1].sum(axis=0)\n",
    "# to remove the subreddit column boolean value\n",
    "features1 = features1.drop('subreddit', axis=0)\n",
    "print (\"TOP 30 WORDS in Stocks category\")\n",
    "print (\"--\" * 30)\n",
    "cw1 = features1.sort_values(ascending = False).head(30)\n",
    "print (cw1)\n",
    "\n",
    "print(\"\\n\\n\")\n",
    "\n",
    "features0 = new_joined[new_joined.subreddit==0].sum(axis=0)\n",
    "print (\"TOP 30 WORDS in RealEstate category\")\n",
    "print (\"--\" * 30)\n",
    "cw0 = features0.sort_values(ascending = False).head(30)\n",
    "print (cw0)"
   ]
  },
  {
   "cell_type": "markdown",
   "metadata": {},
   "source": [
    "#### We could perpetually continue this process but lose crucial deterministic vocabulary. At this stage, it looks good enough! Let's proceed with creating our pipelines and then to model"
   ]
  },
  {
   "cell_type": "markdown",
   "metadata": {},
   "source": [
    "## Modelling"
   ]
  },
  {
   "cell_type": "code",
   "execution_count": 13,
   "metadata": {},
   "outputs": [],
   "source": [
    "# create pipelines for each permutation of 2 transformers and 3 estimators\n",
    "\n",
    "pipe_1 = Pipeline([('cv', CountVectorizer(stop_words=my_stopwords)), ('lr', LogisticRegression(random_state=42))])\n",
    "pipe_2 = Pipeline([('tf', TfidfVectorizer(stop_words=my_stopwords)), ('lr', LogisticRegression(random_state=42))])\n",
    "pipe_3 = Pipeline([('cv', CountVectorizer(stop_words=my_stopwords)), ('nb', MultinomialNB())])\n",
    "pipe_4 = Pipeline([('tf', TfidfVectorizer(stop_words=my_stopwords)), ('nb', MultinomialNB())])\n",
    "pipe_5 = Pipeline([('cv', CountVectorizer(stop_words=my_stopwords)), ('svc', SVC(random_state=42))])\n",
    "pipe_6 = Pipeline([('tf', TfidfVectorizer(stop_words=my_stopwords)), ('svc', SVC(random_state=42))])\n"
   ]
  },
  {
   "cell_type": "code",
   "execution_count": 14,
   "metadata": {},
   "outputs": [],
   "source": [
    "# define X (lemmatized text) and y \n",
    "X = rawtext[['ltext']]\n",
    "y = rawtext['subreddit']"
   ]
  },
  {
   "cell_type": "code",
   "execution_count": 15,
   "metadata": {},
   "outputs": [
    {
     "data": {
      "text/plain": [
       "((998, 1), (250, 1))"
      ]
     },
     "execution_count": 15,
     "metadata": {},
     "output_type": "execute_result"
    }
   ],
   "source": [
    "# train test split with a y-stratify (just to remove any class bias, however minimal)\n",
    "\n",
    "X_train, X_test, y_train, y_test = train_test_split(X, y, random_state=42, test_size=0.2,\n",
    "                                                    stratify=y)\n",
    "X_train.shape, X_test.shape"
   ]
  },
  {
   "cell_type": "markdown",
   "metadata": {},
   "source": [
    "# Running models on default hyperparams\n"
   ]
  },
  {
   "cell_type": "code",
   "execution_count": 16,
   "metadata": {
    "scrolled": false
   },
   "outputs": [
    {
     "name": "stdout",
     "output_type": "stream",
     "text": [
      "------------------------------------------------------------\n",
      "Training Pipeline 1 on default settings using 6285 words.\n",
      "------------------------------------------------------------ \n",
      "\n",
      "Train score for pipeline 1: 1.0\n",
      "Test score for pipeline 1: 0.944\n",
      "\n",
      "Confusion Matrix for pipeline 1:\n"
     ]
    },
    {
     "data": {
      "image/png": "[encoded data removed]",
      "text/plain": [
       "<Figure size 432x288 with 2 Axes>"
      ]
     },
     "metadata": {
      "needs_background": "light"
     },
     "output_type": "display_data"
    },
    {
     "name": "stdout",
     "output_type": "stream",
     "text": [
      "True Negatives: 115\n",
      "False Positives: 9\n",
      "False Negatives: 5\n",
      "True Positives: 121\n",
      "\n",
      "Matthews Correlation Coeff. for pipeline 1: 0.8884\n",
      "------------------------------------------------------------ \n",
      "\n",
      "\n",
      "\n",
      "------------------------------------------------------------\n",
      "Training Pipeline 2 on default settings using 6285 words.\n",
      "------------------------------------------------------------ \n",
      "\n",
      "Train score for pipeline 2: 0.9909819639278558\n",
      "Test score for pipeline 2: 0.948\n",
      "\n",
      "Confusion Matrix for pipeline 2:\n"
     ]
    },
    {
     "data": {
      "image/png": "[encoded data removed]",
      "text/plain": [
       "<Figure size 432x288 with 2 Axes>"
      ]
     },
     "metadata": {
      "needs_background": "light"
     },
     "output_type": "display_data"
    },
    {
     "name": "stdout",
     "output_type": "stream",
     "text": [
      "True Negatives: 113\n",
      "False Positives: 11\n",
      "False Negatives: 2\n",
      "True Positives: 124\n",
      "\n",
      "Matthews Correlation Coeff. for pipeline 2: 0.8983\n",
      "------------------------------------------------------------ \n",
      "\n",
      "\n",
      "\n",
      "------------------------------------------------------------\n",
      "Training Pipeline 3 on default settings using 6285 words.\n",
      "------------------------------------------------------------ \n",
      "\n",
      "Train score for pipeline 3: 0.9859719438877755\n",
      "Test score for pipeline 3: 0.948\n",
      "\n",
      "Confusion Matrix for pipeline 3:\n"
     ]
    },
    {
     "data": {
      "image/png": "[encoded data removed]",
      "text/plain": [
       "<Figure size 432x288 with 2 Axes>"
      ]
     },
     "metadata": {
      "needs_background": "light"
     },
     "output_type": "display_data"
    },
    {
     "name": "stdout",
     "output_type": "stream",
     "text": [
      "True Negatives: 121\n",
      "False Positives: 3\n",
      "False Negatives: 10\n",
      "True Positives: 116\n",
      "\n",
      "Matthews Correlation Coeff. for pipeline 3: 0.8974\n",
      "------------------------------------------------------------ \n",
      "\n",
      "\n",
      "\n",
      "------------------------------------------------------------\n",
      "Training Pipeline 4 on default settings using 6285 words.\n",
      "------------------------------------------------------------ \n",
      "\n",
      "Train score for pipeline 4: 0.9899799599198397\n",
      "Test score for pipeline 4: 0.96\n",
      "\n",
      "Confusion Matrix for pipeline 4:\n"
     ]
    },
    {
     "data": {
      "image/png": "[encoded data removed]",
      "text/plain": [
       "<Figure size 432x288 with 2 Axes>"
      ]
     },
     "metadata": {
      "needs_background": "light"
     },
     "output_type": "display_data"
    },
    {
     "name": "stdout",
     "output_type": "stream",
     "text": [
      "True Negatives: 122\n",
      "False Positives: 2\n",
      "False Negatives: 8\n",
      "True Positives: 118\n",
      "\n",
      "Matthews Correlation Coeff. for pipeline 4: 0.9211\n",
      "------------------------------------------------------------ \n",
      "\n",
      "\n",
      "\n",
      "------------------------------------------------------------\n",
      "Training Pipeline 5 on default settings using 6285 words.\n",
      "------------------------------------------------------------ \n",
      "\n",
      "Train score for pipeline 5: 0.9719438877755511\n",
      "Test score for pipeline 5: 0.924\n",
      "\n",
      "Confusion Matrix for pipeline 5:\n"
     ]
    },
    {
     "data": {
      "image/png": "[encoded data removed]",
      "text/plain": [
       "<Figure size 432x288 with 2 Axes>"
      ]
     },
     "metadata": {
      "needs_background": "light"
     },
     "output_type": "display_data"
    },
    {
     "name": "stdout",
     "output_type": "stream",
     "text": [
      "True Negatives: 106\n",
      "False Positives: 18\n",
      "False Negatives: 1\n",
      "True Positives: 125\n",
      "\n",
      "Matthews Correlation Coeff. for pipeline 5: 0.8558\n",
      "------------------------------------------------------------ \n",
      "\n",
      "\n",
      "\n",
      "------------------------------------------------------------\n",
      "Training Pipeline 6 on default settings using 6285 words.\n",
      "------------------------------------------------------------ \n",
      "\n",
      "Train score for pipeline 6: 1.0\n",
      "Test score for pipeline 6: 0.948\n",
      "\n",
      "Confusion Matrix for pipeline 6:\n"
     ]
    },
    {
     "data": {
      "image/png": "[encoded data removed]",
      "text/plain": [
       "<Figure size 432x288 with 2 Axes>"
      ]
     },
     "metadata": {
      "needs_background": "light"
     },
     "output_type": "display_data"
    },
    {
     "name": "stdout",
     "output_type": "stream",
     "text": [
      "True Negatives: 114\n",
      "False Positives: 10\n",
      "False Negatives: 3\n",
      "True Positives: 123\n",
      "\n",
      "Matthews Correlation Coeff. for pipeline 6: 0.8974\n",
      "------------------------------------------------------------ \n",
      "\n",
      "\n",
      "\n"
     ]
    }
   ],
   "source": [
    "# loop to run all 6 pipelines\n",
    "\n",
    "pipeline_list = [pipe_1, pipe_2, pipe_3, pipe_4, pipe_5, pipe_6]\n",
    "for num, pipeline in enumerate(pipeline_list):\n",
    "    pipeline.fit(X_train['ltext'], y_train)\n",
    "    print(\"---\"*20)\n",
    "    print(f\"Training Pipeline {num+1} on default settings using {len(pipeline.steps[0][1].vocabulary_)} words.\")\n",
    "    print(\"---\"*20,\"\\n\")\n",
    "    \n",
    "    print(f\"Train score for pipeline {num+1}: {pipeline.score(X_train['ltext'],y_train)}\")\n",
    "    print(f\"Test score for pipeline {num+1}: {pipeline.score(X_test['ltext'],y_test)}\")\n",
    "    \n",
    "    \n",
    "    y_pred = pipeline.predict(X_test['ltext'])\n",
    "\n",
    "\n",
    "    print(f\"\\nConfusion Matrix for pipeline {num+1}:\")\n",
    "    plt.show(plot_confusion_matrix(pipeline, X_test['ltext'],y_test))\n",
    "\n",
    "\n",
    "    tn, fp, fn, tp = confusion_matrix(y_test, y_pred).ravel()\n",
    "    print(\"True Negatives: %s\" % tn)\n",
    "    print(\"False Positives: %s\" % fp)\n",
    "    print(\"False Negatives: %s\" % fn)\n",
    "    print(\"True Positives: %s\" % tp)\n",
    "    \n",
    "    print(f\"\\nMatthews Correlation Coeff. for pipeline {num+1}: {round(matthews_corrcoef(y_test,y_pred),4)}\")\n",
    "   \n",
    "    \n",
    "    print(\"---\"*20,\"\\n\\n\\n\")\n",
    "    \n",
    "    "
   ]
  },
  {
   "cell_type": "markdown",
   "metadata": {},
   "source": [
    "### Observations:\n",
    "\n",
    "The accuracy scores between our train/test sets don't indicate a huge overfit issues and at the same time, they don't provide much information  In our business case, the most important metric to evaluate the model predicting a binary outcome, would be the Matthews Correlation Coefficient. The MCC takes into the account the misclassfication rate between the classes and returns a score of 1 or -1 for a perfectly/imperfectly classfication. If the score nears 0, the model prediction would be no better than random chance. \n",
    "\n",
    "Here's how the MCC is calculated:\n",
    "    ![](https://miro.medium.com/max/700/1*8E2rPn_ccOqGuPYj1gBTAg.png)\n",
    "       \n",
    "\n",
    "Based on the default parameters, we can observe that our 4th pipeline, running a TF-IDF vectoriser and Naive Bayes Classifier, had the lowest number of misclassified posts. Two of the real estate posts were missclasified as finance, versus five finance posts were misclassified as real estate.\n",
    "\n",
    "\n",
    "**Let's now explore how the results change as we use GridsearchCV to pick out the best hyperparameters**\n"
   ]
  },
  {
   "cell_type": "markdown",
   "metadata": {},
   "source": [
    "# Running models after finetuning hyperparams\n"
   ]
  },
  {
   "cell_type": "code",
   "execution_count": 17,
   "metadata": {},
   "outputs": [],
   "source": [
    "# create pipe params dict for each pipe\n",
    "      \n",
    "\n",
    "pipe_1_params= {'cv__ngram_range': [(1,1), (1,2),(2,2)],\n",
    "                'cv__min_df' : [2,3,5],\n",
    "                'cv__max_df': [0.85,0.95],\n",
    "                'lr__C': [1.0, 5.0, 10.0],\n",
    "                \n",
    "                    \n",
    "}\n",
    "\n",
    "pipe_2_params= {'tf__ngram_range': [(1,1), (1,2), (2,2)],\n",
    "                'tf__min_df' : [2,3,5],\n",
    "                'tf__max_df': [0.85,0.95],\n",
    "                'lr__C': [1.0, 5.0, 10.0],\n",
    "             \n",
    "}\n",
    "\n",
    "\n",
    "pipe_3_params= {'cv__ngram_range': [(1,1), (1,2), (2,2)],\n",
    "                'cv__min_df' : [2,3,5],\n",
    "                'cv__max_df': [0.85,0.95],\n",
    "                'nb__alpha': [1.0, 0.5, 0.1, 0.05]              \n",
    "}\n",
    "\n",
    "\n",
    "pipe_4_params= {'tf__ngram_range': [(1,1), (1,2),(2,2)],\n",
    "                'tf__min_df' : [2,3,5],\n",
    "                'tf__max_df': [0.85,0.95],\n",
    "                'nb__alpha': [1.0, 0.5, 0.1, 0.05]              \n",
    "}\n",
    "\n",
    "\n",
    "\n",
    "pipe_5_params= {'cv__ngram_range': [(1,1), (1,2), (2,2)],\n",
    "                'cv__min_df' : [2,3,5],\n",
    "                'cv__max_df': [0.85,0.95],\n",
    "                'svc__C': [1.0, 5.0,10.0,15.0],  \n",
    "}\n",
    "\n",
    "\n",
    "pipe_6_params= {'tf__ngram_range': [(1,1), (1,2), (2,2)],\n",
    "                'tf__min_df' : [2,3,5],\n",
    "                'tf__max_df': [0.85,0.95],\n",
    "                'svc__C': [1.0,5.0,10.0,15.0],\n",
    "\n",
    "}\n"
   ]
  },
  {
   "cell_type": "code",
   "execution_count": 18,
   "metadata": {
    "scrolled": false
   },
   "outputs": [
    {
     "name": "stdout",
     "output_type": "stream",
     "text": [
      "------------------------------------------------------------\n",
      "Training Pipeline 1 on default settings using 6285 words.\n",
      "------------------------------------------------------------ \n",
      "\n",
      "Train score for pipeline 1: 1.0\n",
      "Test score for pipeline 1: 0.9891833077316948\n",
      "Best parameters for pipeline 1: {'cv__max_df': 0.85, 'cv__min_df': 2, 'cv__ngram_range': (1, 2), 'lr__C': 1.0}\n",
      "\n",
      "Confusion Matrix for pipeline 1:\n"
     ]
    },
    {
     "data": {
      "image/png": "[encoded data removed]",
      "text/plain": [
       "<Figure size 432x288 with 2 Axes>"
      ]
     },
     "metadata": {
      "needs_background": "light"
     },
     "output_type": "display_data"
    },
    {
     "name": "stdout",
     "output_type": "stream",
     "text": [
      "True Negatives: 114\n",
      "False Positives: 10\n",
      "False Negatives: 5\n",
      "True Positives: 121\n",
      "\n",
      "Matthews Correlation Coeff. for pipeline 1: 0.8807\n",
      "------------------------------------------------------------ \n",
      "\n",
      "\n",
      "\n",
      "------------------------------------------------------------\n",
      "Training Pipeline 2 on default settings using 6285 words.\n",
      "------------------------------------------------------------ \n",
      "\n",
      "Train score for pipeline 2: 0.9999759012916908\n",
      "Test score for pipeline 2: 0.9947516641065028\n",
      "Best parameters for pipeline 2: {'lr__C': 1.0, 'tf__max_df': 0.85, 'tf__min_df': 2, 'tf__ngram_range': (1, 2)}\n",
      "\n",
      "Confusion Matrix for pipeline 2:\n"
     ]
    },
    {
     "data": {
      "image/png": "[encoded data removed]",
      "text/plain": [
       "<Figure size 432x288 with 2 Axes>"
      ]
     },
     "metadata": {
      "needs_background": "light"
     },
     "output_type": "display_data"
    },
    {
     "name": "stdout",
     "output_type": "stream",
     "text": [
      "True Negatives: 115\n",
      "False Positives: 9\n",
      "False Negatives: 3\n",
      "True Positives: 123\n",
      "\n",
      "Matthews Correlation Coeff. for pipeline 2: 0.905\n",
      "------------------------------------------------------------ \n",
      "\n",
      "\n",
      "\n",
      "------------------------------------------------------------\n",
      "Training Pipeline 3 on default settings using 6285 words.\n",
      "------------------------------------------------------------ \n",
      "\n",
      "Train score for pipeline 3: 0.9983934194460511\n",
      "Test score for pipeline 3: 0.9917434715821813\n",
      "Best parameters for pipeline 3: {'cv__max_df': 0.85, 'cv__min_df': 3, 'cv__ngram_range': (1, 2), 'nb__alpha': 1.0}\n",
      "\n",
      "Confusion Matrix for pipeline 3:\n"
     ]
    },
    {
     "data": {
      "image/png": "[encoded data removed]",
      "text/plain": [
       "<Figure size 432x288 with 2 Axes>"
      ]
     },
     "metadata": {
      "needs_background": "light"
     },
     "output_type": "display_data"
    },
    {
     "name": "stdout",
     "output_type": "stream",
     "text": [
      "True Negatives: 119\n",
      "False Positives: 5\n",
      "False Negatives: 6\n",
      "True Positives: 120\n",
      "\n",
      "Matthews Correlation Coeff. for pipeline 3: 0.912\n",
      "------------------------------------------------------------ \n",
      "\n",
      "\n",
      "\n",
      "------------------------------------------------------------\n",
      "Training Pipeline 4 on default settings using 6285 words.\n",
      "------------------------------------------------------------ \n",
      "\n",
      "Train score for pipeline 4: 0.9997308977572135\n",
      "Test score for pipeline 4: 0.9951356886840759\n",
      "Best parameters for pipeline 4: {'nb__alpha': 0.5, 'tf__max_df': 0.85, 'tf__min_df': 3, 'tf__ngram_range': (1, 2)}\n",
      "\n",
      "Confusion Matrix for pipeline 4:\n"
     ]
    },
    {
     "data": {
      "image/png": "[encoded data removed]",
      "text/plain": [
       "<Figure size 432x288 with 2 Axes>"
      ]
     },
     "metadata": {
      "needs_background": "light"
     },
     "output_type": "display_data"
    },
    {
     "name": "stdout",
     "output_type": "stream",
     "text": [
      "True Negatives: 119\n",
      "False Positives: 5\n",
      "False Negatives: 4\n",
      "True Positives: 122\n",
      "\n",
      "Matthews Correlation Coeff. for pipeline 4: 0.928\n",
      "------------------------------------------------------------ \n",
      "\n",
      "\n",
      "\n",
      "------------------------------------------------------------\n",
      "Training Pipeline 5 on default settings using 6285 words.\n",
      "------------------------------------------------------------ \n",
      "\n",
      "Train score for pipeline 5: 0.9994698284171969\n",
      "Test score for pipeline 5: 0.9864311315924219\n",
      "Best parameters for pipeline 5: {'cv__max_df': 0.85, 'cv__min_df': 2, 'cv__ngram_range': (1, 1), 'svc__C': 1.0}\n",
      "\n",
      "Confusion Matrix for pipeline 5:\n"
     ]
    },
    {
     "data": {
      "image/png": "[encoded data removed]",
      "text/plain": [
       "<Figure size 432x288 with 2 Axes>"
      ]
     },
     "metadata": {
      "needs_background": "light"
     },
     "output_type": "display_data"
    },
    {
     "name": "stdout",
     "output_type": "stream",
     "text": [
      "True Negatives: 108\n",
      "False Positives: 16\n",
      "False Negatives: 1\n",
      "True Positives: 125\n",
      "\n",
      "Matthews Correlation Coeff. for pipeline 5: 0.8702\n",
      "------------------------------------------------------------ \n",
      "\n",
      "\n",
      "\n",
      "------------------------------------------------------------\n",
      "Training Pipeline 6 on default settings using 6285 words.\n",
      "------------------------------------------------------------ \n",
      "\n",
      "Train score for pipeline 6: 1.0\n",
      "Test score for pipeline 6: 0.9925755248335894\n",
      "Best parameters for pipeline 6: {'svc__C': 1.0, 'tf__max_df': 0.85, 'tf__min_df': 2, 'tf__ngram_range': (1, 2)}\n",
      "\n",
      "Confusion Matrix for pipeline 6:\n"
     ]
    },
    {
     "data": {
      "image/png": "[encoded data removed]",
      "text/plain": [
       "<Figure size 432x288 with 2 Axes>"
      ]
     },
     "metadata": {
      "needs_background": "light"
     },
     "output_type": "display_data"
    },
    {
     "name": "stdout",
     "output_type": "stream",
     "text": [
      "True Negatives: 117\n",
      "False Positives: 7\n",
      "False Negatives: 4\n",
      "True Positives: 122\n",
      "\n",
      "Matthews Correlation Coeff. for pipeline 6: 0.9122\n",
      "------------------------------------------------------------ \n",
      "\n",
      "\n",
      "\n"
     ]
    }
   ],
   "source": [
    "# running Gridsearch with tuned hyperparameters on all 6 pipelines\n",
    "\n",
    "pipeline_list = [pipe_1, pipe_2, pipe_3, pipe_4, pipe_5, pipe_6]\n",
    "pipe_params_list = [pipe_1_params, pipe_2_params, pipe_3_params, pipe_4_params, pipe_5_params, pipe_6_params]\n",
    "\n",
    "for num, pipeline in enumerate(pipeline_list):\n",
    "    pipeline.fit(X_train['ltext'], y_train)\n",
    "    print(\"---\"*20)\n",
    "    print(f\"Training Pipeline {num+1} on default settings using {len(pipeline.steps[0][1].vocabulary_)} words.\")\n",
    "    print(\"---\"*20,\"\\n\")\n",
    "    \n",
    "    gs = GridSearchCV(pipeline, param_grid=pipe_params_list[num], cv=10, scoring='roc_auc')\n",
    "    gs.fit(X_train['ltext'], y_train)\n",
    "    print(f\"Train score for pipeline {num+1}: {gs.score(X_train['ltext'],y_train)}\")\n",
    "    print(f\"Test score for pipeline {num+1}: {gs.score(X_test['ltext'],y_test)}\")\n",
    "    print(f\"Best parameters for pipeline {num+1}: {gs.best_params_}\")\n",
    "    \n",
    "    \n",
    "    y_pred = gs.predict(X_test['ltext'])\n",
    "\n",
    "\n",
    "    print(f\"\\nConfusion Matrix for pipeline {num+1}:\")\n",
    "    plt.show(plot_confusion_matrix(gs, X_test['ltext'],y_test))\n",
    "\n",
    "\n",
    "    tn, fp, fn, tp = confusion_matrix(y_test, y_pred).ravel()\n",
    "    print(\"True Negatives: %s\" % tn)\n",
    "    print(\"False Positives: %s\" % fp)\n",
    "    print(\"False Negatives: %s\" % fn)\n",
    "    print(\"True Positives: %s\" % tp)\n",
    "    \n",
    "    print(f\"\\nMatthews Correlation Coeff. for pipeline {num+1}: {round(matthews_corrcoef(y_test,y_pred),4)}\")\n",
    "   \n",
    "    \n",
    "    print(\"---\"*20,\"\\n\\n\\n\")"
   ]
  },
  {
   "cell_type": "markdown",
   "metadata": {},
   "source": [
    "### Consolidated model results using default hyperparameters\n",
    "   Transformer/Classifier|MCC|Misclassified<br /> RealEstate|Misclassified<br /> Stocks|                    \n",
    "  ------|------|:------:|:----:|   \n",
    "   CV & Log Reg|0.8883|9|5| \n",
    "   TF & Log Reg|0.9050|9|3|\n",
    "   CV & Multinomial NB|0.8974|3|10 |\n",
    "   **TF & Multinomial NB**|**0.9211**|**2**|**8**|\n",
    "   CV & SVC|0.8558|18 |1|\n",
    "   TF & SVC|0.8974|10|3|\n",
    "\n",
    "\n",
    "\n",
    "### Consolidated model results after tuning hyperparameters\n",
    "   \n",
    "  Transformer/Classifier|MCC|Misclassified<br /> RealEstate|Misclassified<br /> Stocks|                    \n",
    "  ------|------|:------:|:----:|   \n",
    "   CV & Log Reg|0.8807|10|5 | \n",
    "   TF & Log Reg|0.8983|11|2|\n",
    "   CV & Multinomial NB|0.9120|5|6 |\n",
    "   **TF & Multinomial NB**|**0.9280**|**5**|**4**|\n",
    "   CV & SVC|0.8702|16 |1|\n",
    "   TF & SVC|0.9122|7|4|                 "
   ]
  },
  {
   "cell_type": "markdown",
   "metadata": {},
   "source": [
    "#### Final Observations on model results:\n",
    "Our Multinomial Naive Bayes model using a TF-IDF vectoriser came out tops again, even slightly beating the default parameter model's MCC score. It can also be observed that the TF-IDF models generally had a better MCC score than models using CountVectoriser.\n",
    "\n",
    "This mainly could be due to the fact that TD-IDF benefits from the lemmatization. Lemmatization is also important for training word vectors, since accurate counts within the window of a word would be disrupted by an irrelevant inflection like a simple plural or present tense inflection. This is also the reason we had lemmatised our corpus across multiple parts-of-speech tags , i.e verb, noun, proverb and adjective.\n",
    "\n",
    "Based on the MCC scores, we believe the NB model would allow a good measure of generalisation that would perform relatively well on our blind data later on. However for our eventual model of choice, we would be going with the TF-SVC model, which fared a reasonable MCC score.\n",
    "\n",
    "The key factor that led us to choosing the SVC model is that Naive Bayes treats corpus terms as independent features, whereas SVC looks at the interactions between them to a certain degree. As our blind test might have more variations to the terms gathered from our subreddit, we forsee the SVC model will be better at the classification task, under a production environment."
   ]
  },
  {
   "cell_type": "markdown",
   "metadata": {},
   "source": [
    "#### Further up above, we had examined the frequency of words sorted by each class to remove words that might add noise to the model.  Let us now take a closer look at the deterministic words of each category"
   ]
  },
  {
   "cell_type": "code",
   "execution_count": 19,
   "metadata": {},
   "outputs": [],
   "source": [
    "gs_tf_nb = GridSearchCV(pipe_4, param_grid=pipe_4_params, cv=3, scoring='roc_auc')\n",
    "gs_tf_nb.fit(X['ltext'],y);"
   ]
  },
  {
   "cell_type": "code",
   "execution_count": 20,
   "metadata": {},
   "outputs": [],
   "source": [
    "#prob for positive class\n",
    "pos_class_prob_sorted = gs_tf_nb.best_estimator_.named_steps['nb'].feature_log_prob_[1].argsort()[::-1]\n",
    "#prob for negative class\n",
    "neg_class_prob_sorted = gs_tf_nb.best_estimator_.named_steps['nb'].feature_log_prob_[0].argsort()[::-1]\n",
    "#getting the top features \n",
    "neg_top_features = np.take(gs_tf_nb.best_estimator_.named_steps['tf'].get_feature_names(), neg_class_prob_sorted)\n",
    "pos_top_features = np.take(gs_tf_nb.best_estimator_.named_steps['tf'].get_feature_names(), pos_class_prob_sorted)"
   ]
  },
  {
   "cell_type": "code",
   "execution_count": 1,
   "metadata": {},
   "outputs": [
    {
     "name": "stdout",
     "output_type": "stream",
     "text": [
      "Here are the TOP 20 words that are deterministic of each class:\n",
      "************************************************************ \n",
      "\n",
      "\n",
      "Stocks Investment\n",
      "--------------------\n"
     ]
    },
    {
     "ename": "NameError",
     "evalue": "name 'pos_top_features' is not defined",
     "output_type": "error",
     "traceback": [
      "\u001b[0;31m---------------------------------------------------------------------------\u001b[0m",
      "\u001b[0;31mNameError\u001b[0m                                 Traceback (most recent call last)",
      "\u001b[0;32m<ipython-input-1-0bf735df1f22>\u001b[0m in \u001b[0;36m<module>\u001b[0;34m\u001b[0m\n\u001b[1;32m      4\u001b[0m \u001b[0mprint\u001b[0m\u001b[0;34m(\u001b[0m\u001b[0;34m\"--\"\u001b[0m\u001b[0;34m*\u001b[0m\u001b[0;36m10\u001b[0m\u001b[0;34m)\u001b[0m\u001b[0;34m\u001b[0m\u001b[0;34m\u001b[0m\u001b[0m\n\u001b[1;32m      5\u001b[0m \u001b[0;32mfor\u001b[0m \u001b[0mi\u001b[0m \u001b[0;32min\u001b[0m \u001b[0mrange\u001b[0m\u001b[0;34m(\u001b[0m\u001b[0;36m20\u001b[0m\u001b[0;34m)\u001b[0m\u001b[0;34m:\u001b[0m\u001b[0;34m\u001b[0m\u001b[0;34m\u001b[0m\u001b[0m\n\u001b[0;32m----> 6\u001b[0;31m     \u001b[0mprint\u001b[0m\u001b[0;34m(\u001b[0m\u001b[0mpos_top_features\u001b[0m\u001b[0;34m[\u001b[0m\u001b[0mi\u001b[0m\u001b[0;34m]\u001b[0m\u001b[0;34m)\u001b[0m\u001b[0;34m\u001b[0m\u001b[0;34m\u001b[0m\u001b[0m\n\u001b[0m\u001b[1;32m      7\u001b[0m \u001b[0mprint\u001b[0m\u001b[0;34m(\u001b[0m\u001b[0;34m\"\\n\\n\"\u001b[0m\u001b[0;34m)\u001b[0m\u001b[0;34m\u001b[0m\u001b[0;34m\u001b[0m\u001b[0m\n\u001b[1;32m      8\u001b[0m \u001b[0mprint\u001b[0m\u001b[0;34m(\u001b[0m\u001b[0;34m\"Real Estate Investment\"\u001b[0m\u001b[0;34m)\u001b[0m\u001b[0;34m\u001b[0m\u001b[0;34m\u001b[0m\u001b[0m\n",
      "\u001b[0;31mNameError\u001b[0m: name 'pos_top_features' is not defined"
     ]
    }
   ],
   "source": [
    "print(\"Here are the TOP 20 words that are deterministic of each class:\")\n",
    "print(\"***\"*20,\"\\n\\n\")\n",
    "print(\"Stocks Investment\")\n",
    "print(\"--\"*10)\n",
    "for i in range(20):\n",
    "    print(pos_top_features[i])\n",
    "print(\"\\n\\n\")\n",
    "print(\"Real Estate Investment\")\n",
    "print(\"--\"*10)\n",
    "for i in range(20):\n",
    "    print(neg_top_features[i])     "
   ]
  },
  {
   "cell_type": "markdown",
   "metadata": {},
   "source": [
    "#### Final Observations:\n",
    "\n",
    "We notice that a few words in the Stocks category like Apple, Tesla and ETF have been more influential considering their lower occurences in the corpus. We observe very little movement in the order of words under the Real Estate category do to the more frequent occurences of these words.\n",
    "\n",
    "This poor variance in deterministic terms under the Real Estate Category, could explain the higher rate of misclassification from the test data. \n",
    "\n",
    "To solve this issue, we could have substantially increased the number of posts under the real estate category. Taking a peek at the start of our journey, we did start off having 818 posts, so there should be sufficient data for us to improve our model.\n",
    "\n",
    "\n"
   ]
  },
  {
   "cell_type": "markdown",
   "metadata": {},
   "source": [
    "## Concept to test out MVP\n",
    "We haven't reached the end yet we have manually scrapped 20 real life posts(10 for each class) from the Seedly forum to test how our model performs in this blind test."
   ]
  },
  {
   "cell_type": "code",
   "execution_count": 22,
   "metadata": {},
   "outputs": [],
   "source": [
    "blind_test = pd.read_csv('data/seedly_test.csv')"
   ]
  },
  {
   "cell_type": "code",
   "execution_count": 23,
   "metadata": {},
   "outputs": [
    {
     "data": {
      "text/html": [
       "<div>\n",
       "<style scoped>\n",
       "    .dataframe tbody tr th:only-of-type {\n",
       "        vertical-align: middle;\n",
       "    }\n",
       "\n",
       "    .dataframe tbody tr th {\n",
       "        vertical-align: top;\n",
       "    }\n",
       "\n",
       "    .dataframe thead th {\n",
       "        text-align: right;\n",
       "    }\n",
       "</style>\n",
       "<table border=\"1\" class=\"dataframe\">\n",
       "  <thead>\n",
       "    <tr style=\"text-align: right;\">\n",
       "      <th></th>\n",
       "      <th>subreddit</th>\n",
       "      <th>rawtext</th>\n",
       "    </tr>\n",
       "  </thead>\n",
       "  <tbody>\n",
       "    <tr>\n",
       "      <th>0</th>\n",
       "      <td>0</td>\n",
       "      <td>Hey guys, i’m 21, currently half way through a...</td>\n",
       "    </tr>\n",
       "    <tr>\n",
       "      <th>1</th>\n",
       "      <td>0</td>\n",
       "      <td>Would you rent out a spare room in the propert...</td>\n",
       "    </tr>\n",
       "    <tr>\n",
       "      <th>2</th>\n",
       "      <td>0</td>\n",
       "      <td>If I have enough to pay off my home loan, shou...</td>\n",
       "    </tr>\n",
       "    <tr>\n",
       "      <th>3</th>\n",
       "      <td>0</td>\n",
       "      <td>Is it a good idea to start stashing savings to...</td>\n",
       "    </tr>\n",
       "    <tr>\n",
       "      <th>4</th>\n",
       "      <td>0</td>\n",
       "      <td>Hi Sam! What is your personal view of real est...</td>\n",
       "    </tr>\n",
       "    <tr>\n",
       "      <th>5</th>\n",
       "      <td>0</td>\n",
       "      <td>If you have $30,000. Three options. To put in ...</td>\n",
       "    </tr>\n",
       "    <tr>\n",
       "      <th>6</th>\n",
       "      <td>0</td>\n",
       "      <td>Can HDB apartment be use as bond if parents do...</td>\n",
       "    </tr>\n",
       "    <tr>\n",
       "      <th>7</th>\n",
       "      <td>0</td>\n",
       "      <td>Which is a better option if my main aim is to ...</td>\n",
       "    </tr>\n",
       "    <tr>\n",
       "      <th>8</th>\n",
       "      <td>0</td>\n",
       "      <td>I recently seen the I Quadrant's advertisement...</td>\n",
       "    </tr>\n",
       "    <tr>\n",
       "      <th>9</th>\n",
       "      <td>0</td>\n",
       "      <td>I’m just curious, as a male in his young 20s w...</td>\n",
       "    </tr>\n",
       "    <tr>\n",
       "      <th>10</th>\n",
       "      <td>1</td>\n",
       "      <td>What broker should I use if I were to invest i...</td>\n",
       "    </tr>\n",
       "    <tr>\n",
       "      <th>11</th>\n",
       "      <td>1</td>\n",
       "      <td>Hello (: i’m 21 years old and in university. w...</td>\n",
       "    </tr>\n",
       "    <tr>\n",
       "      <th>12</th>\n",
       "      <td>1</td>\n",
       "      <td>I am planning to set aside &lt;$500 per month for...</td>\n",
       "    </tr>\n",
       "    <tr>\n",
       "      <th>13</th>\n",
       "      <td>1</td>\n",
       "      <td>Hi I know this is a really basic question, but...</td>\n",
       "    </tr>\n",
       "    <tr>\n",
       "      <th>14</th>\n",
       "      <td>1</td>\n",
       "      <td>Snowflake IPO, would you buy? I think their re...</td>\n",
       "    </tr>\n",
       "    <tr>\n",
       "      <th>15</th>\n",
       "      <td>1</td>\n",
       "      <td>Why did all the tech stock prices fall overnig...</td>\n",
       "    </tr>\n",
       "    <tr>\n",
       "      <th>16</th>\n",
       "      <td>1</td>\n",
       "      <td>Stashaway and Digiportfolio still recommended ...</td>\n",
       "    </tr>\n",
       "    <tr>\n",
       "      <th>17</th>\n",
       "      <td>1</td>\n",
       "      <td>What's the difference between nikko am ark dis...</td>\n",
       "    </tr>\n",
       "    <tr>\n",
       "      <th>18</th>\n",
       "      <td>1</td>\n",
       "      <td>Has there ever been an overvalued/ overpriced ...</td>\n",
       "    </tr>\n",
       "    <tr>\n",
       "      <th>19</th>\n",
       "      <td>1</td>\n",
       "      <td>[Endowus AMA] Hi Sam, The interest rate is zer...</td>\n",
       "    </tr>\n",
       "  </tbody>\n",
       "</table>\n",
       "</div>"
      ],
      "text/plain": [
       "    subreddit                                            rawtext\n",
       "0           0  Hey guys, i’m 21, currently half way through a...\n",
       "1           0  Would you rent out a spare room in the propert...\n",
       "2           0  If I have enough to pay off my home loan, shou...\n",
       "3           0  Is it a good idea to start stashing savings to...\n",
       "4           0  Hi Sam! What is your personal view of real est...\n",
       "5           0  If you have $30,000. Three options. To put in ...\n",
       "6           0  Can HDB apartment be use as bond if parents do...\n",
       "7           0  Which is a better option if my main aim is to ...\n",
       "8           0  I recently seen the I Quadrant's advertisement...\n",
       "9           0  I’m just curious, as a male in his young 20s w...\n",
       "10          1  What broker should I use if I were to invest i...\n",
       "11          1  Hello (: i’m 21 years old and in university. w...\n",
       "12          1  I am planning to set aside <$500 per month for...\n",
       "13          1  Hi I know this is a really basic question, but...\n",
       "14          1  Snowflake IPO, would you buy? I think their re...\n",
       "15          1  Why did all the tech stock prices fall overnig...\n",
       "16          1  Stashaway and Digiportfolio still recommended ...\n",
       "17          1  What's the difference between nikko am ark dis...\n",
       "18          1  Has there ever been an overvalued/ overpriced ...\n",
       "19          1  [Endowus AMA] Hi Sam, The interest rate is zer..."
      ]
     },
     "execution_count": 23,
     "metadata": {},
     "output_type": "execute_result"
    }
   ],
   "source": [
    "blind_test"
   ]
  },
  {
   "cell_type": "code",
   "execution_count": 48,
   "metadata": {},
   "outputs": [],
   "source": [
    "# Load model with best parameters in pipeline and fit with entire corpus\n",
    "test_pipe = Pipeline([('tf', TfidfVectorizer(max_df=0.85, min_df=3, ngram_range=(1, 2), stop_words=my_stopwords)), \n",
    "                      ('svc', SVC(C=1.0))])\n",
    "test_pipe.fit(X['ltext'],y);"
   ]
  },
  {
   "cell_type": "code",
   "execution_count": 49,
   "metadata": {},
   "outputs": [],
   "source": [
    "def seedly_classifier(df,raw_col_name):\n",
    "    #clean text (regex and stopwords)\n",
    "    cleaned = df[raw_col_name].apply(cleaning_str).apply(lemmer)\n",
    "    df['ltext'] = cleaned\n",
    "    \n",
    "    #predict cleantext with trained pipe\n",
    "    preds = test_pipe.predict(cleaned)\n",
    "    \n",
    "    #return prediction labels\n",
    "    df['predictions'] = preds\n",
    "    \n",
    "    #determine misclassification rate\n",
    "    print(\"---\"*35)\n",
    "    print(f\"Confusion Matrix for blind test:\")\n",
    "    print(\"---\"*35)\n",
    "    plt.show(plot_confusion_matrix(test_pipe, df['ltext'], df['subreddit']))\n",
    "\n",
    "\n",
    "    tn, fp, fn, tp = confusion_matrix(df['subreddit'], preds).ravel()\n",
    "    print(\"True Negatives: %s\" % tn)\n",
    "    print(\"False Positives: %s\" % fp)\n",
    "    print(\"False Negatives: %s\" % fn)\n",
    "    print(\"True Positives: %s\" % tp)\n",
    "    \n",
    "    print(\"---\"*35)\n",
    "    print(f\"Matthews Correlation Coeff. for blind test: {round(matthews_corrcoef(df['subreddit'], preds),4)}\")\n",
    "    print(\"---\"*35)\n",
    "    \n",
    "    return df"
   ]
  },
  {
   "cell_type": "code",
   "execution_count": 50,
   "metadata": {},
   "outputs": [
    {
     "name": "stdout",
     "output_type": "stream",
     "text": [
      "---------------------------------------------------------------------------------------------------------\n",
      "Confusion Matrix for blind test:\n",
      "---------------------------------------------------------------------------------------------------------\n"
     ]
    },
    {
     "data": {
      "image/png": "[encoded data removed]",
      "text/plain": [
       "<Figure size 432x288 with 2 Axes>"
      ]
     },
     "metadata": {
      "needs_background": "light"
     },
     "output_type": "display_data"
    },
    {
     "name": "stdout",
     "output_type": "stream",
     "text": [
      "True Negatives: 7\n",
      "False Positives: 3\n",
      "False Negatives: 0\n",
      "True Positives: 10\n",
      "---------------------------------------------------------------------------------------------------------\n",
      "Matthews Correlation Coeff. for blind test: 0.7338\n",
      "---------------------------------------------------------------------------------------------------------\n"
     ]
    },
    {
     "data": {
      "text/html": [
       "<div>\n",
       "<style scoped>\n",
       "    .dataframe tbody tr th:only-of-type {\n",
       "        vertical-align: middle;\n",
       "    }\n",
       "\n",
       "    .dataframe tbody tr th {\n",
       "        vertical-align: top;\n",
       "    }\n",
       "\n",
       "    .dataframe thead th {\n",
       "        text-align: right;\n",
       "    }\n",
       "</style>\n",
       "<table border=\"1\" class=\"dataframe\">\n",
       "  <thead>\n",
       "    <tr style=\"text-align: right;\">\n",
       "      <th></th>\n",
       "      <th>subreddit</th>\n",
       "      <th>rawtext</th>\n",
       "      <th>ltext</th>\n",
       "      <th>predictions</th>\n",
       "    </tr>\n",
       "  </thead>\n",
       "  <tbody>\n",
       "    <tr>\n",
       "      <th>0</th>\n",
       "      <td>0</td>\n",
       "      <td>Hey guys, i’m 21, currently half way through a...</td>\n",
       "      <td>hey guy i m currently half way through army co...</td>\n",
       "      <td>0</td>\n",
       "    </tr>\n",
       "    <tr>\n",
       "      <th>1</th>\n",
       "      <td>0</td>\n",
       "      <td>Would you rent out a spare room in the propert...</td>\n",
       "      <td>would you rent out a spare room in the propert...</td>\n",
       "      <td>0</td>\n",
       "    </tr>\n",
       "    <tr>\n",
       "      <th>2</th>\n",
       "      <td>0</td>\n",
       "      <td>If I have enough to pay off my home loan, shou...</td>\n",
       "      <td>if i have enough to pay off my home loan shoul...</td>\n",
       "      <td>0</td>\n",
       "    </tr>\n",
       "    <tr>\n",
       "      <th>3</th>\n",
       "      <td>0</td>\n",
       "      <td>Is it a good idea to start stashing savings to...</td>\n",
       "      <td>be it a good idea to start stash save to pay d...</td>\n",
       "      <td>0</td>\n",
       "    </tr>\n",
       "    <tr>\n",
       "      <th>4</th>\n",
       "      <td>0</td>\n",
       "      <td>Hi Sam! What is your personal view of real est...</td>\n",
       "      <td>hi sam what be your personal view of real esta...</td>\n",
       "      <td>1</td>\n",
       "    </tr>\n",
       "    <tr>\n",
       "      <th>5</th>\n",
       "      <td>0</td>\n",
       "      <td>If you have $30,000. Three options. To put in ...</td>\n",
       "      <td>if you have three option to put in fix deposit...</td>\n",
       "      <td>0</td>\n",
       "    </tr>\n",
       "    <tr>\n",
       "      <th>6</th>\n",
       "      <td>0</td>\n",
       "      <td>Can HDB apartment be use as bond if parents do...</td>\n",
       "      <td>can hdb apartment be use a bond if parent do n...</td>\n",
       "      <td>0</td>\n",
       "    </tr>\n",
       "    <tr>\n",
       "      <th>7</th>\n",
       "      <td>0</td>\n",
       "      <td>Which is a better option if my main aim is to ...</td>\n",
       "      <td>which be a well option if my main aim be to mi...</td>\n",
       "      <td>0</td>\n",
       "    </tr>\n",
       "    <tr>\n",
       "      <th>8</th>\n",
       "      <td>0</td>\n",
       "      <td>I recently seen the I Quadrant's advertisement...</td>\n",
       "      <td>i recently see the i quadrant s advertisement ...</td>\n",
       "      <td>1</td>\n",
       "    </tr>\n",
       "    <tr>\n",
       "      <th>9</th>\n",
       "      <td>0</td>\n",
       "      <td>I’m just curious, as a male in his young 20s w...</td>\n",
       "      <td>i m just curious a a male in his young s with ...</td>\n",
       "      <td>1</td>\n",
       "    </tr>\n",
       "    <tr>\n",
       "      <th>10</th>\n",
       "      <td>1</td>\n",
       "      <td>What broker should I use if I were to invest i...</td>\n",
       "      <td>what broke should i use if i be to invest into...</td>\n",
       "      <td>1</td>\n",
       "    </tr>\n",
       "    <tr>\n",
       "      <th>11</th>\n",
       "      <td>1</td>\n",
       "      <td>Hello (: i’m 21 years old and in university. w...</td>\n",
       "      <td>hello i m year old and in university when be t...</td>\n",
       "      <td>1</td>\n",
       "    </tr>\n",
       "    <tr>\n",
       "      <th>12</th>\n",
       "      <td>1</td>\n",
       "      <td>I am planning to set aside &lt;$500 per month for...</td>\n",
       "      <td>i be plan to set aside per month for invest co...</td>\n",
       "      <td>1</td>\n",
       "    </tr>\n",
       "    <tr>\n",
       "      <th>13</th>\n",
       "      <td>1</td>\n",
       "      <td>Hi I know this is a really basic question, but...</td>\n",
       "      <td>hi i know this be a really basic question but ...</td>\n",
       "      <td>1</td>\n",
       "    </tr>\n",
       "    <tr>\n",
       "      <th>14</th>\n",
       "      <td>1</td>\n",
       "      <td>Snowflake IPO, would you buy? I think their re...</td>\n",
       "      <td>snowflake ipo would you buy i think their reve...</td>\n",
       "      <td>1</td>\n",
       "    </tr>\n",
       "    <tr>\n",
       "      <th>15</th>\n",
       "      <td>1</td>\n",
       "      <td>Why did all the tech stock prices fall overnig...</td>\n",
       "      <td>why do all the tech stock price fall overnight...</td>\n",
       "      <td>1</td>\n",
       "    </tr>\n",
       "    <tr>\n",
       "      <th>16</th>\n",
       "      <td>1</td>\n",
       "      <td>Stashaway and Digiportfolio still recommended ...</td>\n",
       "      <td>stashaway and digiportfolio still recommend fo...</td>\n",
       "      <td>1</td>\n",
       "    </tr>\n",
       "    <tr>\n",
       "      <th>17</th>\n",
       "      <td>1</td>\n",
       "      <td>What's the difference between nikko am ark dis...</td>\n",
       "      <td>what s the difference between nikko be ark dis...</td>\n",
       "      <td>1</td>\n",
       "    </tr>\n",
       "    <tr>\n",
       "      <th>18</th>\n",
       "      <td>1</td>\n",
       "      <td>Has there ever been an overvalued/ overpriced ...</td>\n",
       "      <td>have there ever be an overvalue overprice stoc...</td>\n",
       "      <td>1</td>\n",
       "    </tr>\n",
       "    <tr>\n",
       "      <th>19</th>\n",
       "      <td>1</td>\n",
       "      <td>[Endowus AMA] Hi Sam, The interest rate is zer...</td>\n",
       "      <td>endowus ama hi sam the interest rate be zero o...</td>\n",
       "      <td>1</td>\n",
       "    </tr>\n",
       "  </tbody>\n",
       "</table>\n",
       "</div>"
      ],
      "text/plain": [
       "    subreddit                                            rawtext  \\\n",
       "0           0  Hey guys, i’m 21, currently half way through a...   \n",
       "1           0  Would you rent out a spare room in the propert...   \n",
       "2           0  If I have enough to pay off my home loan, shou...   \n",
       "3           0  Is it a good idea to start stashing savings to...   \n",
       "4           0  Hi Sam! What is your personal view of real est...   \n",
       "5           0  If you have $30,000. Three options. To put in ...   \n",
       "6           0  Can HDB apartment be use as bond if parents do...   \n",
       "7           0  Which is a better option if my main aim is to ...   \n",
       "8           0  I recently seen the I Quadrant's advertisement...   \n",
       "9           0  I’m just curious, as a male in his young 20s w...   \n",
       "10          1  What broker should I use if I were to invest i...   \n",
       "11          1  Hello (: i’m 21 years old and in university. w...   \n",
       "12          1  I am planning to set aside <$500 per month for...   \n",
       "13          1  Hi I know this is a really basic question, but...   \n",
       "14          1  Snowflake IPO, would you buy? I think their re...   \n",
       "15          1  Why did all the tech stock prices fall overnig...   \n",
       "16          1  Stashaway and Digiportfolio still recommended ...   \n",
       "17          1  What's the difference between nikko am ark dis...   \n",
       "18          1  Has there ever been an overvalued/ overpriced ...   \n",
       "19          1  [Endowus AMA] Hi Sam, The interest rate is zer...   \n",
       "\n",
       "                                                ltext  predictions  \n",
       "0   hey guy i m currently half way through army co...            0  \n",
       "1   would you rent out a spare room in the propert...            0  \n",
       "2   if i have enough to pay off my home loan shoul...            0  \n",
       "3   be it a good idea to start stash save to pay d...            0  \n",
       "4   hi sam what be your personal view of real esta...            1  \n",
       "5   if you have three option to put in fix deposit...            0  \n",
       "6   can hdb apartment be use a bond if parent do n...            0  \n",
       "7   which be a well option if my main aim be to mi...            0  \n",
       "8   i recently see the i quadrant s advertisement ...            1  \n",
       "9   i m just curious a a male in his young s with ...            1  \n",
       "10  what broke should i use if i be to invest into...            1  \n",
       "11  hello i m year old and in university when be t...            1  \n",
       "12  i be plan to set aside per month for invest co...            1  \n",
       "13  hi i know this be a really basic question but ...            1  \n",
       "14  snowflake ipo would you buy i think their reve...            1  \n",
       "15  why do all the tech stock price fall overnight...            1  \n",
       "16  stashaway and digiportfolio still recommend fo...            1  \n",
       "17  what s the difference between nikko be ark dis...            1  \n",
       "18  have there ever be an overvalue overprice stoc...            1  \n",
       "19  endowus ama hi sam the interest rate be zero o...            1  "
      ]
     },
     "execution_count": 50,
     "metadata": {},
     "output_type": "execute_result"
    }
   ],
   "source": [
    "seedly_classifier(blind_test,'rawtext')"
   ]
  },
  {
   "cell_type": "code",
   "execution_count": 27,
   "metadata": {},
   "outputs": [
    {
     "name": "stdout",
     "output_type": "stream",
     "text": [
      "hi sam what be your personal view of real estate re a an asset class and it expect return move forward how much do physical re make up of your own portfolio\n"
     ]
    }
   ],
   "source": [
    "# Misclassification post 1\n",
    "print(blind_test.loc[4]['ltext'])"
   ]
  },
  {
   "cell_type": "code",
   "execution_count": 28,
   "metadata": {},
   "outputs": [
    {
     "name": "stdout",
     "output_type": "stream",
     "text": [
      "i recently see the i quadrant s advertisement on facebook where they advertise to help singaporean own property in year with little or no money be it ma approve what be the risk\n"
     ]
    }
   ],
   "source": [
    "# Misclassification post 2\n",
    "print(blind_test.loc[8]['ltext'])"
   ]
  },
  {
   "cell_type": "code",
   "execution_count": 29,
   "metadata": {},
   "outputs": [
    {
     "name": "stdout",
     "output_type": "stream",
     "text": [
      "i m just curious a a male in his young s with fulltime job pay k before cpf be there any way to make use of buy and sell property in singapore to earn big buck\n"
     ]
    }
   ],
   "source": [
    "# Misclassification post 3\n",
    "print(blind_test.loc[9]['ltext'])"
   ]
  },
  {
   "cell_type": "markdown",
   "metadata": {},
   "source": [
    "# conclusion\n",
    "\n",
    "We have succesfully built a text classifier model and have throughly evaluated its performance. In our blind test, our SVC model has done tremendously well in the Stocks category, however it has misclassified 3 Real Estate posts.\n",
    "Zooming into the first misclassification, the word 'portfolio' was a strong determinant of the Stocks category and taking a look at the other 2 posts, there were very few deterministic terms in the text.\n",
    "\n",
    "There was a mention of the word 'cpf', which would be a term commonly used in Real Estate Investments locally. This underscores the need to provide more deterministic terms by feeding more local forum posts under these 2 classes, to improve the model's local context."
   ]
  },
  {
   "cell_type": "code",
   "execution_count": 47,
   "metadata": {},
   "outputs": [],
   "source": [
    "# pickle the model for model demo\n",
    "# pickle.dump(test_pipe,open('seedly.pkl', 'wb'))"
   ]
  }
 ],
 "metadata": {
  "kernelspec": {
   "display_name": "Python 3",
   "language": "python",
   "name": "python3"
  },
  "language_info": {
   "codemirror_mode": {
    "name": "ipython",
    "version": 3
   },
   "file_extension": ".py",
   "mimetype": "text/x-python",
   "name": "python",
   "nbconvert_exporter": "python",
   "pygments_lexer": "ipython3",
   "version": "3.7.6"
  }
 },
 "nbformat": 4,
 "nbformat_minor": 4
}
