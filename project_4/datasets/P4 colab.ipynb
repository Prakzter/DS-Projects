{
 "cells": [
  {
   "cell_type": "markdown",
   "metadata": {},
   "source": [
    "## Imports"
   ]
  },
  {
   "cell_type": "code",
   "execution_count": 1,
   "metadata": {},
   "outputs": [],
   "source": [
    "import pandas as pd\n",
    "import numpy as np\n",
    "import matplotlib.pyplot as plt\n",
    "import matplotlib.gridspec as gridspec\n",
    "import seaborn as sns\n",
    "\n",
    "from sklearn.datasets import make_blobs\n",
    "from sklearn.cluster import KMeans\n",
    "from sklearn.metrics import silhouette_score\n",
    "from sklearn.preprocessing import StandardScaler\n",
    "\n",
    "from sklearn.svm import SVC\n",
    "from sklearn.linear_model import SGDClassifier\n",
    "from sklearn.preprocessing import MinMaxScaler, StandardScaler, RobustScaler\n",
    "\n",
    "from sklearn.linear_model import LogisticRegression\n",
    "from sklearn.model_selection import train_test_split, GridSearchCV\n",
    "from sklearn.metrics import make_scorer \n",
    "from sklearn.metrics import matthews_corrcoef, plot_confusion_matrix,accuracy_score,plot_roc_curve,auc, roc_curve\n",
    "from imblearn.over_sampling import SMOTE\n",
    "from imblearn.pipeline import Pipeline\n",
    "\n",
    "from sklearn.naive_bayes import GaussianNB\n",
    "from sklearn.ensemble import RandomForestClassifier\n",
    "from xgboost import XGBClassifier, XGBRFClassifier\n",
    "\n",
    "from ipywidgets import IntSlider, interact"
   ]
  },
  {
   "cell_type": "markdown",
   "metadata": {},
   "source": [
    "## Read in Dataset"
   ]
  },
  {
   "cell_type": "code",
   "execution_count": 22,
   "metadata": {
    "scrolled": true
   },
   "outputs": [
    {
     "name": "stdout",
     "output_type": "stream",
     "text": [
      "<class 'pandas.core.frame.DataFrame'>\n",
      "RangeIndex: 10506 entries, 0 to 10505\n",
      "Data columns (total 12 columns):\n",
      " #   Column                  Non-Null Count  Dtype         \n",
      "---  ------                  --------------  -----         \n",
      " 0   date                    10506 non-null  datetime64[ns]\n",
      " 1   address                 10506 non-null  object        \n",
      " 2   species                 10506 non-null  object        \n",
      " 3   block                   10506 non-null  int64         \n",
      " 4   street                  10506 non-null  object        \n",
      " 5   trap                    10506 non-null  object        \n",
      " 6   addressnumberandstreet  10506 non-null  object        \n",
      " 7   latitude                10506 non-null  float64       \n",
      " 8   longitude               10506 non-null  float64       \n",
      " 9   addressaccuracy         10506 non-null  int64         \n",
      " 10  nummosquitos            10506 non-null  int64         \n",
      " 11  wnvpresent              10506 non-null  int64         \n",
      "dtypes: datetime64[ns](1), float64(2), int64(4), object(5)\n",
      "memory usage: 985.1+ KB\n"
     ]
    }
   ],
   "source": [
    "# Train data\n",
    "train = pd.read_csv('train.csv')\n",
    "train.columns = train.columns.str.lower()    # Convert all heading to lower\n",
    "train['date'] = pd.to_datetime(train['date'])    # Convert date to datetime\n",
    "train.info()"
   ]
  },
  {
   "cell_type": "code",
   "execution_count": 22,
   "metadata": {},
   "outputs": [
    {
     "name": "stdout",
     "output_type": "stream",
     "text": [
      "<class 'pandas.core.frame.DataFrame'>\n",
      "RangeIndex: 14835 entries, 0 to 14834\n",
      "Data columns (total 4 columns):\n",
      " #   Column     Non-Null Count  Dtype         \n",
      "---  ------     --------------  -----         \n",
      " 0   date       14835 non-null  datetime64[ns]\n",
      " 1   time       14251 non-null  object        \n",
      " 2   latitude   14835 non-null  float64       \n",
      " 3   longitude  14835 non-null  float64       \n",
      "dtypes: datetime64[ns](1), float64(2), object(1)\n",
      "memory usage: 463.7+ KB\n"
     ]
    }
   ],
   "source": [
    "# Spray data\n",
    "spray = pd.read_csv('spray.csv')\n",
    "spray.columns = spray.columns.str.lower()    # Convert all heading to lower\n",
    "spray['date'] = pd.to_datetime(spray['date'])    # Convert date to datetime\n",
    "spray.info()"
   ]
  },
  {
   "cell_type": "code",
   "execution_count": 2,
   "metadata": {
    "scrolled": false
   },
   "outputs": [
    {
     "name": "stdout",
     "output_type": "stream",
     "text": [
      "<class 'pandas.core.frame.DataFrame'>\n",
      "RangeIndex: 2944 entries, 0 to 2943\n",
      "Data columns (total 22 columns):\n",
      " #   Column       Non-Null Count  Dtype         \n",
      "---  ------       --------------  -----         \n",
      " 0   station      2944 non-null   int64         \n",
      " 1   date         2944 non-null   datetime64[ns]\n",
      " 2   tmax         2944 non-null   int64         \n",
      " 3   tmin         2944 non-null   int64         \n",
      " 4   tavg         2944 non-null   object        \n",
      " 5   depart       2944 non-null   object        \n",
      " 6   dewpoint     2944 non-null   int64         \n",
      " 7   wetbulb      2944 non-null   object        \n",
      " 8   heat         2944 non-null   object        \n",
      " 9   cool         2944 non-null   object        \n",
      " 10  sunrise      2944 non-null   object        \n",
      " 11  sunset       2944 non-null   object        \n",
      " 12  codesum      2944 non-null   object        \n",
      " 13  depth        2944 non-null   object        \n",
      " 14  water1       2944 non-null   object        \n",
      " 15  snowfall     2944 non-null   object        \n",
      " 16  preciptotal  2944 non-null   object        \n",
      " 17  stnpressure  2944 non-null   object        \n",
      " 18  sealevel     2944 non-null   object        \n",
      " 19  resultspeed  2944 non-null   float64       \n",
      " 20  resultdir    2944 non-null   int64         \n",
      " 21  avgspeed     2944 non-null   object        \n",
      "dtypes: datetime64[ns](1), float64(1), int64(5), object(15)\n",
      "memory usage: 506.1+ KB\n"
     ]
    }
   ],
   "source": [
    "# Weather data\n",
    "weather = pd.read_csv('weather.csv')\n",
    "weather.columns = weather.columns.str.lower()    # Convert all heading to lower\n",
    "weather['date'] = pd.to_datetime(weather['date'])    # Convert date to datetime\n",
    "weather.info()"
   ]
  },
  {
   "cell_type": "code",
   "execution_count": 19,
   "metadata": {},
   "outputs": [
    {
     "data": {
      "text/html": [
       "<div>\n",
       "<style scoped>\n",
       "    .dataframe tbody tr th:only-of-type {\n",
       "        vertical-align: middle;\n",
       "    }\n",
       "\n",
       "    .dataframe tbody tr th {\n",
       "        vertical-align: top;\n",
       "    }\n",
       "\n",
       "    .dataframe thead th {\n",
       "        text-align: right;\n",
       "    }\n",
       "</style>\n",
       "<table border=\"1\" class=\"dataframe\">\n",
       "  <thead>\n",
       "    <tr style=\"text-align: right;\">\n",
       "      <th></th>\n",
       "      <th>count</th>\n",
       "      <th>mean</th>\n",
       "      <th>std</th>\n",
       "      <th>min</th>\n",
       "      <th>25%</th>\n",
       "      <th>50%</th>\n",
       "      <th>75%</th>\n",
       "      <th>max</th>\n",
       "    </tr>\n",
       "  </thead>\n",
       "  <tbody>\n",
       "    <tr>\n",
       "      <th>station</th>\n",
       "      <td>1472.0</td>\n",
       "      <td>1.000000</td>\n",
       "      <td>0.000000</td>\n",
       "      <td>1.0</td>\n",
       "      <td>1.0</td>\n",
       "      <td>1.0</td>\n",
       "      <td>1.00</td>\n",
       "      <td>1.0</td>\n",
       "    </tr>\n",
       "    <tr>\n",
       "      <th>tmax</th>\n",
       "      <td>1472.0</td>\n",
       "      <td>75.978940</td>\n",
       "      <td>11.503150</td>\n",
       "      <td>42.0</td>\n",
       "      <td>68.0</td>\n",
       "      <td>78.0</td>\n",
       "      <td>85.00</td>\n",
       "      <td>103.0</td>\n",
       "    </tr>\n",
       "    <tr>\n",
       "      <th>tmin</th>\n",
       "      <td>1472.0</td>\n",
       "      <td>56.730978</td>\n",
       "      <td>10.347907</td>\n",
       "      <td>29.0</td>\n",
       "      <td>49.0</td>\n",
       "      <td>58.0</td>\n",
       "      <td>65.00</td>\n",
       "      <td>82.0</td>\n",
       "    </tr>\n",
       "    <tr>\n",
       "      <th>dewpoint</th>\n",
       "      <td>1472.0</td>\n",
       "      <td>53.377717</td>\n",
       "      <td>10.670263</td>\n",
       "      <td>22.0</td>\n",
       "      <td>46.0</td>\n",
       "      <td>54.0</td>\n",
       "      <td>61.25</td>\n",
       "      <td>75.0</td>\n",
       "    </tr>\n",
       "    <tr>\n",
       "      <th>resultspeed</th>\n",
       "      <td>1472.0</td>\n",
       "      <td>6.987092</td>\n",
       "      <td>3.586353</td>\n",
       "      <td>0.1</td>\n",
       "      <td>4.4</td>\n",
       "      <td>6.4</td>\n",
       "      <td>9.10</td>\n",
       "      <td>24.1</td>\n",
       "    </tr>\n",
       "    <tr>\n",
       "      <th>resultdir</th>\n",
       "      <td>1472.0</td>\n",
       "      <td>17.656250</td>\n",
       "      <td>10.222077</td>\n",
       "      <td>1.0</td>\n",
       "      <td>7.0</td>\n",
       "      <td>19.5</td>\n",
       "      <td>26.00</td>\n",
       "      <td>36.0</td>\n",
       "    </tr>\n",
       "  </tbody>\n",
       "</table>\n",
       "</div>"
      ],
      "text/plain": [
       "              count       mean        std   min   25%   50%    75%    max\n",
       "station      1472.0   1.000000   0.000000   1.0   1.0   1.0   1.00    1.0\n",
       "tmax         1472.0  75.978940  11.503150  42.0  68.0  78.0  85.00  103.0\n",
       "tmin         1472.0  56.730978  10.347907  29.0  49.0  58.0  65.00   82.0\n",
       "dewpoint     1472.0  53.377717  10.670263  22.0  46.0  54.0  61.25   75.0\n",
       "resultspeed  1472.0   6.987092   3.586353   0.1   4.4   6.4   9.10   24.1\n",
       "resultdir    1472.0  17.656250  10.222077   1.0   7.0  19.5  26.00   36.0"
      ]
     },
     "execution_count": 19,
     "metadata": {},
     "output_type": "execute_result"
    }
   ],
   "source": [
    "weather[weather.station == 1].describe().T"
   ]
  },
  {
   "cell_type": "code",
   "execution_count": 20,
   "metadata": {},
   "outputs": [
    {
     "data": {
      "text/html": [
       "<div>\n",
       "<style scoped>\n",
       "    .dataframe tbody tr th:only-of-type {\n",
       "        vertical-align: middle;\n",
       "    }\n",
       "\n",
       "    .dataframe tbody tr th {\n",
       "        vertical-align: top;\n",
       "    }\n",
       "\n",
       "    .dataframe thead th {\n",
       "        text-align: right;\n",
       "    }\n",
       "</style>\n",
       "<table border=\"1\" class=\"dataframe\">\n",
       "  <thead>\n",
       "    <tr style=\"text-align: right;\">\n",
       "      <th></th>\n",
       "      <th>count</th>\n",
       "      <th>mean</th>\n",
       "      <th>std</th>\n",
       "      <th>min</th>\n",
       "      <th>25%</th>\n",
       "      <th>50%</th>\n",
       "      <th>75%</th>\n",
       "      <th>max</th>\n",
       "    </tr>\n",
       "  </thead>\n",
       "  <tbody>\n",
       "    <tr>\n",
       "      <th>station</th>\n",
       "      <td>1472.0</td>\n",
       "      <td>2.000000</td>\n",
       "      <td>0.000000</td>\n",
       "      <td>2.0</td>\n",
       "      <td>2.000</td>\n",
       "      <td>2.0</td>\n",
       "      <td>2.000</td>\n",
       "      <td>2.0</td>\n",
       "    </tr>\n",
       "    <tr>\n",
       "      <th>tmax</th>\n",
       "      <td>1472.0</td>\n",
       "      <td>76.353261</td>\n",
       "      <td>11.421482</td>\n",
       "      <td>41.0</td>\n",
       "      <td>69.000</td>\n",
       "      <td>78.0</td>\n",
       "      <td>85.000</td>\n",
       "      <td>104.0</td>\n",
       "    </tr>\n",
       "    <tr>\n",
       "      <th>tmin</th>\n",
       "      <td>1472.0</td>\n",
       "      <td>58.889946</td>\n",
       "      <td>10.306855</td>\n",
       "      <td>29.0</td>\n",
       "      <td>51.000</td>\n",
       "      <td>60.0</td>\n",
       "      <td>67.000</td>\n",
       "      <td>83.0</td>\n",
       "    </tr>\n",
       "    <tr>\n",
       "      <th>dewpoint</th>\n",
       "      <td>1472.0</td>\n",
       "      <td>53.538043</td>\n",
       "      <td>10.683121</td>\n",
       "      <td>23.0</td>\n",
       "      <td>46.000</td>\n",
       "      <td>55.0</td>\n",
       "      <td>62.000</td>\n",
       "      <td>74.0</td>\n",
       "    </tr>\n",
       "    <tr>\n",
       "      <th>resultspeed</th>\n",
       "      <td>1472.0</td>\n",
       "      <td>6.934239</td>\n",
       "      <td>3.589725</td>\n",
       "      <td>0.3</td>\n",
       "      <td>4.275</td>\n",
       "      <td>6.5</td>\n",
       "      <td>9.225</td>\n",
       "      <td>21.7</td>\n",
       "    </tr>\n",
       "    <tr>\n",
       "      <th>resultdir</th>\n",
       "      <td>1472.0</td>\n",
       "      <td>17.333560</td>\n",
       "      <td>9.903450</td>\n",
       "      <td>1.0</td>\n",
       "      <td>8.000</td>\n",
       "      <td>19.0</td>\n",
       "      <td>24.000</td>\n",
       "      <td>36.0</td>\n",
       "    </tr>\n",
       "  </tbody>\n",
       "</table>\n",
       "</div>"
      ],
      "text/plain": [
       "              count       mean        std   min     25%   50%     75%    max\n",
       "station      1472.0   2.000000   0.000000   2.0   2.000   2.0   2.000    2.0\n",
       "tmax         1472.0  76.353261  11.421482  41.0  69.000  78.0  85.000  104.0\n",
       "tmin         1472.0  58.889946  10.306855  29.0  51.000  60.0  67.000   83.0\n",
       "dewpoint     1472.0  53.538043  10.683121  23.0  46.000  55.0  62.000   74.0\n",
       "resultspeed  1472.0   6.934239   3.589725   0.3   4.275   6.5   9.225   21.7\n",
       "resultdir    1472.0  17.333560   9.903450   1.0   8.000  19.0  24.000   36.0"
      ]
     },
     "execution_count": 20,
     "metadata": {},
     "output_type": "execute_result"
    }
   ],
   "source": [
    "weather[weather.station == 2].describe().T"
   ]
  },
  {
   "cell_type": "code",
   "execution_count": 18,
   "metadata": {},
   "outputs": [
    {
     "name": "stdout",
     "output_type": "stream",
     "text": [
      "stat=-0.886, p=0.376\n",
      "\n",
      "Probably the same distribution\n"
     ]
    }
   ],
   "source": [
    "from scipy.stats import ttest_ind\n",
    "\n",
    "data1, data2 = weather[weather.station == 1]['tmax'], weather[weather.station == 2]['tmax']\n",
    "\n",
    "stat, p = ttest_ind(data1, data2)\n",
    "# print('stat=%.3f, p=%.3f' % (stat, p))\n",
    "print(f'stat={stat:.3}, p={p:.3}')\n",
    "if p > 0.05:\n",
    "    print('\\nProbably the same distribution')\n",
    "else:\n",
    "    print('\\nProbably different distributions')"
   ]
  },
  {
   "cell_type": "markdown",
   "metadata": {},
   "source": [
    "We have statistically proven that there is no significant difference comparing the weather data from both stations. As such, we would be mapping the weather from station 1 to the trap locations to give us the corresponding weather info."
   ]
  },
  {
   "cell_type": "markdown",
   "metadata": {},
   "source": [
    "## Exploratory Data Analysis / Feature Engineering"
   ]
  },
  {
   "cell_type": "markdown",
   "metadata": {},
   "source": [
    "### Total Mosquitos"
   ]
  },
  {
   "cell_type": "code",
   "execution_count": 24,
   "metadata": {
    "scrolled": true
   },
   "outputs": [
    {
     "data": {
      "text/html": [
       "<div>\n",
       "<style scoped>\n",
       "    .dataframe tbody tr th:only-of-type {\n",
       "        vertical-align: middle;\n",
       "    }\n",
       "\n",
       "    .dataframe tbody tr th {\n",
       "        vertical-align: top;\n",
       "    }\n",
       "\n",
       "    .dataframe thead th {\n",
       "        text-align: right;\n",
       "    }\n",
       "</style>\n",
       "<table border=\"1\" class=\"dataframe\">\n",
       "  <thead>\n",
       "    <tr style=\"text-align: right;\">\n",
       "      <th></th>\n",
       "      <th>date</th>\n",
       "      <th>address</th>\n",
       "      <th>species</th>\n",
       "      <th>block</th>\n",
       "      <th>street</th>\n",
       "      <th>trap</th>\n",
       "      <th>addressnumberandstreet</th>\n",
       "      <th>latitude</th>\n",
       "      <th>longitude</th>\n",
       "      <th>addressaccuracy</th>\n",
       "      <th>nummosquitos_x</th>\n",
       "      <th>wnvpresent</th>\n",
       "      <th>concat</th>\n",
       "      <th>nummosquitos_y</th>\n",
       "    </tr>\n",
       "  </thead>\n",
       "  <tbody>\n",
       "    <tr>\n",
       "      <th>293</th>\n",
       "      <td>2007-07-11</td>\n",
       "      <td>2200 West 113th Street, Chicago, IL 60643, USA</td>\n",
       "      <td>CULEX PIPIENS/RESTUANS</td>\n",
       "      <td>22</td>\n",
       "      <td>W 113TH ST</td>\n",
       "      <td>T086</td>\n",
       "      <td>2200  W 113TH ST, Chicago, IL</td>\n",
       "      <td>41.688324</td>\n",
       "      <td>-87.676709</td>\n",
       "      <td>8</td>\n",
       "      <td>50</td>\n",
       "      <td>0</td>\n",
       "      <td>CULEX PIPIENS/RESTUANST0862007-07-11</td>\n",
       "      <td>143</td>\n",
       "    </tr>\n",
       "    <tr>\n",
       "      <th>295</th>\n",
       "      <td>2007-07-11</td>\n",
       "      <td>2200 West 113th Street, Chicago, IL 60643, USA</td>\n",
       "      <td>CULEX PIPIENS/RESTUANS</td>\n",
       "      <td>22</td>\n",
       "      <td>W 113TH ST</td>\n",
       "      <td>T086</td>\n",
       "      <td>2200  W 113TH ST, Chicago, IL</td>\n",
       "      <td>41.688324</td>\n",
       "      <td>-87.676709</td>\n",
       "      <td>8</td>\n",
       "      <td>50</td>\n",
       "      <td>0</td>\n",
       "      <td>CULEX PIPIENS/RESTUANST0862007-07-11</td>\n",
       "      <td>143</td>\n",
       "    </tr>\n",
       "    <tr>\n",
       "      <th>350</th>\n",
       "      <td>2007-07-11</td>\n",
       "      <td>3500 West 116th Street, Chicago, IL 60655, USA</td>\n",
       "      <td>CULEX PIPIENS/RESTUANS</td>\n",
       "      <td>35</td>\n",
       "      <td>W 116TH ST</td>\n",
       "      <td>T158</td>\n",
       "      <td>3500  W 116TH ST, Chicago, IL</td>\n",
       "      <td>41.682587</td>\n",
       "      <td>-87.707973</td>\n",
       "      <td>9</td>\n",
       "      <td>50</td>\n",
       "      <td>0</td>\n",
       "      <td>CULEX PIPIENS/RESTUANST1582007-07-11</td>\n",
       "      <td>189</td>\n",
       "    </tr>\n",
       "    <tr>\n",
       "      <th>351</th>\n",
       "      <td>2007-07-11</td>\n",
       "      <td>3500 West 116th Street, Chicago, IL 60655, USA</td>\n",
       "      <td>CULEX PIPIENS/RESTUANS</td>\n",
       "      <td>35</td>\n",
       "      <td>W 116TH ST</td>\n",
       "      <td>T158</td>\n",
       "      <td>3500  W 116TH ST, Chicago, IL</td>\n",
       "      <td>41.682587</td>\n",
       "      <td>-87.707973</td>\n",
       "      <td>9</td>\n",
       "      <td>50</td>\n",
       "      <td>0</td>\n",
       "      <td>CULEX PIPIENS/RESTUANST1582007-07-11</td>\n",
       "      <td>189</td>\n",
       "    </tr>\n",
       "    <tr>\n",
       "      <th>353</th>\n",
       "      <td>2007-07-11</td>\n",
       "      <td>3500 West 116th Street, Chicago, IL 60655, USA</td>\n",
       "      <td>CULEX PIPIENS/RESTUANS</td>\n",
       "      <td>35</td>\n",
       "      <td>W 116TH ST</td>\n",
       "      <td>T158</td>\n",
       "      <td>3500  W 116TH ST, Chicago, IL</td>\n",
       "      <td>41.682587</td>\n",
       "      <td>-87.707973</td>\n",
       "      <td>9</td>\n",
       "      <td>50</td>\n",
       "      <td>0</td>\n",
       "      <td>CULEX PIPIENS/RESTUANST1582007-07-11</td>\n",
       "      <td>189</td>\n",
       "    </tr>\n",
       "  </tbody>\n",
       "</table>\n",
       "</div>"
      ],
      "text/plain": [
       "          date                                         address  \\\n",
       "293 2007-07-11  2200 West 113th Street, Chicago, IL 60643, USA   \n",
       "295 2007-07-11  2200 West 113th Street, Chicago, IL 60643, USA   \n",
       "350 2007-07-11  3500 West 116th Street, Chicago, IL 60655, USA   \n",
       "351 2007-07-11  3500 West 116th Street, Chicago, IL 60655, USA   \n",
       "353 2007-07-11  3500 West 116th Street, Chicago, IL 60655, USA   \n",
       "\n",
       "                    species  block       street  trap  \\\n",
       "293  CULEX PIPIENS/RESTUANS     22   W 113TH ST  T086   \n",
       "295  CULEX PIPIENS/RESTUANS     22   W 113TH ST  T086   \n",
       "350  CULEX PIPIENS/RESTUANS     35   W 116TH ST  T158   \n",
       "351  CULEX PIPIENS/RESTUANS     35   W 116TH ST  T158   \n",
       "353  CULEX PIPIENS/RESTUANS     35   W 116TH ST  T158   \n",
       "\n",
       "            addressnumberandstreet   latitude  longitude  addressaccuracy  \\\n",
       "293  2200  W 113TH ST, Chicago, IL  41.688324 -87.676709                8   \n",
       "295  2200  W 113TH ST, Chicago, IL  41.688324 -87.676709                8   \n",
       "350  3500  W 116TH ST, Chicago, IL  41.682587 -87.707973                9   \n",
       "351  3500  W 116TH ST, Chicago, IL  41.682587 -87.707973                9   \n",
       "353  3500  W 116TH ST, Chicago, IL  41.682587 -87.707973                9   \n",
       "\n",
       "     nummosquitos_x  wnvpresent                                concat  \\\n",
       "293              50           0  CULEX PIPIENS/RESTUANST0862007-07-11   \n",
       "295              50           0  CULEX PIPIENS/RESTUANST0862007-07-11   \n",
       "350              50           0  CULEX PIPIENS/RESTUANST1582007-07-11   \n",
       "351              50           0  CULEX PIPIENS/RESTUANST1582007-07-11   \n",
       "353              50           0  CULEX PIPIENS/RESTUANST1582007-07-11   \n",
       "\n",
       "     nummosquitos_y  \n",
       "293             143  \n",
       "295             143  \n",
       "350             189  \n",
       "351             189  \n",
       "353             189  "
      ]
     },
     "execution_count": 24,
     "metadata": {},
     "output_type": "execute_result"
    }
   ],
   "source": [
    "# From data descriptions, there will be a new entry if the number of mosquitos more than 50\n",
    "# Find the sum of total mosquitos\n",
    "\n",
    "# Create a unique column for identification\n",
    "train['concat'] = train['species'].astype(str) + train['trap'].astype(str) + train['date'].astype(str)\n",
    "\n",
    "# create a groupby\n",
    "group = pd.DataFrame(train.groupby(['concat'])['nummosquitos'].sum())\n",
    "\n",
    "# merge groupby dataframe back to train df\n",
    "train = pd.merge(train, group, on='concat', how='inner')\n",
    "\n",
    "# Checking\n",
    "train[train['nummosquitos_x']>=50].head()"
   ]
  },
  {
   "cell_type": "code",
   "execution_count": 36,
   "metadata": {},
   "outputs": [
    {
     "name": "stderr",
     "output_type": "stream",
     "text": [
      "No handles with labels found to put in legend.\n"
     ]
    },
    {
     "data": {
      "image/png": "[encoded data removed]",
      "text/plain": [
       "<Figure size 1440x720 with 2 Axes>"
      ]
     },
     "metadata": {
      "needs_background": "light"
     },
     "output_type": "display_data"
    }
   ],
   "source": [
    "# Identifying Mosquito Species that are the most likely carriers of Virus.\n",
    "tmp = pd.crosstab(train['species'],train['wnvpresent'],normalize='index')\n",
    "tmp.reset_index(drop=True)\n",
    "tmp.columns = ['wnvAbsent','wnvPresent']\n",
    "fig,ax = plt.subplots(1,1, figsize = (20, 10))\n",
    "g = sns.countplot(x = 'species', \n",
    "                  data = train,\n",
    "                  ax=ax, \n",
    "                  order = tmp.sort_values(by = 'wnvPresent', ascending = False).index, \n",
    "                  color = 'red')\n",
    "ax.tick_params(axis='x',rotation=90)\n",
    "g2 = g.twinx()\n",
    "sns.pointplot(x = tmp.index,\n",
    "              y = 'wnvPresent', \n",
    "              data = tmp ,\n",
    "              ax=g2, \n",
    "              order = tmp.sort_values(by = 'wnvPresent', ascending = False).index)\n",
    "\n",
    "g2.set_label('adsa')\n",
    "ax.legend();"
   ]
  },
  {
   "cell_type": "code",
   "execution_count": 25,
   "metadata": {},
   "outputs": [
    {
     "data": {
      "text/plain": [
       "(8475, 12)"
      ]
     },
     "execution_count": 25,
     "metadata": {},
     "output_type": "execute_result"
    }
   ],
   "source": [
    "# Drop duplicate\n",
    "train.drop_duplicates(subset= ['species', 'trap', 'date'], inplace=True)\n",
    "\n",
    "# Drop the columns created and rename the column\n",
    "train.drop(columns = ['concat', 'nummosquitos_x'], errors='ignore', inplace=True)\n",
    "train.rename(columns = {'nummosquitos_y':'total_mosquitos'},inplace=True)\n",
    "\n",
    "# Checking\n",
    "train.shape"
   ]
  },
  {
   "cell_type": "markdown",
   "metadata": {},
   "source": [
    "### KMeans classifying of traps to weather stations"
   ]
  },
  {
   "cell_type": "code",
   "execution_count": 26,
   "metadata": {},
   "outputs": [
    {
     "data": {
      "text/plain": [
       "array([[ 41.995, -87.933],\n",
       "       [ 41.786, -87.752]])"
      ]
     },
     "execution_count": 26,
     "metadata": {},
     "output_type": "execute_result"
    }
   ],
   "source": [
    "# KMeans for trap based on station\n",
    "\n",
    "X = train[['latitude', 'longitude']]\n",
    "centroid = np.array(object = ([41.995, -87.933], [41.786, -87.752]))  # creating the centroid\n",
    "centroid"
   ]
  },
  {
   "cell_type": "code",
   "execution_count": 27,
   "metadata": {},
   "outputs": [],
   "source": [
    "km = KMeans(n_clusters = 2,       # 2 stations so 2 clusters\n",
    "            init = centroid, \n",
    "            tol= 0.01,            # adjust tolerance to better fit the line\n",
    "            random_state = 42)"
   ]
  },
  {
   "cell_type": "code",
   "execution_count": 28,
   "metadata": {},
   "outputs": [
    {
     "name": "stderr",
     "output_type": "stream",
     "text": [
      "/Users/prakky/opt/anaconda3/lib/python3.7/site-packages/sklearn/cluster/_kmeans.py:1035: RuntimeWarning: Explicit initial center position passed: performing only one init in KMeans instead of n_init=10.\n",
      "  self._check_params(X)\n"
     ]
    },
    {
     "data": {
      "text/plain": [
       "KMeans(init=array([[ 41.995, -87.933],\n",
       "       [ 41.786, -87.752]]),\n",
       "       n_clusters=2, random_state=42, tol=0.01)"
      ]
     },
     "execution_count": 28,
     "metadata": {},
     "output_type": "execute_result"
    }
   ],
   "source": [
    "km.fit(X)"
   ]
  },
  {
   "cell_type": "code",
   "execution_count": 29,
   "metadata": {},
   "outputs": [],
   "source": [
    "station_preds = km.predict(X) + 1    # station 0/1, but we need 1/2 so +1"
   ]
  },
  {
   "cell_type": "code",
   "execution_count": 30,
   "metadata": {
    "scrolled": true
   },
   "outputs": [
    {
     "data": {
      "text/html": [
       "<div>\n",
       "<style scoped>\n",
       "    .dataframe tbody tr th:only-of-type {\n",
       "        vertical-align: middle;\n",
       "    }\n",
       "\n",
       "    .dataframe tbody tr th {\n",
       "        vertical-align: top;\n",
       "    }\n",
       "\n",
       "    .dataframe thead th {\n",
       "        text-align: right;\n",
       "    }\n",
       "</style>\n",
       "<table border=\"1\" class=\"dataframe\">\n",
       "  <thead>\n",
       "    <tr style=\"text-align: right;\">\n",
       "      <th></th>\n",
       "      <th>date</th>\n",
       "      <th>address</th>\n",
       "      <th>species</th>\n",
       "      <th>block</th>\n",
       "      <th>street</th>\n",
       "      <th>trap</th>\n",
       "      <th>addressnumberandstreet</th>\n",
       "      <th>latitude</th>\n",
       "      <th>longitude</th>\n",
       "      <th>addressaccuracy</th>\n",
       "      <th>wnvpresent</th>\n",
       "      <th>total_mosquitos</th>\n",
       "      <th>station</th>\n",
       "    </tr>\n",
       "  </thead>\n",
       "  <tbody>\n",
       "    <tr>\n",
       "      <th>0</th>\n",
       "      <td>2007-05-29</td>\n",
       "      <td>4100 North Oak Park Avenue, Chicago, IL 60634,...</td>\n",
       "      <td>CULEX PIPIENS/RESTUANS</td>\n",
       "      <td>41</td>\n",
       "      <td>N OAK PARK AVE</td>\n",
       "      <td>T002</td>\n",
       "      <td>4100  N OAK PARK AVE, Chicago, IL</td>\n",
       "      <td>41.954690</td>\n",
       "      <td>-87.800991</td>\n",
       "      <td>9</td>\n",
       "      <td>0</td>\n",
       "      <td>1</td>\n",
       "      <td>1</td>\n",
       "    </tr>\n",
       "    <tr>\n",
       "      <th>1</th>\n",
       "      <td>2007-05-29</td>\n",
       "      <td>4100 North Oak Park Avenue, Chicago, IL 60634,...</td>\n",
       "      <td>CULEX RESTUANS</td>\n",
       "      <td>41</td>\n",
       "      <td>N OAK PARK AVE</td>\n",
       "      <td>T002</td>\n",
       "      <td>4100  N OAK PARK AVE, Chicago, IL</td>\n",
       "      <td>41.954690</td>\n",
       "      <td>-87.800991</td>\n",
       "      <td>9</td>\n",
       "      <td>0</td>\n",
       "      <td>1</td>\n",
       "      <td>1</td>\n",
       "    </tr>\n",
       "    <tr>\n",
       "      <th>2</th>\n",
       "      <td>2007-05-29</td>\n",
       "      <td>6200 North Mandell Avenue, Chicago, IL 60646, USA</td>\n",
       "      <td>CULEX RESTUANS</td>\n",
       "      <td>62</td>\n",
       "      <td>N MANDELL AVE</td>\n",
       "      <td>T007</td>\n",
       "      <td>6200  N MANDELL AVE, Chicago, IL</td>\n",
       "      <td>41.994991</td>\n",
       "      <td>-87.769279</td>\n",
       "      <td>9</td>\n",
       "      <td>0</td>\n",
       "      <td>1</td>\n",
       "      <td>1</td>\n",
       "    </tr>\n",
       "    <tr>\n",
       "      <th>3</th>\n",
       "      <td>2007-05-29</td>\n",
       "      <td>7900 West Foster Avenue, Chicago, IL 60656, USA</td>\n",
       "      <td>CULEX PIPIENS/RESTUANS</td>\n",
       "      <td>79</td>\n",
       "      <td>W FOSTER AVE</td>\n",
       "      <td>T015</td>\n",
       "      <td>7900  W FOSTER AVE, Chicago, IL</td>\n",
       "      <td>41.974089</td>\n",
       "      <td>-87.824812</td>\n",
       "      <td>8</td>\n",
       "      <td>0</td>\n",
       "      <td>1</td>\n",
       "      <td>1</td>\n",
       "    </tr>\n",
       "    <tr>\n",
       "      <th>4</th>\n",
       "      <td>2007-05-29</td>\n",
       "      <td>7900 West Foster Avenue, Chicago, IL 60656, USA</td>\n",
       "      <td>CULEX RESTUANS</td>\n",
       "      <td>79</td>\n",
       "      <td>W FOSTER AVE</td>\n",
       "      <td>T015</td>\n",
       "      <td>7900  W FOSTER AVE, Chicago, IL</td>\n",
       "      <td>41.974089</td>\n",
       "      <td>-87.824812</td>\n",
       "      <td>8</td>\n",
       "      <td>0</td>\n",
       "      <td>4</td>\n",
       "      <td>1</td>\n",
       "    </tr>\n",
       "  </tbody>\n",
       "</table>\n",
       "</div>"
      ],
      "text/plain": [
       "        date                                            address  \\\n",
       "0 2007-05-29  4100 North Oak Park Avenue, Chicago, IL 60634,...   \n",
       "1 2007-05-29  4100 North Oak Park Avenue, Chicago, IL 60634,...   \n",
       "2 2007-05-29  6200 North Mandell Avenue, Chicago, IL 60646, USA   \n",
       "3 2007-05-29    7900 West Foster Avenue, Chicago, IL 60656, USA   \n",
       "4 2007-05-29    7900 West Foster Avenue, Chicago, IL 60656, USA   \n",
       "\n",
       "                  species  block           street  trap  \\\n",
       "0  CULEX PIPIENS/RESTUANS     41   N OAK PARK AVE  T002   \n",
       "1          CULEX RESTUANS     41   N OAK PARK AVE  T002   \n",
       "2          CULEX RESTUANS     62    N MANDELL AVE  T007   \n",
       "3  CULEX PIPIENS/RESTUANS     79     W FOSTER AVE  T015   \n",
       "4          CULEX RESTUANS     79     W FOSTER AVE  T015   \n",
       "\n",
       "              addressnumberandstreet   latitude  longitude  addressaccuracy  \\\n",
       "0  4100  N OAK PARK AVE, Chicago, IL  41.954690 -87.800991                9   \n",
       "1  4100  N OAK PARK AVE, Chicago, IL  41.954690 -87.800991                9   \n",
       "2   6200  N MANDELL AVE, Chicago, IL  41.994991 -87.769279                9   \n",
       "3    7900  W FOSTER AVE, Chicago, IL  41.974089 -87.824812                8   \n",
       "4    7900  W FOSTER AVE, Chicago, IL  41.974089 -87.824812                8   \n",
       "\n",
       "   wnvpresent  total_mosquitos  station  \n",
       "0           0                1        1  \n",
       "1           0                1        1  \n",
       "2           0                1        1  \n",
       "3           0                1        1  \n",
       "4           0                4        1  "
      ]
     },
     "execution_count": 30,
     "metadata": {},
     "output_type": "execute_result"
    }
   ],
   "source": [
    "# add a new column\n",
    "train['station'] = station_preds\n",
    "train.head()"
   ]
  },
  {
   "cell_type": "markdown",
   "metadata": {},
   "source": [
    "<span style = 'color:orange'>Remark:</span> This is to classify our traps so that we know which  traps are being affected by weathers predicted by which stations."
   ]
  },
  {
   "cell_type": "markdown",
   "metadata": {},
   "source": [
    "### Train_combine = train + weather data"
   ]
  },
  {
   "cell_type": "code",
   "execution_count": 31,
   "metadata": {
    "scrolled": true
   },
   "outputs": [
    {
     "data": {
      "text/html": [
       "<div>\n",
       "<style scoped>\n",
       "    .dataframe tbody tr th:only-of-type {\n",
       "        vertical-align: middle;\n",
       "    }\n",
       "\n",
       "    .dataframe tbody tr th {\n",
       "        vertical-align: top;\n",
       "    }\n",
       "\n",
       "    .dataframe thead th {\n",
       "        text-align: right;\n",
       "    }\n",
       "</style>\n",
       "<table border=\"1\" class=\"dataframe\">\n",
       "  <thead>\n",
       "    <tr style=\"text-align: right;\">\n",
       "      <th></th>\n",
       "      <th>date</th>\n",
       "      <th>address</th>\n",
       "      <th>species</th>\n",
       "      <th>block</th>\n",
       "      <th>street</th>\n",
       "      <th>trap</th>\n",
       "      <th>addressnumberandstreet</th>\n",
       "      <th>latitude</th>\n",
       "      <th>longitude</th>\n",
       "      <th>addressaccuracy</th>\n",
       "      <th>...</th>\n",
       "      <th>codesum</th>\n",
       "      <th>depth</th>\n",
       "      <th>water1</th>\n",
       "      <th>snowfall</th>\n",
       "      <th>preciptotal</th>\n",
       "      <th>stnpressure</th>\n",
       "      <th>sealevel</th>\n",
       "      <th>resultspeed</th>\n",
       "      <th>resultdir</th>\n",
       "      <th>avgspeed</th>\n",
       "    </tr>\n",
       "  </thead>\n",
       "  <tbody>\n",
       "    <tr>\n",
       "      <th>0</th>\n",
       "      <td>2007-05-29</td>\n",
       "      <td>4100 North Oak Park Avenue, Chicago, IL 60634,...</td>\n",
       "      <td>CULEX PIPIENS/RESTUANS</td>\n",
       "      <td>41</td>\n",
       "      <td>N OAK PARK AVE</td>\n",
       "      <td>T002</td>\n",
       "      <td>4100  N OAK PARK AVE, Chicago, IL</td>\n",
       "      <td>41.954690</td>\n",
       "      <td>-87.800991</td>\n",
       "      <td>9</td>\n",
       "      <td>...</td>\n",
       "      <td>BR HZ</td>\n",
       "      <td>0</td>\n",
       "      <td>M</td>\n",
       "      <td>0.0</td>\n",
       "      <td>0.00</td>\n",
       "      <td>29.39</td>\n",
       "      <td>30.11</td>\n",
       "      <td>5.8</td>\n",
       "      <td>18</td>\n",
       "      <td>6.5</td>\n",
       "    </tr>\n",
       "    <tr>\n",
       "      <th>1</th>\n",
       "      <td>2007-05-29</td>\n",
       "      <td>4100 North Oak Park Avenue, Chicago, IL 60634,...</td>\n",
       "      <td>CULEX RESTUANS</td>\n",
       "      <td>41</td>\n",
       "      <td>N OAK PARK AVE</td>\n",
       "      <td>T002</td>\n",
       "      <td>4100  N OAK PARK AVE, Chicago, IL</td>\n",
       "      <td>41.954690</td>\n",
       "      <td>-87.800991</td>\n",
       "      <td>9</td>\n",
       "      <td>...</td>\n",
       "      <td>BR HZ</td>\n",
       "      <td>0</td>\n",
       "      <td>M</td>\n",
       "      <td>0.0</td>\n",
       "      <td>0.00</td>\n",
       "      <td>29.39</td>\n",
       "      <td>30.11</td>\n",
       "      <td>5.8</td>\n",
       "      <td>18</td>\n",
       "      <td>6.5</td>\n",
       "    </tr>\n",
       "    <tr>\n",
       "      <th>2</th>\n",
       "      <td>2007-05-29</td>\n",
       "      <td>6200 North Mandell Avenue, Chicago, IL 60646, USA</td>\n",
       "      <td>CULEX RESTUANS</td>\n",
       "      <td>62</td>\n",
       "      <td>N MANDELL AVE</td>\n",
       "      <td>T007</td>\n",
       "      <td>6200  N MANDELL AVE, Chicago, IL</td>\n",
       "      <td>41.994991</td>\n",
       "      <td>-87.769279</td>\n",
       "      <td>9</td>\n",
       "      <td>...</td>\n",
       "      <td>BR HZ</td>\n",
       "      <td>0</td>\n",
       "      <td>M</td>\n",
       "      <td>0.0</td>\n",
       "      <td>0.00</td>\n",
       "      <td>29.39</td>\n",
       "      <td>30.11</td>\n",
       "      <td>5.8</td>\n",
       "      <td>18</td>\n",
       "      <td>6.5</td>\n",
       "    </tr>\n",
       "    <tr>\n",
       "      <th>3</th>\n",
       "      <td>2007-05-29</td>\n",
       "      <td>7900 West Foster Avenue, Chicago, IL 60656, USA</td>\n",
       "      <td>CULEX PIPIENS/RESTUANS</td>\n",
       "      <td>79</td>\n",
       "      <td>W FOSTER AVE</td>\n",
       "      <td>T015</td>\n",
       "      <td>7900  W FOSTER AVE, Chicago, IL</td>\n",
       "      <td>41.974089</td>\n",
       "      <td>-87.824812</td>\n",
       "      <td>8</td>\n",
       "      <td>...</td>\n",
       "      <td>BR HZ</td>\n",
       "      <td>0</td>\n",
       "      <td>M</td>\n",
       "      <td>0.0</td>\n",
       "      <td>0.00</td>\n",
       "      <td>29.39</td>\n",
       "      <td>30.11</td>\n",
       "      <td>5.8</td>\n",
       "      <td>18</td>\n",
       "      <td>6.5</td>\n",
       "    </tr>\n",
       "    <tr>\n",
       "      <th>4</th>\n",
       "      <td>2007-05-29</td>\n",
       "      <td>7900 West Foster Avenue, Chicago, IL 60656, USA</td>\n",
       "      <td>CULEX RESTUANS</td>\n",
       "      <td>79</td>\n",
       "      <td>W FOSTER AVE</td>\n",
       "      <td>T015</td>\n",
       "      <td>7900  W FOSTER AVE, Chicago, IL</td>\n",
       "      <td>41.974089</td>\n",
       "      <td>-87.824812</td>\n",
       "      <td>8</td>\n",
       "      <td>...</td>\n",
       "      <td>BR HZ</td>\n",
       "      <td>0</td>\n",
       "      <td>M</td>\n",
       "      <td>0.0</td>\n",
       "      <td>0.00</td>\n",
       "      <td>29.39</td>\n",
       "      <td>30.11</td>\n",
       "      <td>5.8</td>\n",
       "      <td>18</td>\n",
       "      <td>6.5</td>\n",
       "    </tr>\n",
       "  </tbody>\n",
       "</table>\n",
       "<p>5 rows × 33 columns</p>\n",
       "</div>"
      ],
      "text/plain": [
       "        date                                            address  \\\n",
       "0 2007-05-29  4100 North Oak Park Avenue, Chicago, IL 60634,...   \n",
       "1 2007-05-29  4100 North Oak Park Avenue, Chicago, IL 60634,...   \n",
       "2 2007-05-29  6200 North Mandell Avenue, Chicago, IL 60646, USA   \n",
       "3 2007-05-29    7900 West Foster Avenue, Chicago, IL 60656, USA   \n",
       "4 2007-05-29    7900 West Foster Avenue, Chicago, IL 60656, USA   \n",
       "\n",
       "                  species  block           street  trap  \\\n",
       "0  CULEX PIPIENS/RESTUANS     41   N OAK PARK AVE  T002   \n",
       "1          CULEX RESTUANS     41   N OAK PARK AVE  T002   \n",
       "2          CULEX RESTUANS     62    N MANDELL AVE  T007   \n",
       "3  CULEX PIPIENS/RESTUANS     79     W FOSTER AVE  T015   \n",
       "4          CULEX RESTUANS     79     W FOSTER AVE  T015   \n",
       "\n",
       "              addressnumberandstreet   latitude  longitude  addressaccuracy  \\\n",
       "0  4100  N OAK PARK AVE, Chicago, IL  41.954690 -87.800991                9   \n",
       "1  4100  N OAK PARK AVE, Chicago, IL  41.954690 -87.800991                9   \n",
       "2   6200  N MANDELL AVE, Chicago, IL  41.994991 -87.769279                9   \n",
       "3    7900  W FOSTER AVE, Chicago, IL  41.974089 -87.824812                8   \n",
       "4    7900  W FOSTER AVE, Chicago, IL  41.974089 -87.824812                8   \n",
       "\n",
       "   ...  codesum  depth  water1  snowfall  preciptotal stnpressure sealevel  \\\n",
       "0  ...    BR HZ      0       M       0.0         0.00       29.39    30.11   \n",
       "1  ...    BR HZ      0       M       0.0         0.00       29.39    30.11   \n",
       "2  ...    BR HZ      0       M       0.0         0.00       29.39    30.11   \n",
       "3  ...    BR HZ      0       M       0.0         0.00       29.39    30.11   \n",
       "4  ...    BR HZ      0       M       0.0         0.00       29.39    30.11   \n",
       "\n",
       "   resultspeed resultdir avgspeed  \n",
       "0          5.8        18      6.5  \n",
       "1          5.8        18      6.5  \n",
       "2          5.8        18      6.5  \n",
       "3          5.8        18      6.5  \n",
       "4          5.8        18      6.5  \n",
       "\n",
       "[5 rows x 33 columns]"
      ]
     },
     "execution_count": 31,
     "metadata": {},
     "output_type": "execute_result"
    }
   ],
   "source": [
    "train_combine = pd.merge(train,weather,on = ['date', 'station'], how = 'inner')\n",
    "train_combine.head()"
   ]
  },
  {
   "cell_type": "code",
   "execution_count": 32,
   "metadata": {},
   "outputs": [
    {
     "data": {
      "text/plain": [
       "(8475, 33)"
      ]
     },
     "execution_count": 32,
     "metadata": {},
     "output_type": "execute_result"
    }
   ],
   "source": [
    "train_combine.shape"
   ]
  },
  {
   "cell_type": "markdown",
   "metadata": {},
   "source": [
    "### Visualisation"
   ]
  },
  {
   "cell_type": "code",
   "execution_count": 33,
   "metadata": {},
   "outputs": [
    {
     "ename": "OSError",
     "evalue": "datasets/mapdata_copyright_openstreetmap_contributors.txt not found.",
     "output_type": "error",
     "traceback": [
      "\u001b[0;31m---------------------------------------------------------------------------\u001b[0m",
      "\u001b[0;31mOSError\u001b[0m                                   Traceback (most recent call last)",
      "\u001b[0;32m<ipython-input-33-7a65fc54c330>\u001b[0m in \u001b[0;36m<module>\u001b[0;34m\u001b[0m\n\u001b[1;32m      9\u001b[0m \u001b[0mupperRight\u001b[0m \u001b[0;34m=\u001b[0m \u001b[0;34m[\u001b[0m\u001b[0;36m42.1\u001b[0m\u001b[0;34m,\u001b[0m \u001b[0;34m-\u001b[0m\u001b[0;36m87.5\u001b[0m\u001b[0;34m]\u001b[0m          \u001b[0;31m# lat/long of upper right corner\u001b[0m\u001b[0;34m\u001b[0m\u001b[0;34m\u001b[0m\u001b[0m\n\u001b[1;32m     10\u001b[0m \u001b[0;34m\u001b[0m\u001b[0m\n\u001b[0;32m---> 11\u001b[0;31m \u001b[0mmapdata\u001b[0m \u001b[0;34m=\u001b[0m \u001b[0mnp\u001b[0m\u001b[0;34m.\u001b[0m\u001b[0mloadtxt\u001b[0m\u001b[0;34m(\u001b[0m\u001b[0;34m\"datasets/mapdata_copyright_openstreetmap_contributors.txt\"\u001b[0m\u001b[0;34m)\u001b[0m\u001b[0;34m\u001b[0m\u001b[0;34m\u001b[0m\u001b[0m\n\u001b[0m\u001b[1;32m     12\u001b[0m \u001b[0;34m\u001b[0m\u001b[0m\n\u001b[1;32m     13\u001b[0m \u001b[0mintersection\u001b[0m \u001b[0;34m=\u001b[0m \u001b[0;34m[\u001b[0m\u001b[0;36m41.995\u001b[0m\u001b[0;34m,\u001b[0m \u001b[0;34m-\u001b[0m\u001b[0;36m87.933\u001b[0m\u001b[0;34m]\u001b[0m  \u001b[0;31m# co-ordinates of intersection of IL64 / IL50 according to Google Earth\u001b[0m\u001b[0;34m\u001b[0m\u001b[0;34m\u001b[0m\u001b[0m\n",
      "\u001b[0;32m~/opt/anaconda3/lib/python3.7/site-packages/numpy/lib/npyio.py\u001b[0m in \u001b[0;36mloadtxt\u001b[0;34m(fname, dtype, comments, delimiter, converters, skiprows, usecols, unpack, ndmin, encoding, max_rows)\u001b[0m\n\u001b[1;32m    979\u001b[0m             \u001b[0mfname\u001b[0m \u001b[0;34m=\u001b[0m \u001b[0mos_fspath\u001b[0m\u001b[0;34m(\u001b[0m\u001b[0mfname\u001b[0m\u001b[0;34m)\u001b[0m\u001b[0;34m\u001b[0m\u001b[0;34m\u001b[0m\u001b[0m\n\u001b[1;32m    980\u001b[0m         \u001b[0;32mif\u001b[0m \u001b[0m_is_string_like\u001b[0m\u001b[0;34m(\u001b[0m\u001b[0mfname\u001b[0m\u001b[0;34m)\u001b[0m\u001b[0;34m:\u001b[0m\u001b[0;34m\u001b[0m\u001b[0;34m\u001b[0m\u001b[0m\n\u001b[0;32m--> 981\u001b[0;31m             \u001b[0mfh\u001b[0m \u001b[0;34m=\u001b[0m \u001b[0mnp\u001b[0m\u001b[0;34m.\u001b[0m\u001b[0mlib\u001b[0m\u001b[0;34m.\u001b[0m\u001b[0m_datasource\u001b[0m\u001b[0;34m.\u001b[0m\u001b[0mopen\u001b[0m\u001b[0;34m(\u001b[0m\u001b[0mfname\u001b[0m\u001b[0;34m,\u001b[0m \u001b[0;34m'rt'\u001b[0m\u001b[0;34m,\u001b[0m \u001b[0mencoding\u001b[0m\u001b[0;34m=\u001b[0m\u001b[0mencoding\u001b[0m\u001b[0;34m)\u001b[0m\u001b[0;34m\u001b[0m\u001b[0;34m\u001b[0m\u001b[0m\n\u001b[0m\u001b[1;32m    982\u001b[0m             \u001b[0mfencoding\u001b[0m \u001b[0;34m=\u001b[0m \u001b[0mgetattr\u001b[0m\u001b[0;34m(\u001b[0m\u001b[0mfh\u001b[0m\u001b[0;34m,\u001b[0m \u001b[0;34m'encoding'\u001b[0m\u001b[0;34m,\u001b[0m \u001b[0;34m'latin1'\u001b[0m\u001b[0;34m)\u001b[0m\u001b[0;34m\u001b[0m\u001b[0;34m\u001b[0m\u001b[0m\n\u001b[1;32m    983\u001b[0m             \u001b[0mfh\u001b[0m \u001b[0;34m=\u001b[0m \u001b[0miter\u001b[0m\u001b[0;34m(\u001b[0m\u001b[0mfh\u001b[0m\u001b[0;34m)\u001b[0m\u001b[0;34m\u001b[0m\u001b[0;34m\u001b[0m\u001b[0m\n",
      "\u001b[0;32m~/opt/anaconda3/lib/python3.7/site-packages/numpy/lib/_datasource.py\u001b[0m in \u001b[0;36mopen\u001b[0;34m(path, mode, destpath, encoding, newline)\u001b[0m\n\u001b[1;32m    267\u001b[0m \u001b[0;34m\u001b[0m\u001b[0m\n\u001b[1;32m    268\u001b[0m     \u001b[0mds\u001b[0m \u001b[0;34m=\u001b[0m \u001b[0mDataSource\u001b[0m\u001b[0;34m(\u001b[0m\u001b[0mdestpath\u001b[0m\u001b[0;34m)\u001b[0m\u001b[0;34m\u001b[0m\u001b[0;34m\u001b[0m\u001b[0m\n\u001b[0;32m--> 269\u001b[0;31m     \u001b[0;32mreturn\u001b[0m \u001b[0mds\u001b[0m\u001b[0;34m.\u001b[0m\u001b[0mopen\u001b[0m\u001b[0;34m(\u001b[0m\u001b[0mpath\u001b[0m\u001b[0;34m,\u001b[0m \u001b[0mmode\u001b[0m\u001b[0;34m,\u001b[0m \u001b[0mencoding\u001b[0m\u001b[0;34m=\u001b[0m\u001b[0mencoding\u001b[0m\u001b[0;34m,\u001b[0m \u001b[0mnewline\u001b[0m\u001b[0;34m=\u001b[0m\u001b[0mnewline\u001b[0m\u001b[0;34m)\u001b[0m\u001b[0;34m\u001b[0m\u001b[0;34m\u001b[0m\u001b[0m\n\u001b[0m\u001b[1;32m    270\u001b[0m \u001b[0;34m\u001b[0m\u001b[0m\n\u001b[1;32m    271\u001b[0m \u001b[0;34m\u001b[0m\u001b[0m\n",
      "\u001b[0;32m~/opt/anaconda3/lib/python3.7/site-packages/numpy/lib/_datasource.py\u001b[0m in \u001b[0;36mopen\u001b[0;34m(self, path, mode, encoding, newline)\u001b[0m\n\u001b[1;32m    621\u001b[0m                                       encoding=encoding, newline=newline)\n\u001b[1;32m    622\u001b[0m         \u001b[0;32melse\u001b[0m\u001b[0;34m:\u001b[0m\u001b[0;34m\u001b[0m\u001b[0;34m\u001b[0m\u001b[0m\n\u001b[0;32m--> 623\u001b[0;31m             \u001b[0;32mraise\u001b[0m \u001b[0mIOError\u001b[0m\u001b[0;34m(\u001b[0m\u001b[0;34m\"%s not found.\"\u001b[0m \u001b[0;34m%\u001b[0m \u001b[0mpath\u001b[0m\u001b[0;34m)\u001b[0m\u001b[0;34m\u001b[0m\u001b[0;34m\u001b[0m\u001b[0m\n\u001b[0m\u001b[1;32m    624\u001b[0m \u001b[0;34m\u001b[0m\u001b[0m\n\u001b[1;32m    625\u001b[0m \u001b[0;34m\u001b[0m\u001b[0m\n",
      "\u001b[0;31mOSError\u001b[0m: datasets/mapdata_copyright_openstreetmap_contributors.txt not found."
     ]
    }
   ],
   "source": [
    "# Create a visualized widget \n",
    "\n",
    "sliderx = IntSlider(min = 2, max = 4, description = 'DayofWeek')\n",
    "slidery = IntSlider(min =2007, max = 2013, step = 2, description = 'Year')\n",
    "sliderz = IntSlider(min = 0, max = 1, description = 'WnvPresent')\n",
    "slideri = IntSlider(min = 5, max = 10, description = 'Month')\n",
    "\n",
    "origin = [41.6, -88.0]              # lat/long of origin (lower left corner)\n",
    "upperRight = [42.1, -87.5]          # lat/long of upper right corner\n",
    "\n",
    "mapdata = np.loadtxt(\"datasets/mapdata_copyright_openstreetmap_contributors.txt\")\n",
    "\n",
    "intersection = [41.995, -87.933]  # co-ordinates of intersection of IL64 / IL50 according to Google Earth\n",
    "intersection2 = [41.786, -87.752]\n",
    "\n",
    "def plot_func(x,y,z,i):\n",
    "    \n",
    "    \n",
    "    plt.figure(figsize = (15,15))\n",
    "    \n",
    "    plt.imshow(mapdata, cmap=plt.get_cmap('gray'), extent=[origin[1], upperRight[1], origin[0], upperRight[0]])\n",
    "\n",
    "    plt.scatter(x=intersection[1], y=intersection[0], c='b', s=60, marker='s')\n",
    "    \n",
    "    plt.scatter(x=intersection2[1], y=intersection2[0], c='b', s=60, marker='s')\n",
    "    \n",
    "    \n",
    "    \n",
    "    color = ['blue', 'red']\n",
    "    plt.scatter(x='longitude',y='latitude',\n",
    "                data = train_combine.loc[train_combine['wnvpresent'] == z]\\\n",
    "                .loc[train_combine['date'].dt.month == i]\\\n",
    "                .loc[train_combine['date'].dt.year == y],\n",
    "                s=60,c = color[z])\n",
    "    \n",
    "    \n",
    "    plt.scatter(x='longitude', y='latitude',\n",
    "                data = spray.loc[spray['date'].dt.dayofweek == x ]\\\n",
    "                .loc[spray['date'].dt.month == i]\\\n",
    "                .loc[spray['date'].dt.year == y],\n",
    "                c ='green', s=10, alpha = 0.2)\n",
    "    \n",
    "    sns.scatterplot(x='longitude',\n",
    "                    y='latitude',\n",
    "                    data = train_combine.loc[train_combine['station'] == 1].loc[train_combine['date'].dt.month == i]\\\n",
    "                    .loc[train_combine['date'].dt.year == y],\n",
    "                    color = 'yellow',\n",
    "                    marker = 'o',\n",
    "                    s=20)\n",
    "    \n",
    "    sns.scatterplot(x='longitude',\n",
    "                    y='latitude',\n",
    "                    data = train_combine.loc[train_combine['station'] == 2].loc[train_combine['date'].dt.month == i]\\\n",
    "                    .loc[train_combine['date'].dt.year == y],\n",
    "                    color = 'green',\n",
    "                    marker = 'o',\n",
    "                    s=20)\n",
    "    plt.show()\n",
    "\n",
    "interact(plot_func, x= sliderx, y = slidery, z = sliderz, i = slideri);"
   ]
  },
  {
   "cell_type": "markdown",
   "metadata": {},
   "source": [
    "<span style = 'color:orange'>Remark:</span> We are observing the spatial relationship between traps, sprays & WNVpresent across time."
   ]
  },
  {
   "cell_type": "markdown",
   "metadata": {},
   "source": [
    "### Data Cleaning for train_combine"
   ]
  },
  {
   "cell_type": "code",
   "execution_count": 34,
   "metadata": {},
   "outputs": [],
   "source": [
    "# Create a copy of thr train_combine for further data cleaning\n",
    "train_clean = train_combine.copy()\n",
    "for i in train_clean.columns:\n",
    "        train_clean[i] = train_clean[i].replace(\"M\", np.nan).replace(\"-\", np.nan)"
   ]
  },
  {
   "cell_type": "code",
   "execution_count": 35,
   "metadata": {},
   "outputs": [
    {
     "data": {
      "text/plain": [
       "depart         4696\n",
       "wetbulb          48\n",
       "sunrise        4696\n",
       "sunset         4696\n",
       "depth          4696\n",
       "water1         8475\n",
       "snowfall       4696\n",
       "preciptotal      18\n",
       "stnpressure      48\n",
       "dtype: int64"
      ]
     },
     "execution_count": 35,
     "metadata": {},
     "output_type": "execute_result"
    }
   ],
   "source": [
    "# Checking features that contains null values\n",
    "train_clean.isnull().sum()[train_clean.isnull().sum() !=0]"
   ]
  },
  {
   "cell_type": "code",
   "execution_count": 36,
   "metadata": {},
   "outputs": [
    {
     "name": "stdout",
     "output_type": "stream",
     "text": [
      "0.0    3691\n",
      "  T      88\n",
      "Name: snowfall, dtype: int64\n",
      "\n",
      "0    3779\n",
      "Name: depth, dtype: int64\n"
     ]
    }
   ],
   "source": [
    "print(train_clean['snowfall'][train_clean['station'] == 1].value_counts())\n",
    "print('')\n",
    "print(train_clean['depth'][train_clean['station'] == 1].value_counts())"
   ]
  },
  {
   "cell_type": "code",
   "execution_count": 37,
   "metadata": {},
   "outputs": [],
   "source": [
    "# based on data description, drop column unessacary data with majority of null\n",
    "train_clean.drop(columns=['depart','water1','depth','snowfall','address', 'block', 'street', 'addressnumberandstreet', 'addressaccuracy'],inplace=True, errors='ignore')"
   ]
  },
  {
   "cell_type": "markdown",
   "metadata": {},
   "source": [
    "<span style = 'color:orange'>Remark:</span> We dropped 4 of these columns based on the following:\n",
    "- Snowfall & depth contains 3779 0 values, inclusion of the 4696 null values making them insignificant to our problem statment \n",
    "- depart is a derivatives from tempature. We will use heat and cool to measure tempature instead\n",
    "- Water1 is not avaialbe from both stations. \n",
    "- addrees and the related columns are dropped as we are using lat and long for spatial features"
   ]
  },
  {
   "cell_type": "code",
   "execution_count": 38,
   "metadata": {},
   "outputs": [],
   "source": [
    "# function that change time to seconds\n",
    "def changetime(x):\n",
    "    try:\n",
    "        x = str(int(x))\n",
    "        x1 = int(x[0])*60*60\n",
    "        x2 = int(x[1:])*60\n",
    "        x = x1 + x2\n",
    "        return x\n",
    "    except:\n",
    "        return x\n",
    "    \n",
    "train_clean['sunrise'] = train_clean['sunrise'].map(lambda x: changetime(x)) # make changes on sunrise \n",
    "train_clean['sunset'] = train_clean['sunset'].map(lambda x: changetime(x))    # make changes on sunset"
   ]
  },
  {
   "cell_type": "code",
   "execution_count": 39,
   "metadata": {},
   "outputs": [],
   "source": [
    "# fillna for sunset/sunrise with mean\n",
    "mean_sunset = (train_clean['sunset'].loc[train_clean['sunset'].notnull()].sum()/len(train_clean[train_clean['sunset'].notnull()]))\n",
    "mean_sunrise = (train_clean['sunrise'].loc[train_clean['sunrise'].notnull()].sum()/len(train_clean[train_clean['sunrise'].notnull()]))\n",
    "\n",
    "train_clean['sunrise'].fillna(round(mean_sunrise), inplace = True)\n",
    "train_clean['sunset'].fillna(round(mean_sunset), inplace = True)"
   ]
  },
  {
   "cell_type": "code",
   "execution_count": 40,
   "metadata": {},
   "outputs": [],
   "source": [
    "# make sunset - sunrise = nighttime\n",
    "train_clean['nighttime'] = train_clean['sunset'] - train_clean['sunrise']\n",
    "train_clean['nighttime'] = train_clean['nighttime'].map(lambda x: 24 - round(x/3600))  # round it to be only hour"
   ]
  },
  {
   "cell_type": "code",
   "execution_count": 41,
   "metadata": {},
   "outputs": [
    {
     "data": {
      "text/plain": [
       "13    5181\n",
       "12    1622\n",
       "14     733\n",
       "16     451\n",
       "15     350\n",
       "17     138\n",
       "Name: nighttime, dtype: int64"
      ]
     },
     "execution_count": 41,
     "metadata": {},
     "output_type": "execute_result"
    }
   ],
   "source": [
    "train_clean['nighttime'].value_counts()"
   ]
  },
  {
   "cell_type": "code",
   "execution_count": 42,
   "metadata": {},
   "outputs": [
    {
     "data": {
      "text/html": [
       "<div>\n",
       "<style scoped>\n",
       "    .dataframe tbody tr th:only-of-type {\n",
       "        vertical-align: middle;\n",
       "    }\n",
       "\n",
       "    .dataframe tbody tr th {\n",
       "        vertical-align: top;\n",
       "    }\n",
       "\n",
       "    .dataframe thead th {\n",
       "        text-align: right;\n",
       "    }\n",
       "</style>\n",
       "<table border=\"1\" class=\"dataframe\">\n",
       "  <thead>\n",
       "    <tr style=\"text-align: right;\">\n",
       "      <th></th>\n",
       "      <th>sunset</th>\n",
       "      <th>sunrise</th>\n",
       "      <th>nighttime</th>\n",
       "    </tr>\n",
       "  </thead>\n",
       "  <tbody>\n",
       "    <tr>\n",
       "      <th>0</th>\n",
       "      <td>58620.0</td>\n",
       "      <td>15660.0</td>\n",
       "      <td>12</td>\n",
       "    </tr>\n",
       "    <tr>\n",
       "      <th>1</th>\n",
       "      <td>58620.0</td>\n",
       "      <td>15660.0</td>\n",
       "      <td>12</td>\n",
       "    </tr>\n",
       "    <tr>\n",
       "      <th>2</th>\n",
       "      <td>58620.0</td>\n",
       "      <td>15660.0</td>\n",
       "      <td>12</td>\n",
       "    </tr>\n",
       "    <tr>\n",
       "      <th>3</th>\n",
       "      <td>58620.0</td>\n",
       "      <td>15660.0</td>\n",
       "      <td>12</td>\n",
       "    </tr>\n",
       "    <tr>\n",
       "      <th>4</th>\n",
       "      <td>58620.0</td>\n",
       "      <td>15660.0</td>\n",
       "      <td>12</td>\n",
       "    </tr>\n",
       "  </tbody>\n",
       "</table>\n",
       "</div>"
      ],
      "text/plain": [
       "    sunset  sunrise  nighttime\n",
       "0  58620.0  15660.0         12\n",
       "1  58620.0  15660.0         12\n",
       "2  58620.0  15660.0         12\n",
       "3  58620.0  15660.0         12\n",
       "4  58620.0  15660.0         12"
      ]
     },
     "execution_count": 42,
     "metadata": {},
     "output_type": "execute_result"
    }
   ],
   "source": [
    "train_clean[['sunset','sunrise','nighttime']].head()"
   ]
  },
  {
   "cell_type": "code",
   "execution_count": 43,
   "metadata": {},
   "outputs": [],
   "source": [
    "# after convert to nighttime, drop sunset and sunrise\n",
    "train_clean.drop(columns=['sunrise','sunset'],inplace=True, errors='ignore')"
   ]
  },
  {
   "cell_type": "code",
   "execution_count": 44,
   "metadata": {},
   "outputs": [
    {
     "data": {
      "text/plain": [
       "date               datetime64[ns]\n",
       "species                    object\n",
       "trap                       object\n",
       "latitude                  float64\n",
       "longitude                 float64\n",
       "wnvpresent                  int64\n",
       "total_mosquitos             int64\n",
       "station                     int32\n",
       "tmax                        int64\n",
       "tmin                        int64\n",
       "tavg                       object\n",
       "dewpoint                    int64\n",
       "wetbulb                    object\n",
       "heat                       object\n",
       "cool                       object\n",
       "codesum                    object\n",
       "preciptotal                object\n",
       "stnpressure                object\n",
       "sealevel                   object\n",
       "resultspeed               float64\n",
       "resultdir                   int64\n",
       "avgspeed                   object\n",
       "nighttime                   int64\n",
       "dtype: object"
      ]
     },
     "execution_count": 44,
     "metadata": {},
     "output_type": "execute_result"
    }
   ],
   "source": [
    "# Check all the datatype\n",
    "train_clean.dtypes"
   ]
  },
  {
   "cell_type": "code",
   "execution_count": 45,
   "metadata": {},
   "outputs": [],
   "source": [
    "# Change the data type from object to float\n",
    "train_clean['stnpressure'] = train_clean['stnpressure'].astype('float')\n",
    "train_clean['wetbulb'] = train_clean['wetbulb'].astype('float')\n",
    "train_clean['cool'] = train_clean['cool'].astype('float')\n",
    "train_clean['heat'] = train_clean['heat'].astype('float')\n",
    "train_clean['tavg'] = train_clean['tavg'].astype('float')\n",
    "train_clean['sealevel'] = train_clean['sealevel'].astype('float')\n",
    "train_clean['avgspeed'] = train_clean['avgspeed'].astype('float')"
   ]
  },
  {
   "cell_type": "code",
   "execution_count": 46,
   "metadata": {},
   "outputs": [
    {
     "name": "stderr",
     "output_type": "stream",
     "text": [
      "/Users/prakky/opt/anaconda3/lib/python3.7/site-packages/ipykernel_launcher.py:9: SettingWithCopyWarning: \n",
      "A value is trying to be set on a copy of a slice from a DataFrame\n",
      "\n",
      "See the caveats in the documentation: https://pandas.pydata.org/pandas-docs/stable/user_guide/indexing.html#returning-a-view-versus-a-copy\n",
      "  if __name__ == '__main__':\n",
      "/Users/prakky/opt/anaconda3/lib/python3.7/site-packages/ipykernel_launcher.py:10: SettingWithCopyWarning: \n",
      "A value is trying to be set on a copy of a slice from a DataFrame\n",
      "\n",
      "See the caveats in the documentation: https://pandas.pydata.org/pandas-docs/stable/user_guide/indexing.html#returning-a-view-versus-a-copy\n",
      "  # Remove the CWD from sys.path while we load stuff.\n"
     ]
    }
   ],
   "source": [
    "# fillna for stnpressure with the average pressure of each station\n",
    "mask1 = train_clean['station'] ==1\n",
    "mask2 = train_clean['station'] ==2\n",
    "\n",
    "# Find station 1 mean station pressure\n",
    "\n",
    "sp1 = train_clean['stnpressure'][mask1].mean()\n",
    "sp2 = train_clean['stnpressure'][mask2].mean()\n",
    "train_clean['stnpressure'][train_clean['station']==1 & train_clean['stnpressure'].isnull()] = sp1\n",
    "train_clean['stnpressure'][train_clean['station']==2 & train_clean['stnpressure'].isnull()] = sp2"
   ]
  },
  {
   "cell_type": "code",
   "execution_count": 47,
   "metadata": {},
   "outputs": [],
   "source": [
    "# T = Trace, = 0.005 inches\n",
    "# Change t to the correct value\n",
    "train_clean.loc[train_clean['preciptotal'] == '  T','preciptotal'] = '0.005'\n",
    "train_clean['preciptotal'] = train_clean['preciptotal'].astype(float)\n",
    "\n",
    "# fillna with mean\n",
    "precip_mean = train_clean['preciptotal'].mean()\n",
    "train_clean.loc[train_clean['preciptotal'].isnull(),'preciptotal'] = precip_mean"
   ]
  },
  {
   "cell_type": "code",
   "execution_count": 48,
   "metadata": {},
   "outputs": [],
   "source": [
    "# fillna with mean\n",
    "wetbulb_mean = train_clean['wetbulb'].mean()\n",
    "train_clean.loc[train_clean['wetbulb'].isnull(),'wetbulb'] = wetbulb_mean\n",
    "\n",
    "# Change type to interger\n",
    "train_clean['wetbulb'] = train_clean['wetbulb'].astype(int)"
   ]
  },
  {
   "cell_type": "code",
   "execution_count": 49,
   "metadata": {
    "scrolled": true
   },
   "outputs": [
    {
     "data": {
      "text/plain": [
       "Series([], dtype: int64)"
      ]
     },
     "execution_count": 49,
     "metadata": {},
     "output_type": "execute_result"
    }
   ],
   "source": [
    "# Check if there are still any null values\n",
    "train_clean.isnull().sum()[train_clean.isnull().sum() !=0]"
   ]
  },
  {
   "cell_type": "markdown",
   "metadata": {},
   "source": [
    "### EDA using cleaned dataset"
   ]
  },
  {
   "cell_type": "code",
   "execution_count": 50,
   "metadata": {
    "scrolled": true
   },
   "outputs": [
    {
     "data": {
      "text/html": [
       "<div>\n",
       "<style scoped>\n",
       "    .dataframe tbody tr th:only-of-type {\n",
       "        vertical-align: middle;\n",
       "    }\n",
       "\n",
       "    .dataframe tbody tr th {\n",
       "        vertical-align: top;\n",
       "    }\n",
       "\n",
       "    .dataframe thead th {\n",
       "        text-align: right;\n",
       "    }\n",
       "</style>\n",
       "<table border=\"1\" class=\"dataframe\">\n",
       "  <thead>\n",
       "    <tr style=\"text-align: right;\">\n",
       "      <th></th>\n",
       "      <th>species</th>\n",
       "      <th>trap</th>\n",
       "      <th>latitude</th>\n",
       "      <th>longitude</th>\n",
       "      <th>wnvpresent</th>\n",
       "      <th>total_mosquitos</th>\n",
       "      <th>station</th>\n",
       "      <th>tmax</th>\n",
       "      <th>tmin</th>\n",
       "      <th>tavg</th>\n",
       "      <th>...</th>\n",
       "      <th>heat</th>\n",
       "      <th>cool</th>\n",
       "      <th>codesum</th>\n",
       "      <th>preciptotal</th>\n",
       "      <th>stnpressure</th>\n",
       "      <th>sealevel</th>\n",
       "      <th>resultspeed</th>\n",
       "      <th>resultdir</th>\n",
       "      <th>avgspeed</th>\n",
       "      <th>nighttime</th>\n",
       "    </tr>\n",
       "    <tr>\n",
       "      <th>date</th>\n",
       "      <th></th>\n",
       "      <th></th>\n",
       "      <th></th>\n",
       "      <th></th>\n",
       "      <th></th>\n",
       "      <th></th>\n",
       "      <th></th>\n",
       "      <th></th>\n",
       "      <th></th>\n",
       "      <th></th>\n",
       "      <th></th>\n",
       "      <th></th>\n",
       "      <th></th>\n",
       "      <th></th>\n",
       "      <th></th>\n",
       "      <th></th>\n",
       "      <th></th>\n",
       "      <th></th>\n",
       "      <th></th>\n",
       "      <th></th>\n",
       "      <th></th>\n",
       "    </tr>\n",
       "  </thead>\n",
       "  <tbody>\n",
       "    <tr>\n",
       "      <th>2007-05-29</th>\n",
       "      <td>CULEX PIPIENS/RESTUANS</td>\n",
       "      <td>T002</td>\n",
       "      <td>41.954690</td>\n",
       "      <td>-87.800991</td>\n",
       "      <td>0</td>\n",
       "      <td>1</td>\n",
       "      <td>1</td>\n",
       "      <td>88</td>\n",
       "      <td>60</td>\n",
       "      <td>74.0</td>\n",
       "      <td>...</td>\n",
       "      <td>0.0</td>\n",
       "      <td>9.0</td>\n",
       "      <td>BR HZ</td>\n",
       "      <td>0.0</td>\n",
       "      <td>29.39</td>\n",
       "      <td>30.11</td>\n",
       "      <td>5.8</td>\n",
       "      <td>18</td>\n",
       "      <td>6.5</td>\n",
       "      <td>12</td>\n",
       "    </tr>\n",
       "    <tr>\n",
       "      <th>2007-05-29</th>\n",
       "      <td>CULEX RESTUANS</td>\n",
       "      <td>T002</td>\n",
       "      <td>41.954690</td>\n",
       "      <td>-87.800991</td>\n",
       "      <td>0</td>\n",
       "      <td>1</td>\n",
       "      <td>1</td>\n",
       "      <td>88</td>\n",
       "      <td>60</td>\n",
       "      <td>74.0</td>\n",
       "      <td>...</td>\n",
       "      <td>0.0</td>\n",
       "      <td>9.0</td>\n",
       "      <td>BR HZ</td>\n",
       "      <td>0.0</td>\n",
       "      <td>29.39</td>\n",
       "      <td>30.11</td>\n",
       "      <td>5.8</td>\n",
       "      <td>18</td>\n",
       "      <td>6.5</td>\n",
       "      <td>12</td>\n",
       "    </tr>\n",
       "    <tr>\n",
       "      <th>2007-05-29</th>\n",
       "      <td>CULEX RESTUANS</td>\n",
       "      <td>T007</td>\n",
       "      <td>41.994991</td>\n",
       "      <td>-87.769279</td>\n",
       "      <td>0</td>\n",
       "      <td>1</td>\n",
       "      <td>1</td>\n",
       "      <td>88</td>\n",
       "      <td>60</td>\n",
       "      <td>74.0</td>\n",
       "      <td>...</td>\n",
       "      <td>0.0</td>\n",
       "      <td>9.0</td>\n",
       "      <td>BR HZ</td>\n",
       "      <td>0.0</td>\n",
       "      <td>29.39</td>\n",
       "      <td>30.11</td>\n",
       "      <td>5.8</td>\n",
       "      <td>18</td>\n",
       "      <td>6.5</td>\n",
       "      <td>12</td>\n",
       "    </tr>\n",
       "    <tr>\n",
       "      <th>2007-05-29</th>\n",
       "      <td>CULEX PIPIENS/RESTUANS</td>\n",
       "      <td>T015</td>\n",
       "      <td>41.974089</td>\n",
       "      <td>-87.824812</td>\n",
       "      <td>0</td>\n",
       "      <td>1</td>\n",
       "      <td>1</td>\n",
       "      <td>88</td>\n",
       "      <td>60</td>\n",
       "      <td>74.0</td>\n",
       "      <td>...</td>\n",
       "      <td>0.0</td>\n",
       "      <td>9.0</td>\n",
       "      <td>BR HZ</td>\n",
       "      <td>0.0</td>\n",
       "      <td>29.39</td>\n",
       "      <td>30.11</td>\n",
       "      <td>5.8</td>\n",
       "      <td>18</td>\n",
       "      <td>6.5</td>\n",
       "      <td>12</td>\n",
       "    </tr>\n",
       "    <tr>\n",
       "      <th>2007-05-29</th>\n",
       "      <td>CULEX RESTUANS</td>\n",
       "      <td>T015</td>\n",
       "      <td>41.974089</td>\n",
       "      <td>-87.824812</td>\n",
       "      <td>0</td>\n",
       "      <td>4</td>\n",
       "      <td>1</td>\n",
       "      <td>88</td>\n",
       "      <td>60</td>\n",
       "      <td>74.0</td>\n",
       "      <td>...</td>\n",
       "      <td>0.0</td>\n",
       "      <td>9.0</td>\n",
       "      <td>BR HZ</td>\n",
       "      <td>0.0</td>\n",
       "      <td>29.39</td>\n",
       "      <td>30.11</td>\n",
       "      <td>5.8</td>\n",
       "      <td>18</td>\n",
       "      <td>6.5</td>\n",
       "      <td>12</td>\n",
       "    </tr>\n",
       "  </tbody>\n",
       "</table>\n",
       "<p>5 rows × 22 columns</p>\n",
       "</div>"
      ],
      "text/plain": [
       "                           species  trap   latitude  longitude  wnvpresent  \\\n",
       "date                                                                         \n",
       "2007-05-29  CULEX PIPIENS/RESTUANS  T002  41.954690 -87.800991           0   \n",
       "2007-05-29          CULEX RESTUANS  T002  41.954690 -87.800991           0   \n",
       "2007-05-29          CULEX RESTUANS  T007  41.994991 -87.769279           0   \n",
       "2007-05-29  CULEX PIPIENS/RESTUANS  T015  41.974089 -87.824812           0   \n",
       "2007-05-29          CULEX RESTUANS  T015  41.974089 -87.824812           0   \n",
       "\n",
       "            total_mosquitos  station  tmax  tmin  tavg  ...  heat  cool  \\\n",
       "date                                                    ...               \n",
       "2007-05-29                1        1    88    60  74.0  ...   0.0   9.0   \n",
       "2007-05-29                1        1    88    60  74.0  ...   0.0   9.0   \n",
       "2007-05-29                1        1    88    60  74.0  ...   0.0   9.0   \n",
       "2007-05-29                1        1    88    60  74.0  ...   0.0   9.0   \n",
       "2007-05-29                4        1    88    60  74.0  ...   0.0   9.0   \n",
       "\n",
       "            codesum  preciptotal stnpressure  sealevel  resultspeed  \\\n",
       "date                                                                  \n",
       "2007-05-29    BR HZ          0.0       29.39     30.11          5.8   \n",
       "2007-05-29    BR HZ          0.0       29.39     30.11          5.8   \n",
       "2007-05-29    BR HZ          0.0       29.39     30.11          5.8   \n",
       "2007-05-29    BR HZ          0.0       29.39     30.11          5.8   \n",
       "2007-05-29    BR HZ          0.0       29.39     30.11          5.8   \n",
       "\n",
       "            resultdir  avgspeed  nighttime  \n",
       "date                                        \n",
       "2007-05-29         18       6.5         12  \n",
       "2007-05-29         18       6.5         12  \n",
       "2007-05-29         18       6.5         12  \n",
       "2007-05-29         18       6.5         12  \n",
       "2007-05-29         18       6.5         12  \n",
       "\n",
       "[5 rows x 22 columns]"
      ]
     },
     "execution_count": 50,
     "metadata": {},
     "output_type": "execute_result"
    }
   ],
   "source": [
    "train_eda = train_clean.copy()\n",
    "\n",
    "# make the date become datetime object and make it as the index\n",
    "train_eda.set_index(pd.DatetimeIndex(train_eda['date']), inplace = True)\n",
    "train_eda.drop(columns = ['date'], inplace = True)\n",
    "train_eda.head()"
   ]
  },
  {
   "cell_type": "markdown",
   "metadata": {},
   "source": [
    "<span style = 'color:orange'>Remark:</span> Create a copy of our cleaned data sets for further EDA"
   ]
  },
  {
   "cell_type": "code",
   "execution_count": 51,
   "metadata": {},
   "outputs": [],
   "source": [
    "# Function to plot line graph\n",
    "\n",
    "def plot_series(df, cols=None, title='Title', xlab=None, ylab=None, steps=1):\n",
    "    \n",
    "    # Set figure size.\n",
    "    plt.figure(figsize=(15,3))\n",
    "    \n",
    "    # Iterate through each column name.\n",
    "    for col in cols:\n",
    "            \n",
    "        # Generate a line plot of the column name.\n",
    "        # You only have to specify Y, since our\n",
    "        # index will be a datetime index.\n",
    "        plt.plot(df[col])\n",
    "        \n",
    "    # Generate title and labels.\n",
    "    plt.title(title, fontsize=26)\n",
    "    plt.xlabel(xlab, fontsize=20)\n",
    "    plt.ylabel(ylab, fontsize=20)\n",
    "    \n",
    "    # Enlarge tick marks.\n",
    "    plt.yticks(fontsize=18)\n",
    "    plt.xticks(df.index[0::steps], fontsize=8, rotation = 'vertical');"
   ]
  },
  {
   "cell_type": "markdown",
   "metadata": {},
   "source": [
    "### Effect of weather and spray on wnvpresent\n",
    "#### Weather data after standard scaler to have better view"
   ]
  },
  {
   "cell_type": "code",
   "execution_count": 52,
   "metadata": {},
   "outputs": [],
   "source": [
    "train_eda_num = train_eda.select_dtypes(include=np.number)"
   ]
  },
  {
   "cell_type": "code",
   "execution_count": 53,
   "metadata": {},
   "outputs": [
    {
     "name": "stderr",
     "output_type": "stream",
     "text": [
      "/Users/prakky/opt/anaconda3/lib/python3.7/site-packages/pandas/core/frame.py:4167: SettingWithCopyWarning: \n",
      "A value is trying to be set on a copy of a slice from a DataFrame\n",
      "\n",
      "See the caveats in the documentation: https://pandas.pydata.org/pandas-docs/stable/user_guide/indexing.html#returning-a-view-versus-a-copy\n",
      "  errors=errors,\n"
     ]
    }
   ],
   "source": [
    "# Set X as a dataframe in order to plot\n",
    "train_eda_y = train_eda[['wnvpresent']]\n",
    "train_eda_num.drop(columns=['wnvpresent'], inplace=True, errors='ignore')\n",
    "\n",
    "# Scale our features columns\n",
    "ss_eda = StandardScaler()\n",
    "train_eda_num_ss = ss_eda.fit_transform(train_eda_num)\n",
    "\n",
    "train_eda_num_df =pd.DataFrame(train_eda_num_ss, columns = train_eda_num.columns, index = train_eda_num.index)"
   ]
  },
  {
   "cell_type": "code",
   "execution_count": 54,
   "metadata": {},
   "outputs": [
    {
     "data": {
      "text/plain": [
       "Index(['latitude', 'longitude', 'total_mosquitos', 'station', 'tmax', 'tmin',\n",
       "       'tavg', 'dewpoint', 'wetbulb', 'heat', 'cool', 'preciptotal',\n",
       "       'stnpressure', 'sealevel', 'resultspeed', 'resultdir', 'avgspeed',\n",
       "       'nighttime'],\n",
       "      dtype='object')"
      ]
     },
     "execution_count": 54,
     "metadata": {},
     "output_type": "execute_result"
    }
   ],
   "source": [
    "train_eda_num_df.columns"
   ]
  },
  {
   "cell_type": "code",
   "execution_count": 55,
   "metadata": {},
   "outputs": [],
   "source": [
    "interest_col = ['tmax', 'tmin','heat', 'cool', 'preciptotal','avgspeed','nighttime','wetbulb', 'resultspeed', 'stnpressure', 'sealevel',  'resultdir', 'total_mosquitos','dewpoint','tavg']"
   ]
  },
  {
   "cell_type": "code",
   "execution_count": 56,
   "metadata": {},
   "outputs": [],
   "source": [
    "# train_eda_num_df_plot = train_eda_num_df.loc[train_eda_num_df.index.year == 2007].resample('2W-MON')[interest_col].mean()\n",
    "\n",
    "# train_eda_y_plot = train_eda_y.loc[train_eda_y.index.year == 2007].resample('2W-MON')[['wnvpresent']].sum()"
   ]
  },
  {
   "cell_type": "code",
   "execution_count": 57,
   "metadata": {},
   "outputs": [],
   "source": [
    "# train_eda_num_df_plot = train_eda_num_df.loc[train_eda_num_df.index.year == 2007].resample('2W-MON')[interest_col].agg('mean')\n",
    "# train_eda_y_plot = train_eda_y.loc[train_eda_y.index.year == 2007].resample('2W-MON')[['wnvpresent']].sum()\n",
    "# train_eda_num_df.head()"
   ]
  },
  {
   "cell_type": "code",
   "execution_count": 58,
   "metadata": {},
   "outputs": [],
   "source": [
    "def combi_plot(df_x, df_y, x_col_ls, y_col, agg_ls, year_ls, resample_mode, fs_tuple):\n",
    "    \n",
    "    y_num = len(year_ls)\n",
    "    \n",
    "    fig = plt.figure(figsize=fs_tuple)\n",
    "    spec = gridspec.GridSpec(nrows=y_num, ncols=1, figure=fig, hspace = 0.2)\n",
    "\n",
    "\n",
    "    for item in range(y_num):\n",
    "        \n",
    "        ax1 = fig.add_subplot(spec[item,0])\n",
    "        \n",
    "        # Resample the dataframe\n",
    "        df_a = df_x.loc[df_x.index.year == year_ls[item]].resample(resample_mode)[x_col_ls].agg(agg_ls[0])\n",
    "        df_b = df_y.loc[df_y.index.year == year_ls[item]].resample(resample_mode)[[y_col]].agg(agg_ls[1])\n",
    "        \n",
    "        # Combine the dataframe\n",
    "        combined_df = pd.concat([df_a, df_b], axis=1)\n",
    "\n",
    "        #bar plot creation\n",
    "        ax1.set_title(f'Features vs Wnvpresent in {year_ls[item]}', fontsize=16)\n",
    "        ax1.set_xlabel('Date', fontsize=16)\n",
    "        ax1.set_ylabel('Count', fontsize=16)\n",
    "        sns.lineplot(x='date', y='wnvpresent', data=combined_df, palette='summer', linewidth=5, linestyle='--', label='wnvpresent', ax=ax1)\n",
    "        ax1.tick_params(axis='y')\n",
    "        ax1.get_legend().remove()\n",
    "\n",
    "        #specify we want to share the same x-axis\n",
    "        ax2 = ax1.twinx()\n",
    "        \n",
    "\n",
    "        #line plot creation\n",
    "        ax2.set_ylabel('Feature scaled', fontsize=16)\n",
    "        sns.lineplot(x='date', y='value', hue='variable', data=pd.melt(combined_df.reset_index().drop(columns=y_col), ['date']),\n",
    "                           palette='dark', style_order=interest_col, linewidth=2, ax=ax2)\n",
    "        ax2.tick_params(axis='y', color='red')\n",
    "        ax2.get_legend().remove()\n",
    "        \n",
    "        # Combine handles & labels from 2 subplots\n",
    "        handles, labels = [(a + b) for a, b in zip(ax1.get_legend_handles_labels(), ax2.get_legend_handles_labels())]\n",
    "        \n",
    "    # additional manual adjustment to the figure    \n",
    "    fig.legend(handles, labels, loc='upper right', prop={'size': 15})\n",
    "    fig.suptitle('Plot of Features vs Wnvpresent by years', fontsize= 25)\n",
    "    plt.subplots_adjust(top=0.95)\n",
    "\n",
    "    plt.show()"
   ]
  },
  {
   "cell_type": "code",
   "execution_count": 59,
   "metadata": {},
   "outputs": [
    {
     "ename": "ValueError",
     "evalue": "Could not interpret input 'date'",
     "output_type": "error",
     "traceback": [
      "\u001b[0;31m---------------------------------------------------------------------------\u001b[0m",
      "\u001b[0;31mValueError\u001b[0m                                Traceback (most recent call last)",
      "\u001b[0;32m<ipython-input-59-12edba5d5df7>\u001b[0m in \u001b[0;36m<module>\u001b[0;34m\u001b[0m\n\u001b[0;32m----> 1\u001b[0;31m \u001b[0mcombi_plot\u001b[0m\u001b[0;34m(\u001b[0m\u001b[0mtrain_eda_num_df\u001b[0m\u001b[0;34m,\u001b[0m \u001b[0mtrain_eda_y\u001b[0m\u001b[0;34m,\u001b[0m \u001b[0minterest_col\u001b[0m\u001b[0;34m,\u001b[0m \u001b[0;34m'wnvpresent'\u001b[0m\u001b[0;34m,\u001b[0m \u001b[0;34m[\u001b[0m\u001b[0;34m'mean'\u001b[0m\u001b[0;34m,\u001b[0m \u001b[0;34m'sum'\u001b[0m\u001b[0;34m]\u001b[0m\u001b[0;34m,\u001b[0m \u001b[0;34m[\u001b[0m\u001b[0;36m2007\u001b[0m\u001b[0;34m,\u001b[0m \u001b[0;36m2009\u001b[0m\u001b[0;34m,\u001b[0m \u001b[0;36m2011\u001b[0m\u001b[0;34m,\u001b[0m \u001b[0;36m2013\u001b[0m\u001b[0;34m]\u001b[0m\u001b[0;34m,\u001b[0m \u001b[0;34m'2W-MON'\u001b[0m\u001b[0;34m,\u001b[0m \u001b[0;34m(\u001b[0m\u001b[0;36m32\u001b[0m\u001b[0;34m,\u001b[0m\u001b[0;36m30\u001b[0m\u001b[0;34m)\u001b[0m\u001b[0;34m)\u001b[0m\u001b[0;34m\u001b[0m\u001b[0;34m\u001b[0m\u001b[0m\n\u001b[0m",
      "\u001b[0;32m<ipython-input-58-6eb01264739e>\u001b[0m in \u001b[0;36mcombi_plot\u001b[0;34m(df_x, df_y, x_col_ls, y_col, agg_ls, year_ls, resample_mode, fs_tuple)\u001b[0m\n\u001b[1;32m     22\u001b[0m         \u001b[0max1\u001b[0m\u001b[0;34m.\u001b[0m\u001b[0mset_xlabel\u001b[0m\u001b[0;34m(\u001b[0m\u001b[0;34m'Date'\u001b[0m\u001b[0;34m,\u001b[0m \u001b[0mfontsize\u001b[0m\u001b[0;34m=\u001b[0m\u001b[0;36m16\u001b[0m\u001b[0;34m)\u001b[0m\u001b[0;34m\u001b[0m\u001b[0;34m\u001b[0m\u001b[0m\n\u001b[1;32m     23\u001b[0m         \u001b[0max1\u001b[0m\u001b[0;34m.\u001b[0m\u001b[0mset_ylabel\u001b[0m\u001b[0;34m(\u001b[0m\u001b[0;34m'Count'\u001b[0m\u001b[0;34m,\u001b[0m \u001b[0mfontsize\u001b[0m\u001b[0;34m=\u001b[0m\u001b[0;36m16\u001b[0m\u001b[0;34m)\u001b[0m\u001b[0;34m\u001b[0m\u001b[0;34m\u001b[0m\u001b[0m\n\u001b[0;32m---> 24\u001b[0;31m         \u001b[0msns\u001b[0m\u001b[0;34m.\u001b[0m\u001b[0mlineplot\u001b[0m\u001b[0;34m(\u001b[0m\u001b[0mx\u001b[0m\u001b[0;34m=\u001b[0m\u001b[0;34m'date'\u001b[0m\u001b[0;34m,\u001b[0m \u001b[0my\u001b[0m\u001b[0;34m=\u001b[0m\u001b[0;34m'wnvpresent'\u001b[0m\u001b[0;34m,\u001b[0m \u001b[0mdata\u001b[0m\u001b[0;34m=\u001b[0m\u001b[0mcombined_df\u001b[0m\u001b[0;34m,\u001b[0m \u001b[0mpalette\u001b[0m\u001b[0;34m=\u001b[0m\u001b[0;34m'summer'\u001b[0m\u001b[0;34m,\u001b[0m \u001b[0mlinewidth\u001b[0m\u001b[0;34m=\u001b[0m\u001b[0;36m5\u001b[0m\u001b[0;34m,\u001b[0m \u001b[0mlinestyle\u001b[0m\u001b[0;34m=\u001b[0m\u001b[0;34m'--'\u001b[0m\u001b[0;34m,\u001b[0m \u001b[0mlabel\u001b[0m\u001b[0;34m=\u001b[0m\u001b[0;34m'wnvpresent'\u001b[0m\u001b[0;34m,\u001b[0m \u001b[0max\u001b[0m\u001b[0;34m=\u001b[0m\u001b[0max1\u001b[0m\u001b[0;34m)\u001b[0m\u001b[0;34m\u001b[0m\u001b[0;34m\u001b[0m\u001b[0m\n\u001b[0m\u001b[1;32m     25\u001b[0m         \u001b[0max1\u001b[0m\u001b[0;34m.\u001b[0m\u001b[0mtick_params\u001b[0m\u001b[0;34m(\u001b[0m\u001b[0maxis\u001b[0m\u001b[0;34m=\u001b[0m\u001b[0;34m'y'\u001b[0m\u001b[0;34m)\u001b[0m\u001b[0;34m\u001b[0m\u001b[0;34m\u001b[0m\u001b[0m\n\u001b[1;32m     26\u001b[0m         \u001b[0max1\u001b[0m\u001b[0;34m.\u001b[0m\u001b[0mget_legend\u001b[0m\u001b[0;34m(\u001b[0m\u001b[0;34m)\u001b[0m\u001b[0;34m.\u001b[0m\u001b[0mremove\u001b[0m\u001b[0;34m(\u001b[0m\u001b[0;34m)\u001b[0m\u001b[0;34m\u001b[0m\u001b[0;34m\u001b[0m\u001b[0m\n",
      "\u001b[0;32m~/opt/anaconda3/lib/python3.7/site-packages/seaborn/relational.py\u001b[0m in \u001b[0;36mlineplot\u001b[0;34m(x, y, hue, size, style, data, palette, hue_order, hue_norm, sizes, size_order, size_norm, dashes, markers, style_order, units, estimator, ci, n_boot, seed, sort, err_style, err_kws, legend, ax, **kwargs)\u001b[0m\n\u001b[1;32m   1124\u001b[0m         \u001b[0mdashes\u001b[0m\u001b[0;34m=\u001b[0m\u001b[0mdashes\u001b[0m\u001b[0;34m,\u001b[0m \u001b[0mmarkers\u001b[0m\u001b[0;34m=\u001b[0m\u001b[0mmarkers\u001b[0m\u001b[0;34m,\u001b[0m \u001b[0mstyle_order\u001b[0m\u001b[0;34m=\u001b[0m\u001b[0mstyle_order\u001b[0m\u001b[0;34m,\u001b[0m\u001b[0;34m\u001b[0m\u001b[0;34m\u001b[0m\u001b[0m\n\u001b[1;32m   1125\u001b[0m         \u001b[0munits\u001b[0m\u001b[0;34m=\u001b[0m\u001b[0munits\u001b[0m\u001b[0;34m,\u001b[0m \u001b[0mestimator\u001b[0m\u001b[0;34m=\u001b[0m\u001b[0mestimator\u001b[0m\u001b[0;34m,\u001b[0m \u001b[0mci\u001b[0m\u001b[0;34m=\u001b[0m\u001b[0mci\u001b[0m\u001b[0;34m,\u001b[0m \u001b[0mn_boot\u001b[0m\u001b[0;34m=\u001b[0m\u001b[0mn_boot\u001b[0m\u001b[0;34m,\u001b[0m \u001b[0mseed\u001b[0m\u001b[0;34m=\u001b[0m\u001b[0mseed\u001b[0m\u001b[0;34m,\u001b[0m\u001b[0;34m\u001b[0m\u001b[0;34m\u001b[0m\u001b[0m\n\u001b[0;32m-> 1126\u001b[0;31m         \u001b[0msort\u001b[0m\u001b[0;34m=\u001b[0m\u001b[0msort\u001b[0m\u001b[0;34m,\u001b[0m \u001b[0merr_style\u001b[0m\u001b[0;34m=\u001b[0m\u001b[0merr_style\u001b[0m\u001b[0;34m,\u001b[0m \u001b[0merr_kws\u001b[0m\u001b[0;34m=\u001b[0m\u001b[0merr_kws\u001b[0m\u001b[0;34m,\u001b[0m \u001b[0mlegend\u001b[0m\u001b[0;34m=\u001b[0m\u001b[0mlegend\u001b[0m\u001b[0;34m,\u001b[0m\u001b[0;34m\u001b[0m\u001b[0;34m\u001b[0m\u001b[0m\n\u001b[0m\u001b[1;32m   1127\u001b[0m     )\n\u001b[1;32m   1128\u001b[0m \u001b[0;34m\u001b[0m\u001b[0m\n",
      "\u001b[0;32m~/opt/anaconda3/lib/python3.7/site-packages/seaborn/relational.py\u001b[0m in \u001b[0;36m__init__\u001b[0;34m(self, x, y, hue, size, style, data, palette, hue_order, hue_norm, sizes, size_order, size_norm, dashes, markers, style_order, units, estimator, ci, n_boot, seed, sort, err_style, err_kws, legend)\u001b[0m\n\u001b[1;32m    693\u001b[0m \u001b[0;34m\u001b[0m\u001b[0m\n\u001b[1;32m    694\u001b[0m         plot_data = self.establish_variables(\n\u001b[0;32m--> 695\u001b[0;31m             \u001b[0mx\u001b[0m\u001b[0;34m,\u001b[0m \u001b[0my\u001b[0m\u001b[0;34m,\u001b[0m \u001b[0mhue\u001b[0m\u001b[0;34m,\u001b[0m \u001b[0msize\u001b[0m\u001b[0;34m,\u001b[0m \u001b[0mstyle\u001b[0m\u001b[0;34m,\u001b[0m \u001b[0munits\u001b[0m\u001b[0;34m,\u001b[0m \u001b[0mdata\u001b[0m\u001b[0;34m\u001b[0m\u001b[0;34m\u001b[0m\u001b[0m\n\u001b[0m\u001b[1;32m    696\u001b[0m         )\n\u001b[1;32m    697\u001b[0m \u001b[0;34m\u001b[0m\u001b[0m\n",
      "\u001b[0;32m~/opt/anaconda3/lib/python3.7/site-packages/seaborn/relational.py\u001b[0m in \u001b[0;36mestablish_variables\u001b[0;34m(self, x, y, hue, size, style, units, data)\u001b[0m\n\u001b[1;32m    135\u001b[0m                 \u001b[0;32mif\u001b[0m \u001b[0misinstance\u001b[0m\u001b[0;34m(\u001b[0m\u001b[0mvar\u001b[0m\u001b[0;34m,\u001b[0m \u001b[0mstr\u001b[0m\u001b[0;34m)\u001b[0m\u001b[0;34m:\u001b[0m\u001b[0;34m\u001b[0m\u001b[0;34m\u001b[0m\u001b[0m\n\u001b[1;32m    136\u001b[0m                     \u001b[0merr\u001b[0m \u001b[0;34m=\u001b[0m \u001b[0;34m\"Could not interpret input '{}'\"\u001b[0m\u001b[0;34m.\u001b[0m\u001b[0mformat\u001b[0m\u001b[0;34m(\u001b[0m\u001b[0mvar\u001b[0m\u001b[0;34m)\u001b[0m\u001b[0;34m\u001b[0m\u001b[0;34m\u001b[0m\u001b[0m\n\u001b[0;32m--> 137\u001b[0;31m                     \u001b[0;32mraise\u001b[0m \u001b[0mValueError\u001b[0m\u001b[0;34m(\u001b[0m\u001b[0merr\u001b[0m\u001b[0;34m)\u001b[0m\u001b[0;34m\u001b[0m\u001b[0;34m\u001b[0m\u001b[0m\n\u001b[0m\u001b[1;32m    138\u001b[0m \u001b[0;34m\u001b[0m\u001b[0m\n\u001b[1;32m    139\u001b[0m             \u001b[0;31m# Extract variable names\u001b[0m\u001b[0;34m\u001b[0m\u001b[0;34m\u001b[0m\u001b[0;34m\u001b[0m\u001b[0m\n",
      "\u001b[0;31mValueError\u001b[0m: Could not interpret input 'date'"
     ]
    },
    {
     "data": {
      "image/png": "[encoded data removed]",
      "text/plain": [
       "<Figure size 2304x2160 with 1 Axes>"
      ]
     },
     "metadata": {
      "needs_background": "light"
     },
     "output_type": "display_data"
    }
   ],
   "source": [
    "combi_plot(train_eda_num_df, train_eda_y, interest_col, 'wnvpresent', ['mean', 'sum'], [2007, 2009, 2011, 2013], '2W-MON', (32,30))"
   ]
  },
  {
   "cell_type": "code",
   "execution_count": null,
   "metadata": {},
   "outputs": [],
   "source": []
  },
  {
   "cell_type": "code",
   "execution_count": null,
   "metadata": {},
   "outputs": [],
   "source": []
  },
  {
   "cell_type": "code",
   "execution_count": 41,
   "metadata": {},
   "outputs": [],
   "source": [
    "#combined_df.reset_index(inplace=True)\n",
    "\n",
    "#combined_df[['wnvpresent']]"
   ]
  },
  {
   "cell_type": "code",
   "execution_count": 42,
   "metadata": {},
   "outputs": [],
   "source": [
    "#combined_df['date'].astype(str)\n",
    "#combined_df.head()"
   ]
  },
  {
   "cell_type": "code",
   "execution_count": 43,
   "metadata": {},
   "outputs": [],
   "source": [
    "# spray['date'] = pd.to_datetime(spray['date'])\n",
    "# spray.set_index('date', inplace=True)"
   ]
  },
  {
   "cell_type": "code",
   "execution_count": null,
   "metadata": {},
   "outputs": [],
   "source": [
    "spray_plot = spray.loc[spray.index.year == 2011].resample('2W-MON')[['latitude']].count()"
   ]
  },
  {
   "cell_type": "code",
   "execution_count": null,
   "metadata": {},
   "outputs": [],
   "source": [
    "# train_eda_num_df_plot.plot(y = interest_col[0:5], figsize = (15, 4));\n",
    "# train_eda_y_plot.plot(y = 'wnvpresent', figsize = (15, 4));\n",
    "# train_eda_num_df_plot.plot(y = interest_col[5:11], figsize = (15, 4));\n",
    "# train_eda_y_plot.plot(y = 'wnvpresent', figsize = (15, 4));\n",
    "# train_eda_num_df_plot.plot(y = interest_col[11:], figsize = (15, 4));\n",
    "# train_eda_y_plot.plot(y = 'wnvpresent', figsize = (15, 4));\n",
    "# spray_plot.plot(y = 'latitude', figsize = (15, 4)); "
   ]
  },
  {
   "cell_type": "markdown",
   "metadata": {},
   "source": [
    "#### Cant define whether spray brings any effect to reduce wnvpresent as wnvpresent more likely following weather trend"
   ]
  },
  {
   "cell_type": "markdown",
   "metadata": {},
   "source": [
    "##### >>> delay reporting thats why wnvpresent later\n",
    "##### >>> for better prediction, shift weather data\n",
    "\n",
    "Researchers discovered that reports of human cases of West Nile virus in the United States were delayed by two to 14 weeks between illness onset and confirmation of West Nile. The lags were due to the length of time it took health departments to confirm a West Nile case or reporting delays between health care professionals and the health department. They also found that reporting of mosquitoes testing positive for the virus were also delayed, but by a much less significant amount of time.\n",
    "\n",
    "(https://www.sciencedaily.com/releases/2019/04/190426110612.htm)\n",
    "\n",
    "##### >>> temperature used, tmax as mosquitos cannot survive if temperature too high\n",
    "\n",
    "West Nile virus spreads most efficiently in the US at temperatures between 24-25 degrees Celsius (75.2-77 degrees Fahrenheit).\n",
    "The results suggest that climate change could lead to the increased spread of West Nile virus in some places, while potentially causing a decrease in others, and provide insight on where and when these changes might occur.\n",
    "\n",
    "(https://www.sciencedaily.com/releases/2020/09/200915105932.htm)"
   ]
  },
  {
   "cell_type": "code",
   "execution_count": null,
   "metadata": {},
   "outputs": [],
   "source": []
  },
  {
   "cell_type": "markdown",
   "metadata": {},
   "source": [
    "### Pre-processing"
   ]
  },
  {
   "cell_type": "code",
   "execution_count": null,
   "metadata": {
    "scrolled": true
   },
   "outputs": [],
   "source": [
    "train_model = pd.read_csv('train_cleaned.csv')\n",
    "train_model.head()"
   ]
  },
  {
   "cell_type": "markdown",
   "metadata": {},
   "source": [
    "####  Codecum Multi-binarize (get dummies)"
   ]
  },
  {
   "cell_type": "code",
   "execution_count": null,
   "metadata": {},
   "outputs": [],
   "source": [
    "# Splitting the string\n",
    "for i in range(len(train_model['codesum'])):\n",
    "    train_model['codesum'][i] = train_model['codesum'][i].split()"
   ]
  },
  {
   "cell_type": "code",
   "execution_count": null,
   "metadata": {},
   "outputs": [],
   "source": [
    "train_model['codesum']"
   ]
  },
  {
   "cell_type": "code",
   "execution_count": null,
   "metadata": {},
   "outputs": [],
   "source": [
    "from sklearn.preprocessing import MultiLabelBinarizer\n",
    "mlb = MultiLabelBinarizer()"
   ]
  },
  {
   "cell_type": "code",
   "execution_count": null,
   "metadata": {},
   "outputs": [],
   "source": [
    "codesum_split = pd.DataFrame(mlb.fit_transform(train_model['codesum']),columns='codesum_' + mlb.classes_, index=train_model.index)"
   ]
  },
  {
   "cell_type": "markdown",
   "metadata": {},
   "source": [
    "### one hot encoding for species"
   ]
  },
  {
   "cell_type": "code",
   "execution_count": null,
   "metadata": {},
   "outputs": [],
   "source": [
    "# get dummies for species\n",
    "train_model = pd.get_dummies(train_model, columns=['species'], dtype = 'int64')"
   ]
  },
  {
   "cell_type": "code",
   "execution_count": null,
   "metadata": {},
   "outputs": [],
   "source": [
    "# merge back both dataframe\n",
    "train_model = pd.concat([train_model, codesum_split], axis = 1, sort=False)\n",
    "train_model.columns"
   ]
  },
  {
   "cell_type": "code",
   "execution_count": null,
   "metadata": {
    "scrolled": true
   },
   "outputs": [],
   "source": [
    "# Drop uneccesary columns\n",
    "train_model.drop(columns=['address', 'block', 'street', 'trap',\n",
    "                          'addressnumberandstreet', 'latitude', 'longitude', 'addressaccuracy', \n",
    "                          'total_mosquitos', 'station','heat', 'codesum',\n",
    "                          'stnpressure', 'sealevel', 'resultspeed', 'resultdir', 'avgspeed'],inplace=True)\n",
    "# Fillna \n",
    "train_model.fillna(value = 0, inplace = True)\n",
    "train_model.info()"
   ]
  },
  {
   "cell_type": "code",
   "execution_count": null,
   "metadata": {},
   "outputs": [],
   "source": [
    "train_model.to_csv('train_model.csv', index=False)"
   ]
  },
  {
   "cell_type": "code",
   "execution_count": null,
   "metadata": {},
   "outputs": [],
   "source": [
    "# Set X and y\n",
    "X = train_model.drop(columns=['wnvpresent'])\n",
    "y = train_model['wnvpresent']"
   ]
  },
  {
   "cell_type": "code",
   "execution_count": null,
   "metadata": {},
   "outputs": [],
   "source": [
    "# Set date to datetime object and set it as index\n",
    "X['date'] = pd.to_datetime(X['date'])\n",
    "X.set_index('date', inplace=True)"
   ]
  },
  {
   "cell_type": "code",
   "execution_count": null,
   "metadata": {},
   "outputs": [],
   "source": [
    "# Set X as a dataframe in order to plot\n",
    "ssplot = StandardScaler()\n",
    "X_scaled = ssplot.fit_transform(X)\n",
    "X_df =pd.DataFrame(X_scaled, columns = X.columns, index = X.index)"
   ]
  },
  {
   "cell_type": "markdown",
   "metadata": {},
   "source": [
    "### >>> time shift for data"
   ]
  },
  {
   "cell_type": "code",
   "execution_count": null,
   "metadata": {},
   "outputs": [],
   "source": []
  },
  {
   "cell_type": "code",
   "execution_count": null,
   "metadata": {},
   "outputs": [],
   "source": []
  },
  {
   "cell_type": "markdown",
   "metadata": {},
   "source": [
    "### Train test split"
   ]
  },
  {
   "cell_type": "code",
   "execution_count": null,
   "metadata": {},
   "outputs": [],
   "source": [
    "# X = trainm.drop(columns=['wnvpresent'])\n",
    "# y = trainm['wnvpresent']"
   ]
  },
  {
   "cell_type": "code",
   "execution_count": null,
   "metadata": {},
   "outputs": [],
   "source": [
    "# X['date'] = pd.to_datetime(X['date'])\n",
    "# X.set_index('date', inplace=True)"
   ]
  },
  {
   "cell_type": "code",
   "execution_count": null,
   "metadata": {},
   "outputs": [],
   "source": [
    "# ssplot = StandardScaler()\n",
    "# X_scaled = ssplot.fit_transform(X)\n",
    "# df =pd.DataFrame(X_scaled, columns = X.columns, index = X.index)"
   ]
  },
  {
   "cell_type": "code",
   "execution_count": null,
   "metadata": {},
   "outputs": [],
   "source": [
    "X.columns = X.columns.sort_values()"
   ]
  },
  {
   "cell_type": "code",
   "execution_count": null,
   "metadata": {},
   "outputs": [],
   "source": [
    "X_train,X_test,y_train,y_test = train_test_split(X,y,random_state=42, stratify=y,test_size=0.2)"
   ]
  },
  {
   "cell_type": "code",
   "execution_count": null,
   "metadata": {},
   "outputs": [],
   "source": [
    "X_train.shape, X_test.shape"
   ]
  },
  {
   "cell_type": "code",
   "execution_count": null,
   "metadata": {},
   "outputs": [],
   "source": [
    "# Function to run pipeline\n",
    "\n",
    "def run_model(df,pipe_num,X_train,X_test,y_train,y_test):\n",
    "    \n",
    "    pipe_num.fit(X_train,y_train)\n",
    "#     df['pred_probs'] = pipe_num.predict_proba(X_test)\n",
    "    preds = pipe_num.predict(X_test)\n",
    "    print(\"MCC score: \",matthews_corrcoef(y_test,preds))\n",
    "    print(\"Accuracy score: \",pipe_num.score(X_test,y_test))\n",
    "    plot_confusion_matrix(pipe_num,X_test,y_test)\n",
    "    plot_roc_curve(pipe_num,X_test,y_test)\n",
    "    "
   ]
  },
  {
   "cell_type": "code",
   "execution_count": null,
   "metadata": {},
   "outputs": [],
   "source": [
    "# The Matthews correlation coefficient is used in machine learning as a measure of the quality of \n",
    "# binary and multiclass classifications. It takes into account true and false positives and negatives \n",
    "# and is generally regarded as a balanced measure which can be used even if the classes are of very different sizes. \n",
    "# The MCC is in essence a correlation coefficient value between -1 and +1. \n",
    "# A coefficient of +1 represents a perfect prediction, 0 an average random prediction and -1 an inverse prediction. \n",
    "# The statistic is also known as the phi coefficient. [source: Wikipedia]"
   ]
  },
  {
   "cell_type": "code",
   "execution_count": null,
   "metadata": {
    "scrolled": true
   },
   "outputs": [],
   "source": [
    "pipe_1 = Pipeline([('ss', StandardScaler()),('sgd', SGDClassifier(max_iter = 1000, tol=0.001))])"
   ]
  },
  {
   "cell_type": "code",
   "execution_count": null,
   "metadata": {
    "scrolled": true
   },
   "outputs": [],
   "source": [
    "run_model(train_model,pipe_1,X_train,X_test,y_train,y_test)"
   ]
  },
  {
   "cell_type": "code",
   "execution_count": null,
   "metadata": {},
   "outputs": [],
   "source": [
    "pipe_2 = Pipeline([('scale', StandardScaler()), ('sampling', SMOTE(k_neighbors=6)),\n",
    "                   ('svc', SVC(C=1.0,kernel='poly',degree=3))])\n",
    "\n",
    "# Smote to resample and svc for classification"
   ]
  },
  {
   "cell_type": "code",
   "execution_count": null,
   "metadata": {
    "scrolled": true
   },
   "outputs": [],
   "source": [
    "run_model(train_model,pipe_2,X_train,X_test,y_train,y_test)"
   ]
  },
  {
   "cell_type": "code",
   "execution_count": null,
   "metadata": {},
   "outputs": [],
   "source": [
    "pipe_3 = Pipeline([('sampling', SMOTE(random_state=42, k_neighbors=15)), ('RF', RandomForestClassifier(n_estimators=20) )])"
   ]
  },
  {
   "cell_type": "code",
   "execution_count": null,
   "metadata": {
    "scrolled": true
   },
   "outputs": [],
   "source": [
    "run_model(train_model,pipe_3,X_train,X_test,y_train,y_test)"
   ]
  },
  {
   "cell_type": "code",
   "execution_count": null,
   "metadata": {},
   "outputs": [],
   "source": [
    "pipe_4 = Pipeline([('sampling', SMOTE(random_state=42, k_neighbors=10)), \n",
    "                   ('xgb', XGBClassifier(n_estimators=200,learning_rate=0.3))])"
   ]
  },
  {
   "cell_type": "code",
   "execution_count": null,
   "metadata": {
    "scrolled": true
   },
   "outputs": [],
   "source": [
    "run_model(train_model,pipe_4,X_train,X_test,y_train,y_test)"
   ]
  },
  {
   "cell_type": "markdown",
   "metadata": {},
   "source": [
    "### >>> GridSearch for best model"
   ]
  },
  {
   "cell_type": "code",
   "execution_count": null,
   "metadata": {
    "scrolled": true
   },
   "outputs": [],
   "source": [
    "pipe = Pipeline([('sampling', SMOTE(random_state=42)),('xgb', XGBClassifier())])\n",
    "pipe.get_params()"
   ]
  },
  {
   "cell_type": "code",
   "execution_count": null,
   "metadata": {},
   "outputs": [],
   "source": [
    "pipe_params = {'sampling__k_neighbors': [5,10,15,20], 'xgb__n_estimators': [50,100,150,200], \n",
    "               'xgb__learning_rate': [0.0001, 0.001, 0.01, 0.1, 0.2, 0.3]}\n",
    "\n",
    "# ,'xgb__scale_pos_weight':[1,100]"
   ]
  },
  {
   "cell_type": "code",
   "execution_count": null,
   "metadata": {
    "scrolled": true
   },
   "outputs": [],
   "source": [
    "# def custom_auc(ground_truth, predictions):\n",
    "#      # I need only one column of predictions[\"0\" and \"1\"]. You can get an error here\n",
    "#      # while trying to return both columns at once\n",
    "#     fpr, tpr, _ = roc_curve(ground_truth, predictions[:, 1], pos_label=1)    \n",
    "#     return auc(fpr, tpr)\n",
    "\n",
    "# my_auc = make_scorer(custom_auc, greater_is_better=True, needs_proba=True)\n",
    "\n",
    "# scoring = {'AUC': 'roc_auc', 'Accuracy': make_scorer(accuracy_score)}\n",
    "\n",
    "# Instantiate GridSearchCV.\n",
    "gs = GridSearchCV(pipe,param_grid = pipe_params,scoring = 'roc_auc', cv=5) \n",
    "\n",
    "# Fit GridSearch to clean_training data.\n",
    "gs.fit(X_train,y_train)"
   ]
  },
  {
   "cell_type": "code",
   "execution_count": null,
   "metadata": {},
   "outputs": [],
   "source": [
    "print(gs.best_score_)\n",
    "print(gs.best_params_)"
   ]
  },
  {
   "cell_type": "code",
   "execution_count": null,
   "metadata": {},
   "outputs": [],
   "source": [
    "gs.cv_results_"
   ]
  },
  {
   "cell_type": "code",
   "execution_count": null,
   "metadata": {},
   "outputs": [],
   "source": [
    "gs_model = gs.best_estimator_"
   ]
  },
  {
   "cell_type": "code",
   "execution_count": null,
   "metadata": {},
   "outputs": [],
   "source": [
    "gs_model.score(X_train, y_train)"
   ]
  },
  {
   "cell_type": "code",
   "execution_count": null,
   "metadata": {
    "scrolled": true
   },
   "outputs": [],
   "source": [
    "preds = gs_model.predict(X_test)\n",
    "print(\"MCC score: \",matthews_corrcoef(y_test,preds))\n",
    "print(\"Accuracy score: \",gs_model.score(X_test,y_test))\n",
    "plot_confusion_matrix(gs_model,X_test,y_test);\n",
    "plot_roc_curve(gs_model,X_test,y_test);"
   ]
  },
  {
   "cell_type": "markdown",
   "metadata": {},
   "source": [
    "### >>> Cost benefit\n",
    "\n",
    "chemical used for spraying -- cost price of chemical used -- calculate by square feet"
   ]
  },
  {
   "cell_type": "markdown",
   "metadata": {},
   "source": [
    "### >>>Test data cleaning and feature engineering"
   ]
  },
  {
   "cell_type": "code",
   "execution_count": null,
   "metadata": {},
   "outputs": [],
   "source": [
    "# Test data\n",
    "test = pd.read_csv('test.csv')\n",
    "test.columns = test.columns.str.lower()    # Convert all heading to lower\n",
    "test['date'] = pd.to_datetime(test['date'])    # Convert date to datetime\n",
    "test.info()"
   ]
  },
  {
   "cell_type": "markdown",
   "metadata": {},
   "source": [
    "### KMeans based on station in order to merge the weather\n",
    "##### Test"
   ]
  },
  {
   "cell_type": "code",
   "execution_count": null,
   "metadata": {},
   "outputs": [],
   "source": [
    "# KMeans for trap based on station\n",
    "\n",
    "Xt = test[['latitude', 'longitude']]\n",
    "centroid = np.array(object = ([41.995, -87.933], [41.786, -87.752]))  # creating the centroid\n",
    "centroid"
   ]
  },
  {
   "cell_type": "code",
   "execution_count": null,
   "metadata": {},
   "outputs": [],
   "source": [
    "km = KMeans(n_clusters = 2,       # 2 stations so 2 clusters\n",
    "            init = centroid, \n",
    "            tol= 0.01,            # adjust tolerance to better fit the line\n",
    "            random_state = 42)"
   ]
  },
  {
   "cell_type": "code",
   "execution_count": null,
   "metadata": {},
   "outputs": [],
   "source": [
    "km.fit(Xt)"
   ]
  },
  {
   "cell_type": "code",
   "execution_count": null,
   "metadata": {},
   "outputs": [],
   "source": [
    "station_preds = km.predict(Xt) + 1    # station 0/1, but we need 1/2 so +1"
   ]
  },
  {
   "cell_type": "code",
   "execution_count": null,
   "metadata": {},
   "outputs": [],
   "source": [
    "# add a new column\n",
    "test['station'] = station_preds\n",
    "test['station'].value_counts()"
   ]
  },
  {
   "cell_type": "code",
   "execution_count": null,
   "metadata": {
    "scrolled": true
   },
   "outputs": [],
   "source": [
    "test_combine = pd.merge(test,weather,on = ['date', 'station'], how = 'inner')\n",
    "test_combine.head()"
   ]
  },
  {
   "cell_type": "code",
   "execution_count": null,
   "metadata": {},
   "outputs": [],
   "source": [
    "test_combine.to_csv('test_combine.csv', index=False)"
   ]
  },
  {
   "cell_type": "code",
   "execution_count": null,
   "metadata": {
    "scrolled": true
   },
   "outputs": [],
   "source": [
    "# test_combine['stnpressure'].value_counts()"
   ]
  },
  {
   "cell_type": "markdown",
   "metadata": {},
   "source": [
    "### Data Cleaning and Feature engineering\n",
    "#### Test"
   ]
  },
  {
   "cell_type": "code",
   "execution_count": 38,
   "metadata": {},
   "outputs": [],
   "source": [
    "# Read in dataset with M as null values as per data description for weather dataset\n",
    "test_clean = pd.read_csv('test.csv', na_values = ['M', '-'])"
   ]
  },
  {
   "cell_type": "code",
   "execution_count": null,
   "metadata": {},
   "outputs": [],
   "source": [
    "# Drop the columns\n",
    "# based on data description, drop column unessacary data with majority of null\n",
    "test_clean.drop(columns=['depart','water1','depth','snowfall'],inplace=True)"
   ]
  },
  {
   "cell_type": "code",
   "execution_count": 41,
   "metadata": {},
   "outputs": [
    {
     "data": {
      "text/plain": [
       "((116293, 11), (10506, 12))"
      ]
     },
     "execution_count": 41,
     "metadata": {},
     "output_type": "execute_result"
    }
   ],
   "source": [
    "test_clean.shape, train.shape"
   ]
  },
  {
   "cell_type": "code",
   "execution_count": null,
   "metadata": {
    "scrolled": true
   },
   "outputs": [],
   "source": [
    "test_clean.isnull().sum()"
   ]
  },
  {
   "cell_type": "code",
   "execution_count": null,
   "metadata": {
    "scrolled": true
   },
   "outputs": [],
   "source": [
    "# function that change time to seconds\n",
    "def changetime(x):\n",
    "    try:\n",
    "        x = str(int(x))\n",
    "        x1 = int(x[0])*60*60\n",
    "        x2 = int(x[1:])*60\n",
    "        x = x1 + x2\n",
    "        return x\n",
    "    except:\n",
    "        return x\n",
    "    \n",
    "test_clean['sunrise'] = test_clean['sunrise'].map(lambda x: changetime(x)) # make changes on sunrise \n",
    "test_clean['sunset'] = test_clean['sunset'].map(lambda x: changetime(x))    # make changes on sunset"
   ]
  },
  {
   "cell_type": "code",
   "execution_count": null,
   "metadata": {},
   "outputs": [],
   "source": [
    "# fillna for sunset/sunrise with mean\n",
    "mean_sunset = (test_clean['sunset'].loc[test_clean['sunset'].notnull()].sum()/len(test_clean[test_clean['sunset'].notnull()]))\n",
    "mean_sunrise = (test_clean['sunrise'].loc[test_clean['sunrise'].notnull()].sum()/len(test_clean[test_clean['sunrise'].notnull()]))\n",
    "\n",
    "test_clean['sunrise'].fillna(round(mean_sunrise), inplace = True)\n",
    "test_clean['sunset'].fillna(round(mean_sunset), inplace = True)"
   ]
  },
  {
   "cell_type": "code",
   "execution_count": null,
   "metadata": {},
   "outputs": [],
   "source": [
    "# make sunset - sunrise = nighttime\n",
    "test_clean['nighttime'] = test_clean['sunset'] - test_clean['sunrise']\n",
    "test_clean['nighttime'] = test_clean['nighttime'].map(lambda x: round(x/3600))  # round it to be only hour"
   ]
  },
  {
   "cell_type": "code",
   "execution_count": null,
   "metadata": {},
   "outputs": [],
   "source": [
    "test_clean['nighttime'].value_counts()"
   ]
  },
  {
   "cell_type": "code",
   "execution_count": null,
   "metadata": {
    "scrolled": true
   },
   "outputs": [],
   "source": [
    "test_clean[['sunset','sunrise','nighttime']]"
   ]
  },
  {
   "cell_type": "code",
   "execution_count": null,
   "metadata": {},
   "outputs": [],
   "source": [
    "# after convert to nighttime, drop sunset and sunrise\n",
    "test_clean.drop(columns=['sunrise','sunset'],inplace=True)"
   ]
  },
  {
   "cell_type": "code",
   "execution_count": null,
   "metadata": {},
   "outputs": [],
   "source": [
    "# # fillna for stnpressure with the average pressure of each station\n",
    "# mask1 = test_clean['station'] ==1\n",
    "# mask2 = test_clean['station'] ==2\n",
    "\n",
    "# # Find station 1 mean station pressure\n",
    "\n",
    "# sp1 = test_clean['stnpressure'][mask1].mean()\n",
    "# sp2 = test_clean['stnpressure'][mask2].mean()\n",
    "# test_clean['stnpressure'][test_clean['station']==1 & test_clean['stnpressure'].isnull()] = sp1\n",
    "# test_clean['stnpressure'][test_clean['station']==2 & test_clean['stnpressure'].isnull()] = sp2"
   ]
  },
  {
   "cell_type": "code",
   "execution_count": null,
   "metadata": {
    "scrolled": true
   },
   "outputs": [],
   "source": [
    "test_clean['stnpressure'].value_counts()"
   ]
  },
  {
   "cell_type": "code",
   "execution_count": null,
   "metadata": {
    "scrolled": true
   },
   "outputs": [],
   "source": [
    "test_clean['preciptotal'].value_counts()"
   ]
  },
  {
   "cell_type": "code",
   "execution_count": null,
   "metadata": {},
   "outputs": [],
   "source": [
    "# T = Trace, = 0.005 inches\n",
    "# Change t to the correct value\n",
    "test_clean.loc[test_clean['preciptotal'] == '  T','preciptotal'] = '0.005'\n",
    "test_clean['preciptotal'] = test_clean['preciptotal'].astype(float)\n",
    "\n",
    "# fillna with mean\n",
    "precip_mean = test_clean['preciptotal'].mean()\n",
    "test_clean.loc[test_clean['preciptotal'].isnull(),'preciptotal'] = precip_mean"
   ]
  },
  {
   "cell_type": "code",
   "execution_count": null,
   "metadata": {
    "scrolled": true
   },
   "outputs": [],
   "source": [
    "test_clean['preciptotal'].value_counts()"
   ]
  },
  {
   "cell_type": "code",
   "execution_count": null,
   "metadata": {
    "scrolled": true
   },
   "outputs": [],
   "source": [
    "test_clean['wetbulb'].value_counts()"
   ]
  },
  {
   "cell_type": "code",
   "execution_count": null,
   "metadata": {},
   "outputs": [],
   "source": [
    "# # fillna with mean\n",
    "# wetbulb_mean = test_clean['wetbulb'].mean()\n",
    "# test_clean.loc[test_clean['wetbulb'].isnull(),'wetbulb'] = wetbulb_mean\n",
    "\n",
    "# # Change type to interger\n",
    "# test_clean['wetbulb'] = test_clean['wetbulb'].astype(int)"
   ]
  },
  {
   "cell_type": "code",
   "execution_count": null,
   "metadata": {
    "scrolled": true
   },
   "outputs": [],
   "source": [
    "test_clean.info()"
   ]
  },
  {
   "cell_type": "code",
   "execution_count": null,
   "metadata": {},
   "outputs": [],
   "source": [
    "# change date to datetime\n",
    "test_clean['date'] = pd.to_datetime(test_clean['date'])"
   ]
  },
  {
   "cell_type": "markdown",
   "metadata": {},
   "source": [
    "####  Codecum Multi-binarize (get dummies)\n",
    "##### Test"
   ]
  },
  {
   "cell_type": "code",
   "execution_count": null,
   "metadata": {},
   "outputs": [],
   "source": [
    "# Splitting the string\n",
    "for i in range(len(test_clean['codesum'])):\n",
    "    test_clean['codesum'][i] = test_clean['codesum'][i].split()"
   ]
  },
  {
   "cell_type": "code",
   "execution_count": null,
   "metadata": {},
   "outputs": [],
   "source": [
    "test_clean['codesum']"
   ]
  },
  {
   "cell_type": "code",
   "execution_count": null,
   "metadata": {},
   "outputs": [],
   "source": [
    "codesum_split = pd.DataFrame(mlb.fit_transform(test_clean['codesum']),columns='codesum_' + mlb.classes_, index=test_clean.index)"
   ]
  },
  {
   "cell_type": "code",
   "execution_count": null,
   "metadata": {},
   "outputs": [],
   "source": [
    "# get dummies for species\n",
    "test_clean = pd.get_dummies(test_clean, columns=['species'], dtype = 'int64')"
   ]
  },
  {
   "cell_type": "code",
   "execution_count": null,
   "metadata": {},
   "outputs": [],
   "source": [
    "# merge back both dataframe\n",
    "test_clean = pd.concat([test_clean, codesum_split], axis = 1, sort=False)\n",
    "test_clean.columns"
   ]
  },
  {
   "cell_type": "code",
   "execution_count": null,
   "metadata": {},
   "outputs": [],
   "source": [
    "train_model.columns"
   ]
  },
  {
   "cell_type": "code",
   "execution_count": null,
   "metadata": {},
   "outputs": [],
   "source": [
    "test_clean = test_clean.rename(columns={'codesum_FG+': 'codesum_FG'})\n",
    "test_clean.columns"
   ]
  },
  {
   "cell_type": "code",
   "execution_count": null,
   "metadata": {
    "scrolled": true
   },
   "outputs": [],
   "source": [
    "# Drop uneccesary columns\n",
    "test_clean.drop(columns=['address', 'block', 'street', 'trap','addressnumberandstreet','latitude', 'longitude',\n",
    "                         'addressaccuracy','station','heat', 'codesum','stnpressure', 'sealevel', 'resultspeed',\n",
    "                         'resultdir', 'avgspeed','species_UNSPECIFIED CULEX','codesum_BCFG'],inplace=True)\n",
    "# Fillna \n",
    "test_clean.fillna(value = 0, inplace = True)\n",
    "test_clean.info()"
   ]
  },
  {
   "cell_type": "code",
   "execution_count": null,
   "metadata": {},
   "outputs": [],
   "source": [
    "train_model.shape"
   ]
  },
  {
   "cell_type": "code",
   "execution_count": null,
   "metadata": {},
   "outputs": [],
   "source": [
    "test_clean.shape"
   ]
  },
  {
   "cell_type": "code",
   "execution_count": null,
   "metadata": {},
   "outputs": [],
   "source": [
    "test_clean.to_csv('test_final.csv', index=False)"
   ]
  },
  {
   "cell_type": "code",
   "execution_count": null,
   "metadata": {},
   "outputs": [],
   "source": [
    "X_train.shape"
   ]
  },
  {
   "cell_type": "code",
   "execution_count": null,
   "metadata": {},
   "outputs": [],
   "source": [
    "X_predict = test_clean.drop(columns=['id'])\n",
    "X_predict['date'] = pd.to_datetime(X_predict['date'])\n",
    "X_predict.set_index('date', inplace=True)\n",
    "X_predict.shape"
   ]
  },
  {
   "cell_type": "code",
   "execution_count": null,
   "metadata": {},
   "outputs": [],
   "source": [
    "X_predict.columns = X_predict.columns.sort_values()"
   ]
  },
  {
   "cell_type": "code",
   "execution_count": null,
   "metadata": {},
   "outputs": [],
   "source": [
    "pipe_4.fit(X_train,y_train)\n",
    "#     df['pred_probs'] = pipe_num.predict_proba(X_test)"
   ]
  },
  {
   "cell_type": "code",
   "execution_count": null,
   "metadata": {},
   "outputs": [],
   "source": [
    "preds = pipe_4.predict(X_predict)\n",
    "preds"
   ]
  },
  {
   "cell_type": "code",
   "execution_count": null,
   "metadata": {},
   "outputs": [],
   "source": [
    "testing_submission = pd.DataFrame({'Id': test_clean['id'],'wnvpresent':preds})\n",
    "testing_submission.head()"
   ]
  },
  {
   "cell_type": "code",
   "execution_count": null,
   "metadata": {},
   "outputs": [],
   "source": [
    "testing_submission.to_csv('testing_submission.csv', index=False)"
   ]
  },
  {
   "cell_type": "markdown",
   "metadata": {},
   "source": [
    "### Trying with the gridsearch model"
   ]
  },
  {
   "cell_type": "code",
   "execution_count": null,
   "metadata": {},
   "outputs": [],
   "source": [
    "gs_model.fit(X_train,y_train)"
   ]
  },
  {
   "cell_type": "code",
   "execution_count": null,
   "metadata": {},
   "outputs": [],
   "source": [
    "preds_gs = gs_model.predict(X_predict)\n",
    "preds_gs"
   ]
  },
  {
   "cell_type": "code",
   "execution_count": null,
   "metadata": {},
   "outputs": [],
   "source": [
    "gstesting_submission = pd.DataFrame({'Id': test_clean['id'],'wnvpresent':preds_gs})\n",
    "gstesting_submission.head()"
   ]
  },
  {
   "cell_type": "code",
   "execution_count": null,
   "metadata": {},
   "outputs": [],
   "source": [
    "gstesting_submission.to_csv('gstesting_submission.csv', index=False)"
   ]
  },
  {
   "cell_type": "code",
   "execution_count": null,
   "metadata": {},
   "outputs": [],
   "source": []
  }
 ],
 "metadata": {
  "kernelspec": {
   "display_name": "Python 3",
   "language": "python",
   "name": "python3"
  },
  "language_info": {
   "codemirror_mode": {
    "name": "ipython",
    "version": 3
   },
   "file_extension": ".py",
   "mimetype": "text/x-python",
   "name": "python",
   "nbconvert_exporter": "python",
   "pygments_lexer": "ipython3",
   "version": "3.7.6"
  }
 },
 "nbformat": 4,
 "nbformat_minor": 4
}
