{
 "cells": [
  {
   "cell_type": "code",
   "execution_count": 1,
   "metadata": {},
   "outputs": [],
   "source": [
    "import pandas as pd\n",
    "import numpy as np\n",
    "import seaborn as sns\n",
    "import matplotlib.pyplot as plt\n"
   ]
  },
  {
   "cell_type": "code",
   "execution_count": 2,
   "metadata": {},
   "outputs": [],
   "source": [
    "# train = pd.read_csv('train_combine.csv', na_values= ['M', '-'])\n",
    "# train.drop(columns=['depart','water1','depth','snowfall'],inplace=True)"
   ]
  },
  {
   "cell_type": "code",
   "execution_count": 3,
   "metadata": {},
   "outputs": [],
   "source": [
    "# def changetime(x):\n",
    "#     try:\n",
    "#         x = str(int(x))\n",
    "#         x1 = int(x[0])*60*60\n",
    "#         x2 = int(x[1:])*60\n",
    "#         x = x1 + x2\n",
    "#         return x\n",
    "#     except:\n",
    "#         return x\n",
    "    \n",
    "# train['sunrise'] = train['sunrise'].map(lambda x: changetime(x))\n",
    "# train['sunset'] = train['sunset'].map(lambda x: changetime(x))\n",
    "\n",
    "# mean_sunset = (train['sunset'].loc[train['sunset'].notnull()].sum()/len(train[train['sunset'].notnull()]))\n",
    "# mean_sunrise = (train['sunrise'].loc[train['sunrise'].notnull()].sum()/len(train[train['sunrise'].notnull()]))\n",
    "\n",
    "# train['sunrise'].fillna(round(mean_sunrise), inplace = True)\n",
    "# train['sunset'].fillna(round(mean_sunset), inplace = True)\n",
    "\n",
    "# train['daylighthours'] = train['sunset'] - train['sunrise']\n",
    "# train['daylighthours'] = train['daylighthours'].map(lambda x: round(x/3600))\n",
    "\n",
    "\n",
    "# train.drop(columns=['sunrise','sunset'],inplace=True)"
   ]
  },
  {
   "cell_type": "code",
   "execution_count": 4,
   "metadata": {},
   "outputs": [],
   "source": [
    "\n",
    "# wetbulb_mean=train['wetbulb'].mean()\n",
    "# train.loc[train['wetbulb'].isnull(),'wetbulb'] = wetbulb_mean\n",
    "\n",
    "# train.loc[train['preciptotal'] == '  T','preciptotal'] = '0.005'\n",
    "# train.preciptotal = train.preciptotal.astype(float)"
   ]
  },
  {
   "cell_type": "code",
   "execution_count": 5,
   "metadata": {},
   "outputs": [],
   "source": [
    "# precip_mean = train['preciptotal'].mean()\n",
    "# train.loc[train['preciptotal'].isnull(),'preciptotal'] = precip_mean"
   ]
  },
  {
   "cell_type": "code",
   "execution_count": 6,
   "metadata": {},
   "outputs": [],
   "source": [
    "# # impute stnpressure from kevin\n",
    "# mask1 = train['station'] ==1\n",
    "# mask2 = train['station'] ==2\n",
    "# # Find station 1 mean station pressure\n",
    "# sp1 = train['stnpressure'][mask1].mean()\n",
    "# sp2 = train['stnpressure'][mask2].mean()\n",
    "# train['stnpressure'][train['station']==1 & train['stnpressure'].isnull()] = sp1\n",
    "# train['stnpressure'][train['station']==2 & train['stnpressure'].isnull()] = sp2"
   ]
  },
  {
   "cell_type": "code",
   "execution_count": 7,
   "metadata": {},
   "outputs": [],
   "source": [
    "# train.info()"
   ]
  },
  {
   "cell_type": "code",
   "execution_count": 8,
   "metadata": {},
   "outputs": [],
   "source": [
    "# train.wetbulb = train.wetbulb.astype(int)\n",
    "# train.date = pd.to_datetime(train.date)"
   ]
  },
  {
   "cell_type": "code",
   "execution_count": 9,
   "metadata": {},
   "outputs": [],
   "source": [
    "# train.info()"
   ]
  },
  {
   "cell_type": "code",
   "execution_count": 10,
   "metadata": {},
   "outputs": [],
   "source": [
    "# train.to_csv('train_cleaned.csv', index=False)"
   ]
  },
  {
   "cell_type": "code",
   "execution_count": 11,
   "metadata": {},
   "outputs": [],
   "source": [
    "# train.set_index(pd.DatetimeIndex(train['date']), inplace = True)\n",
    "# train.drop(columns = ['date'], inplace = True)\n",
    "\n",
    "# def plot_series(df, cols=None, title='Title', xlab=None, ylab=None, steps=1):\n",
    "    \n",
    "#     # Set figure size to be (18, 9).\n",
    "#     plt.figure(figsize=(18,3))\n",
    "    \n",
    "#     # Iterate through each column name.\n",
    "#     for col in cols:\n",
    "            \n",
    "#         # Generate a line plot of the column name.\n",
    "#         # You only have to specify Y, since our\n",
    "#         # index will be a datetime index.\n",
    "#         plt.plot(df[col])\n",
    "        \n",
    "#     # Generate title and labels.\n",
    "#     plt.title(title, fontsize=26)\n",
    "#     plt.xlabel(xlab, fontsize=20)\n",
    "#     plt.ylabel(ylab, fontsize=20)\n",
    "    \n",
    "#     # Enlarge tick marks.\n",
    "#     plt.yticks(fontsize=18)\n",
    "#     plt.xticks(df.index[0::steps], fontsize=8, rotation = 'vertical');"
   ]
  },
  {
   "cell_type": "code",
   "execution_count": 12,
   "metadata": {},
   "outputs": [],
   "source": [
    "### START FROM HERE ###"
   ]
  },
  {
   "cell_type": "code",
   "execution_count": 13,
   "metadata": {},
   "outputs": [],
   "source": [
    "train = pd.read_csv('prak.csv')"
   ]
  },
  {
   "cell_type": "code",
   "execution_count": 14,
   "metadata": {},
   "outputs": [
    {
     "name": "stdout",
     "output_type": "stream",
     "text": [
      "<class 'pandas.core.frame.DataFrame'>\n",
      "RangeIndex: 8475 entries, 0 to 8474\n",
      "Data columns (total 25 columns):\n",
      " #   Column                          Non-Null Count  Dtype  \n",
      "---  ------                          --------------  -----  \n",
      " 0   date                            8475 non-null   object \n",
      " 1   wnvpresent                      8475 non-null   int64  \n",
      " 2   tmax                            8475 non-null   int64  \n",
      " 3   tmin                            8475 non-null   int64  \n",
      " 4   tavg                            8475 non-null   int64  \n",
      " 5   dewpoint                        8475 non-null   int64  \n",
      " 6   wetbulb                         8475 non-null   int64  \n",
      " 7   cool                            8475 non-null   int64  \n",
      " 8   preciptotal                     8475 non-null   float64\n",
      " 9   daylighthours                   8475 non-null   int64  \n",
      " 10  species_CULEX ERRATICUS         8475 non-null   int64  \n",
      " 11  species_CULEX PIPIENS           8475 non-null   int64  \n",
      " 12  species_CULEX PIPIENS/RESTUANS  8475 non-null   int64  \n",
      " 13  species_CULEX RESTUANS          8475 non-null   int64  \n",
      " 14  species_CULEX SALINARIUS        8475 non-null   int64  \n",
      " 15  species_CULEX TARSALIS          8475 non-null   int64  \n",
      " 16  species_CULEX TERRITANS         8475 non-null   int64  \n",
      " 17  codesum_BR                      8475 non-null   int64  \n",
      " 18  codesum_DZ                      8475 non-null   int64  \n",
      " 19  codesum_FG                      8475 non-null   int64  \n",
      " 20  codesum_HZ                      8475 non-null   int64  \n",
      " 21  codesum_RA                      8475 non-null   int64  \n",
      " 22  codesum_TS                      8475 non-null   int64  \n",
      " 23  codesum_TSRA                    8475 non-null   int64  \n",
      " 24  codesum_VCTS                    8475 non-null   int64  \n",
      "dtypes: float64(1), int64(23), object(1)\n",
      "memory usage: 1.6+ MB\n"
     ]
    }
   ],
   "source": [
    "train.head()\n",
    "train.info()"
   ]
  },
  {
   "cell_type": "code",
   "execution_count": 15,
   "metadata": {},
   "outputs": [],
   "source": [
    "X=train.drop(columns=['wnvpresent',\"date\"])\n",
    "y=train['wnvpresent']"
   ]
  },
  {
   "cell_type": "code",
   "execution_count": 16,
   "metadata": {},
   "outputs": [],
   "source": [
    "# X['date'] = pd.to_datetime(X['date'])\n",
    "# X.set_index('date', inplace=True)"
   ]
  },
  {
   "cell_type": "code",
   "execution_count": 17,
   "metadata": {},
   "outputs": [],
   "source": [
    "from sklearn.svm import SVC\n",
    "from sklearn.linear_model import SGDClassifier\n",
    "from sklearn.preprocessing import MinMaxScaler, StandardScaler, RobustScaler\n",
    "\n",
    "from sklearn.linear_model import LogisticRegression\n",
    "from sklearn.model_selection import train_test_split\n",
    "from sklearn.metrics import matthews_corrcoef, plot_confusion_matrix,accuracy_score,plot_roc_curve\n",
    "from imblearn.over_sampling import SMOTE\n",
    "from imblearn.pipeline import Pipeline\n",
    "\n",
    "from sklearn.naive_bayes import GaussianNB\n",
    "from sklearn.ensemble import RandomForestClassifier\n",
    "from xgboost import XGBClassifier, XGBRFClassifier\n",
    "\n",
    "from tensorflow.keras.layers import Dense\n",
    "from tensorflow.keras import Sequential\n",
    "\n"
   ]
  },
  {
   "cell_type": "code",
   "execution_count": 18,
   "metadata": {},
   "outputs": [],
   "source": [
    "# train_model = pd.get_dummies(train_model, columns=['species','codesum'])"
   ]
  },
  {
   "cell_type": "code",
   "execution_count": 19,
   "metadata": {},
   "outputs": [],
   "source": [
    "# train_model.drop(columns=['date','address','block','street','trap','addressnumberandstreet','codesum_ ',\n",
    "#                           \"addressaccuracy\",'station','tmax',\"tmin\",'dewpoint','wetbulb','heat', 'total_mosquitos',\n",
    "#                           'cool'],inplace=True)"
   ]
  },
  {
   "cell_type": "code",
   "execution_count": 20,
   "metadata": {},
   "outputs": [],
   "source": [
    "X_train,X_test,y_train,y_test = train_test_split(X,y,random_state=42, stratify=y,test_size=0.2)"
   ]
  },
  {
   "cell_type": "code",
   "execution_count": 21,
   "metadata": {},
   "outputs": [
    {
     "data": {
      "text/plain": [
       "((6780, 23), (1695, 23))"
      ]
     },
     "execution_count": 21,
     "metadata": {},
     "output_type": "execute_result"
    }
   ],
   "source": [
    "X_train.shape, X_test.shape"
   ]
  },
  {
   "cell_type": "code",
   "execution_count": 123,
   "metadata": {},
   "outputs": [],
   "source": [
    "def run_model(df,pipe_num,X_train,X_test,y_train,y_test):\n",
    "    \n",
    "    pipe_num.fit(X_train,y_train)\n",
    "#     df['pred_probs'] = pipe_num.predict_proba(X_test)\n",
    "    preds = pipe_num.predict(X_test)\n",
    "    \n",
    "    print(\"MCC score: \",matthews_corrcoef(y_test,preds))\n",
    "    print(\"Accuracy score: \",pipe_num.score(X_test,y_test))\n",
    "    plot_confusion_matrix(pipe_num,X_test,y_test)\n",
    "    plot_roc_curve(pipe_num,X_test,y_test)\n",
    "    \n"
   ]
  },
  {
   "cell_type": "code",
   "execution_count": 72,
   "metadata": {},
   "outputs": [],
   "source": [
    "# pipe_1 = Pipeline(('ss', StandardScaler()),\n",
    "#                         ('sgd', SGDClassifier(max_iter=1000, tol=1e-3))\n",
    "#                         )\n",
    "# )\n",
    "\n",
    "# pipe_2 = Pipeline([\n",
    "#         ('scale', StandardScaler()),\n",
    "#         ('sampling', SMOTE(k_neighbors=6)),\n",
    "#         ('svc', SVC(C=1.0,kernel='poly',degree=3))])\n",
    "\n",
    "# GOOD MODEL, BUT TUNE MORE\n",
    "pipe_3 = Pipeline([\n",
    "        ('sampling', SMOTE(random_state=42, k_neighbors=15)),\n",
    "        ('RF', RandomForestClassifier(n_estimators=60) )])\n",
    "\n",
    "\n",
    "# BEST MODEL, BUT TUNE MORE\n",
    "pipe_4 = Pipeline([\n",
    "        ('sampling', SMOTE(random_state=42, k_neighbors=15)),\n",
    "        ('xgb', XGBClassifier(n_estimators=50,learning_rate=0.01))])"
   ]
  },
  {
   "cell_type": "code",
   "execution_count": 70,
   "metadata": {},
   "outputs": [
    {
     "name": "stdout",
     "output_type": "stream",
     "text": [
      "MCC score:  0.23957397182856396\n",
      "Accuracy score:  0.9038348082595871\n"
     ]
    },
    {
     "data": {
      "image/png": "[encoded data removed]",
      "text/plain": [
       "<Figure size 576x396 with 2 Axes>"
      ]
     },
     "metadata": {},
     "output_type": "display_data"
    },
    {
     "data": {
      "image/png": "[encoded data removed]",
      "text/plain": [
       "<Figure size 576x396 with 1 Axes>"
      ]
     },
     "metadata": {},
     "output_type": "display_data"
    }
   ],
   "source": [
    "run_model(train_model,pipe_3,X_train,X_test,y_train,y_test)"
   ]
  },
  {
   "cell_type": "code",
   "execution_count": 71,
   "metadata": {},
   "outputs": [
    {
     "name": "stdout",
     "output_type": "stream",
     "text": [
      "MCC score:  0.1468278051375416\n",
      "Accuracy score:  0.8625368731563422\n"
     ]
    },
    {
     "data": {
      "image/png": "[encoded data removed]",
      "text/plain": [
       "<Figure size 576x396 with 2 Axes>"
      ]
     },
     "metadata": {},
     "output_type": "display_data"
    },
    {
     "data": {
      "image/png": "[encoded data removed]",
      "text/plain": [
       "<Figure size 576x396 with 1 Axes>"
      ]
     },
     "metadata": {},
     "output_type": "display_data"
    }
   ],
   "source": [
    "run_model(train_model,pipe_4,X_train,X_test,y_train,y_test)"
   ]
  },
  {
   "cell_type": "code",
   "execution_count": 23,
   "metadata": {},
   "outputs": [],
   "source": [
    "rs = RobustScaler()\n",
    "X_train_rs = rs.fit_transform(X_train)\n",
    "X_test_rs = rs.transform(X_test)"
   ]
  },
  {
   "cell_type": "code",
   "execution_count": 35,
   "metadata": {},
   "outputs": [],
   "source": [
    "model = Sequential()\n",
    "model.add(Dense(23,\n",
    "                input_dim=23,\n",
    "                activation='relu'))\n",
    "model.add(Dense(1,\n",
    "               activation='sigmoid'))"
   ]
  },
  {
   "cell_type": "code",
   "execution_count": 36,
   "metadata": {},
   "outputs": [],
   "source": [
    "model.compile(loss='binary_crossentropy', optimizer='adam', metrics='acc')"
   ]
  },
  {
   "cell_type": "code",
   "execution_count": 37,
   "metadata": {},
   "outputs": [
    {
     "name": "stdout",
     "output_type": "stream",
     "text": [
      "Epoch 1/5\n",
      "1130/1130 [==============================] - 1s 809us/step - loss: 0.2024 - acc: 0.9524 - val_loss: 0.1608 - val_acc: 0.9563\n",
      "Epoch 2/5\n",
      "1130/1130 [==============================] - 1s 771us/step - loss: 0.1635 - acc: 0.9563 - val_loss: 0.1569 - val_acc: 0.9563\n",
      "Epoch 3/5\n",
      "1130/1130 [==============================] - 1s 763us/step - loss: 0.1590 - acc: 0.9563 - val_loss: 0.1567 - val_acc: 0.9563\n",
      "Epoch 4/5\n",
      "1130/1130 [==============================] - 1s 780us/step - loss: 0.1582 - acc: 0.9563 - val_loss: 0.1553 - val_acc: 0.9563\n",
      "Epoch 5/5\n",
      "1130/1130 [==============================] - 1s 768us/step - loss: 0.1566 - acc: 0.9563 - val_loss: 0.1541 - val_acc: 0.9563\n"
     ]
    }
   ],
   "source": [
    "history = model.fit(X_train_rs, y_train, validation_data=(X_test_rs,y_test), epochs=5, batch_size=6)"
   ]
  },
  {
   "cell_type": "code",
   "execution_count": null,
   "metadata": {},
   "outputs": [],
   "source": [
    "train"
   ]
  },
  {
   "cell_type": "code",
   "execution_count": null,
   "metadata": {},
   "outputs": [],
   "source": []
  },
  {
   "cell_type": "code",
   "execution_count": null,
   "metadata": {},
   "outputs": [],
   "source": []
  },
  {
   "cell_type": "code",
   "execution_count": 43,
   "metadata": {},
   "outputs": [
    {
     "ename": "ValueError",
     "evalue": "operands could not be broadcast together with shapes (1,15) (23,) (1,15) ",
     "output_type": "error",
     "traceback": [
      "\u001b[0;31m---------------------------------------------------------------------------\u001b[0m",
      "\u001b[0;31mValueError\u001b[0m                                Traceback (most recent call last)",
      "\u001b[0;32m<ipython-input-43-03a8aec5a0cb>\u001b[0m in \u001b[0;36m<module>\u001b[0;34m\u001b[0m\n\u001b[1;32m      1\u001b[0m \u001b[0ma\u001b[0m \u001b[0;34m=\u001b[0m \u001b[0mmodel\u001b[0m\u001b[0;34m.\u001b[0m\u001b[0mpredict\u001b[0m\u001b[0;34m(\u001b[0m\u001b[0mX_test_rs\u001b[0m\u001b[0;34m)\u001b[0m\u001b[0;34m[\u001b[0m\u001b[0;36m140\u001b[0m\u001b[0;34m:\u001b[0m\u001b[0;36m155\u001b[0m\u001b[0;34m]\u001b[0m\u001b[0;34m\u001b[0m\u001b[0;34m\u001b[0m\u001b[0m\n\u001b[0;32m----> 2\u001b[0;31m \u001b[0mrs\u001b[0m\u001b[0;34m.\u001b[0m\u001b[0minverse_transform\u001b[0m\u001b[0;34m(\u001b[0m\u001b[0ma\u001b[0m\u001b[0;34m.\u001b[0m\u001b[0mreshape\u001b[0m\u001b[0;34m(\u001b[0m\u001b[0;34m-\u001b[0m\u001b[0;36m1\u001b[0m\u001b[0;34m,\u001b[0m \u001b[0;36m15\u001b[0m\u001b[0;34m)\u001b[0m\u001b[0;34m)\u001b[0m\u001b[0;34m\u001b[0m\u001b[0;34m\u001b[0m\u001b[0m\n\u001b[0m",
      "\u001b[0;32m~/opt/anaconda3/lib/python3.7/site-packages/sklearn/preprocessing/_data.py\u001b[0m in \u001b[0;36minverse_transform\u001b[0;34m(self, X)\u001b[0m\n\u001b[1;32m   1280\u001b[0m         \u001b[0;32melse\u001b[0m\u001b[0;34m:\u001b[0m\u001b[0;34m\u001b[0m\u001b[0;34m\u001b[0m\u001b[0m\n\u001b[1;32m   1281\u001b[0m             \u001b[0;32mif\u001b[0m \u001b[0mself\u001b[0m\u001b[0;34m.\u001b[0m\u001b[0mwith_scaling\u001b[0m\u001b[0;34m:\u001b[0m\u001b[0;34m\u001b[0m\u001b[0;34m\u001b[0m\u001b[0m\n\u001b[0;32m-> 1282\u001b[0;31m                 \u001b[0mX\u001b[0m \u001b[0;34m*=\u001b[0m \u001b[0mself\u001b[0m\u001b[0;34m.\u001b[0m\u001b[0mscale_\u001b[0m\u001b[0;34m\u001b[0m\u001b[0;34m\u001b[0m\u001b[0m\n\u001b[0m\u001b[1;32m   1283\u001b[0m             \u001b[0;32mif\u001b[0m \u001b[0mself\u001b[0m\u001b[0;34m.\u001b[0m\u001b[0mwith_centering\u001b[0m\u001b[0;34m:\u001b[0m\u001b[0;34m\u001b[0m\u001b[0;34m\u001b[0m\u001b[0m\n\u001b[1;32m   1284\u001b[0m                 \u001b[0mX\u001b[0m \u001b[0;34m+=\u001b[0m \u001b[0mself\u001b[0m\u001b[0;34m.\u001b[0m\u001b[0mcenter_\u001b[0m\u001b[0;34m\u001b[0m\u001b[0;34m\u001b[0m\u001b[0m\n",
      "\u001b[0;31mValueError\u001b[0m: operands could not be broadcast together with shapes (1,15) (23,) (1,15) "
     ]
    }
   ],
   "source": [
    "a = model.predict(X_test_rs)[140:155]\n",
    "rs.inverse_transform(a.reshape(-1, 15))"
   ]
  },
  {
   "cell_type": "code",
   "execution_count": 27,
   "metadata": {},
   "outputs": [
    {
     "data": {
      "text/plain": [
       "3094    0\n",
       "1869    1\n",
       "6740    0\n",
       "341     0\n",
       "6204    0\n",
       "663     0\n",
       "5752    0\n",
       "2114    0\n",
       "6952    0\n",
       "3920    0\n",
       "4980    0\n",
       "1592    1\n",
       "7395    0\n",
       "2174    0\n",
       "6219    0\n",
       "Name: wnvpresent, dtype: int64"
      ]
     },
     "execution_count": 27,
     "metadata": {},
     "output_type": "execute_result"
    }
   ],
   "source": [
    "y_test[140:155]"
   ]
  },
  {
   "cell_type": "code",
   "execution_count": null,
   "metadata": {},
   "outputs": [],
   "source": []
  }
 ],
 "metadata": {
  "kernelspec": {
   "display_name": "Python 3",
   "language": "python",
   "name": "python3"
  },
  "language_info": {
   "codemirror_mode": {
    "name": "ipython",
    "version": 3
   },
   "file_extension": ".py",
   "mimetype": "text/x-python",
   "name": "python",
   "nbconvert_exporter": "python",
   "pygments_lexer": "ipython3",
   "version": "3.7.6"
  }
 },
 "nbformat": 4,
 "nbformat_minor": 4
}
